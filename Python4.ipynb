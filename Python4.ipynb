{
  "nbformat": 4,
  "nbformat_minor": 0,
  "metadata": {
    "colab": {
      "provenance": [],
      "authorship_tag": "ABX9TyOdrTmeM5RAsj+w3dbuY7e4",
      "include_colab_link": true
    },
    "kernelspec": {
      "name": "python3",
      "display_name": "Python 3"
    },
    "language_info": {
      "name": "python"
    }
  },
  "cells": [
    {
      "cell_type": "markdown",
      "metadata": {
        "id": "view-in-github",
        "colab_type": "text"
      },
      "source": [
        "<a href=\"https://colab.research.google.com/github/ayushiiii28/Meta-Scifor/blob/main/Python4.ipynb\" target=\"_parent\"><img src=\"https://colab.research.google.com/assets/colab-badge.svg\" alt=\"Open In Colab\"/></a>"
      ]
    },
    {
      "cell_type": "code",
      "source": [
        "#A function is a block of code which only runs when it is called.\n",
        "#You can pass data, known as parameters, into a function.\n",
        "#A function can return data as a result.\n",
        "def my_function():\n",
        "  print(\"Hello from a function\")\n",
        "\n"
      ],
      "metadata": {
        "id": "ZPM4ZcVgNwtz"
      },
      "execution_count": 2,
      "outputs": []
    },
    {
      "cell_type": "code",
      "source": [
        "a=my_function()\n",
        "print(a)"
      ],
      "metadata": {
        "colab": {
          "base_uri": "https://localhost:8080/"
        },
        "id": "jx5MYM-wORso",
        "outputId": "e350a50a-dc6a-4540-edc4-66001c9e021d"
      },
      "execution_count": 3,
      "outputs": [
        {
          "output_type": "stream",
          "name": "stdout",
          "text": [
            "Hello from a function\n",
            "None\n"
          ]
        }
      ]
    },
    {
      "cell_type": "code",
      "source": [
        "#functions\n",
        "def add_numbers(x, y):\n",
        "  return x + y"
      ],
      "metadata": {
        "id": "QIeMNoQ9OBpS"
      },
      "execution_count": 1,
      "outputs": []
    },
    {
      "cell_type": "code",
      "source": [
        "#use of return statement return allow a function to \"return\" a result that can then be stored\n",
        "#in a variable, or used in whatever manner a user wants.\n",
        "result = add_numbers(4, 5)\n",
        "print(result)"
      ],
      "metadata": {
        "colab": {
          "base_uri": "https://localhost:8080/"
        },
        "id": "waGTF_4VOfox",
        "outputId": "1d01295e-883f-48d9-ac66-0836e1d0bf11"
      },
      "execution_count": 4,
      "outputs": [
        {
          "output_type": "stream",
          "name": "stdout",
          "text": [
            "9\n"
          ]
        }
      ]
    },
    {
      "cell_type": "code",
      "source": [
        "#with branching\n",
        "def add_numbers(x, y):\n",
        "  if x >= y:\n",
        "    return x + y\n",
        "  else:\n",
        "    return y - x\n",
        "a=add_numbers(4, 5)\n",
        "print(a)"
      ],
      "metadata": {
        "colab": {
          "base_uri": "https://localhost:8080/"
        },
        "id": "M_VNM3snOgnq",
        "outputId": "9b693bda-c153-40e2-9803-d3856e64353a"
      },
      "execution_count": 6,
      "outputs": [
        {
          "output_type": "stream",
          "name": "stdout",
          "text": [
            "1\n"
          ]
        }
      ]
    },
    {
      "cell_type": "code",
      "source": [
        "#function with multiple arguments\n",
        "def multiply_numbers(x, y):\n",
        "  return x * y\n"
      ],
      "metadata": {
        "id": "JDUQJ0QCOn6M"
      },
      "execution_count": 7,
      "outputs": []
    },
    {
      "cell_type": "code",
      "source": [
        "#lambda function is used for quick calculation and for one time.\n",
        "add_num=lambda y:y+30\n",
        "add_num(40)"
      ],
      "metadata": {
        "colab": {
          "base_uri": "https://localhost:8080/"
        },
        "id": "sU0t63xvO1SY",
        "outputId": "1cb08391-709c-4d8b-fbcd-3e2f4101b22e"
      },
      "execution_count": 9,
      "outputs": [
        {
          "output_type": "execute_result",
          "data": {
            "text/plain": [
              "70"
            ]
          },
          "metadata": {},
          "execution_count": 9
        }
      ]
    },
    {
      "cell_type": "code",
      "source": [
        "multi_num=lambda x,y:x*y #multiple arguments\n",
        "multi_num(20,30)"
      ],
      "metadata": {
        "colab": {
          "base_uri": "https://localhost:8080/"
        },
        "id": "zFcgnt9HPAdI",
        "outputId": "7ee849d5-5427-4dff-f81c-70615de57aea"
      },
      "execution_count": 11,
      "outputs": [
        {
          "output_type": "execute_result",
          "data": {
            "text/plain": [
              "600"
            ]
          },
          "metadata": {},
          "execution_count": 11
        }
      ]
    },
    {
      "cell_type": "code",
      "source": [
        "#args take multiple input in the place of function arguments.\n",
        "def add_numbers(*args):\n",
        "  sum = 0\n",
        "  for num in args:\n",
        "    sum += num\n",
        "  return sum"
      ],
      "metadata": {
        "id": "VL1iRaTyPAfq"
      },
      "execution_count": 12,
      "outputs": []
    },
    {
      "cell_type": "code",
      "source": [
        "#kwargs means Key word arguments, it meaning is result giving same as dictionary.\n",
        "def print_kwargs(**kwargs):\n",
        "  print(kwargs)"
      ],
      "metadata": {
        "id": "DC04i-jpPQLV"
      },
      "execution_count": 13,
      "outputs": []
    },
    {
      "cell_type": "code",
      "source": [
        "#string indexing is method of slice the the string where from we want.\n",
        "a=\"I am Ayushi Sharma\"\n",
        "print(a[0])"
      ],
      "metadata": {
        "colab": {
          "base_uri": "https://localhost:8080/"
        },
        "id": "dteW-lVyPWM2",
        "outputId": "0095eaaa-8329-429e-a29c-8f6a5aa81928"
      },
      "execution_count": 14,
      "outputs": [
        {
          "output_type": "stream",
          "name": "stdout",
          "text": [
            "I\n"
          ]
        }
      ]
    },
    {
      "cell_type": "code",
      "source": [
        "a[1:8]"
      ],
      "metadata": {
        "colab": {
          "base_uri": "https://localhost:8080/",
          "height": 36
        },
        "id": "VD0kPYEBPmud",
        "outputId": "ff3f2649-2c10-406f-f3e7-f030a4685e1f"
      },
      "execution_count": 15,
      "outputs": [
        {
          "output_type": "execute_result",
          "data": {
            "text/plain": [
              "' am Ayu'"
            ],
            "application/vnd.google.colaboratory.intrinsic+json": {
              "type": "string"
            }
          },
          "metadata": {},
          "execution_count": 15
        }
      ]
    },
    {
      "cell_type": "code",
      "source": [
        "# Map is a function , map () is a built-in function in Python that allows you to process and transform  all the items in an iterable without using a loop.\n",
        "def square(x):\n",
        "  return x ** 2\n",
        "numbers = (1, 2, 3, 4)\n",
        "squared_numbers = map(square, numbers)\n",
        "print(list(squared_numbers))"
      ],
      "metadata": {
        "colab": {
          "base_uri": "https://localhost:8080/"
        },
        "id": "77v4ploaPvQg",
        "outputId": "a7f1fc12-f84f-4437-ecc6-e08da9580e7a"
      },
      "execution_count": 17,
      "outputs": [
        {
          "output_type": "stream",
          "name": "stdout",
          "text": [
            "[1, 4, 9, 16]\n"
          ]
        }
      ]
    },
    {
      "cell_type": "code",
      "source": [
        "#The filter () function returns an iterator were the items are filtered\n",
        "def filter_marks(marks):\n",
        "    if marks<35:\n",
        "        return (marks)\n",
        "score=[47,58,69,14,25,33,34,33,33,34,33]\n",
        "failed=list(filter(filter_marks,score))\n",
        "print(failed)"
      ],
      "metadata": {
        "colab": {
          "base_uri": "https://localhost:8080/"
        },
        "id": "4oNZeRdAPvS2",
        "outputId": "8df9eb35-8c3f-4c7c-c62b-25bc6ae6da98"
      },
      "execution_count": 18,
      "outputs": [
        {
          "output_type": "stream",
          "name": "stdout",
          "text": [
            "[14, 25, 33, 34, 33, 33, 34, 33]\n"
          ]
        }
      ]
    }
  ]
}