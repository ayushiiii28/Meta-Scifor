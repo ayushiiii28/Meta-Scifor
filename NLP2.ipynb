{
  "nbformat": 4,
  "nbformat_minor": 0,
  "metadata": {
    "colab": {
      "provenance": [],
      "authorship_tag": "ABX9TyMqTD+C+gaWsiUp16JuueR7",
      "include_colab_link": true
    },
    "kernelspec": {
      "name": "python3",
      "display_name": "Python 3"
    },
    "language_info": {
      "name": "python"
    }
  },
  "cells": [
    {
      "cell_type": "markdown",
      "metadata": {
        "id": "view-in-github",
        "colab_type": "text"
      },
      "source": [
        "<a href=\"https://colab.research.google.com/github/ayushiiii28/Meta-Scifor/blob/main/NLP2.ipynb\" target=\"_parent\"><img src=\"https://colab.research.google.com/assets/colab-badge.svg\" alt=\"Open In Colab\"/></a>"
      ]
    },
    {
      "cell_type": "code",
      "execution_count": 6,
      "metadata": {
        "id": "ZDGoguk8EYxD"
      },
      "outputs": [],
      "source": [
        "#Text Blob: Simplified Text Processing\n",
        "from textblob import TextBlob"
      ]
    },
    {
      "cell_type": "code",
      "source": [
        "wiki = TextBlob(\"I love Natural Language Processing, not you!\")\n",
        "wiki.tags"
      ],
      "metadata": {
        "colab": {
          "base_uri": "https://localhost:8080/"
        },
        "id": "ML0DlJ72Enfv",
        "outputId": "8c0befaf-5eee-4068-c890-5b5c9156e01e"
      },
      "execution_count": 9,
      "outputs": [
        {
          "output_type": "execute_result",
          "data": {
            "text/plain": [
              "[('I', 'PRP'),\n",
              " ('love', 'VBP'),\n",
              " ('Natural', 'JJ'),\n",
              " ('Language', 'NNP'),\n",
              " ('Processing', 'NNP'),\n",
              " ('not', 'RB'),\n",
              " ('you', 'PRP')]"
            ]
          },
          "metadata": {},
          "execution_count": 9
        }
      ]
    },
    {
      "cell_type": "code",
      "source": [
        "wiki.noun_phrases"
      ],
      "metadata": {
        "colab": {
          "base_uri": "https://localhost:8080/"
        },
        "id": "hcdzKskIFaDP",
        "outputId": "1fe2fc80-7217-4ae4-daa9-f3cab0746093"
      },
      "execution_count": 10,
      "outputs": [
        {
          "output_type": "execute_result",
          "data": {
            "text/plain": [
              "WordList(['language processing'])"
            ]
          },
          "metadata": {},
          "execution_count": 10
        }
      ]
    },
    {
      "cell_type": "code",
      "source": [
        "testimonial = TextBlob(\"Textblob is amazingly simple to use. What great fun!\")\n",
        "testimonial.sentiment"
      ],
      "metadata": {
        "colab": {
          "base_uri": "https://localhost:8080/"
        },
        "id": "6SXvvidsFexi",
        "outputId": "88483022-8a57-40b4-f58d-b1f6d1d7846b"
      },
      "execution_count": 11,
      "outputs": [
        {
          "output_type": "execute_result",
          "data": {
            "text/plain": [
              "Sentiment(polarity=0.39166666666666666, subjectivity=0.4357142857142857)"
            ]
          },
          "metadata": {},
          "execution_count": 11
        }
      ]
    },
    {
      "cell_type": "code",
      "source": [
        "testimonial.sentiment.subjectivity"
      ],
      "metadata": {
        "colab": {
          "base_uri": "https://localhost:8080/"
        },
        "id": "_d79F6ehFku9",
        "outputId": "138a7571-3676-410d-99ae-5e7f37e3e796"
      },
      "execution_count": 12,
      "outputs": [
        {
          "output_type": "execute_result",
          "data": {
            "text/plain": [
              "0.4357142857142857"
            ]
          },
          "metadata": {},
          "execution_count": 12
        }
      ]
    },
    {
      "cell_type": "code",
      "source": [
        "#Tokenisation\n",
        "zen = TextBlob(\"Beautiful is better than ugly. \"\n",
        "               \"Explicit is better than implicit. \"\n",
        "               \"Simple is better than complex.\")\n",
        "zen.words"
      ],
      "metadata": {
        "colab": {
          "base_uri": "https://localhost:8080/"
        },
        "id": "_qFvhI6FGLxf",
        "outputId": "17a9e2aa-646f-494e-e358-18131ec6feb8"
      },
      "execution_count": 13,
      "outputs": [
        {
          "output_type": "execute_result",
          "data": {
            "text/plain": [
              "WordList(['Beautiful', 'is', 'better', 'than', 'ugly', 'Explicit', 'is', 'better', 'than', 'implicit', 'Simple', 'is', 'better', 'than', 'complex'])"
            ]
          },
          "metadata": {},
          "execution_count": 13
        }
      ]
    },
    {
      "cell_type": "code",
      "source": [
        "#Get Sentences:\n",
        "\n",
        "zen.sentences"
      ],
      "metadata": {
        "colab": {
          "base_uri": "https://localhost:8080/"
        },
        "id": "9N_xX2vbGYbg",
        "outputId": "372b010f-d75b-414e-997c-fca624ecfea1"
      },
      "execution_count": 14,
      "outputs": [
        {
          "output_type": "execute_result",
          "data": {
            "text/plain": [
              "[Sentence(\"Beautiful is better than ugly.\"),\n",
              " Sentence(\"Explicit is better than implicit.\"),\n",
              " Sentence(\"Simple is better than complex.\")]"
            ]
          },
          "metadata": {},
          "execution_count": 14
        }
      ]
    },
    {
      "cell_type": "code",
      "source": [
        "for sentence in zen.sentences:\n",
        "    print(sentence)"
      ],
      "metadata": {
        "colab": {
          "base_uri": "https://localhost:8080/"
        },
        "id": "iz9cXEdZGhgI",
        "outputId": "cce782f9-afa4-4c4c-d80d-3038db6c95b9"
      },
      "execution_count": 15,
      "outputs": [
        {
          "output_type": "stream",
          "name": "stdout",
          "text": [
            "Beautiful is better than ugly.\n",
            "Explicit is better than implicit.\n",
            "Simple is better than complex.\n"
          ]
        }
      ]
    },
    {
      "cell_type": "code",
      "source": [
        "#Word Inflection and Lemmatization\n",
        "sentence = TextBlob('Use 4 spaces per indentation level.')\n",
        "sentence.words"
      ],
      "metadata": {
        "colab": {
          "base_uri": "https://localhost:8080/"
        },
        "id": "KMhBYHn5Gj7h",
        "outputId": "5e63cd85-28b9-4403-eae2-c91f294a616e"
      },
      "execution_count": 16,
      "outputs": [
        {
          "output_type": "execute_result",
          "data": {
            "text/plain": [
              "WordList(['Use', '4', 'spaces', 'per', 'indentation', 'level'])"
            ]
          },
          "metadata": {},
          "execution_count": 16
        }
      ]
    },
    {
      "cell_type": "code",
      "source": [
        "\n",
        "sentence.words[2].singularize()"
      ],
      "metadata": {
        "colab": {
          "base_uri": "https://localhost:8080/",
          "height": 35
        },
        "id": "xsi1ZtqOGzxn",
        "outputId": "9b2fbcf6-1539-4743-c851-bb0f71bbc62d"
      },
      "execution_count": 17,
      "outputs": [
        {
          "output_type": "execute_result",
          "data": {
            "text/plain": [
              "'space'"
            ],
            "application/vnd.google.colaboratory.intrinsic+json": {
              "type": "string"
            }
          },
          "metadata": {},
          "execution_count": 17
        }
      ]
    },
    {
      "cell_type": "code",
      "source": [
        "sentence.words[0].pluralize()"
      ],
      "metadata": {
        "colab": {
          "base_uri": "https://localhost:8080/",
          "height": 35
        },
        "id": "BFe03e3cG1Wd",
        "outputId": "686ac90a-1186-4d83-d969-9938a8f8ea62"
      },
      "execution_count": 18,
      "outputs": [
        {
          "output_type": "execute_result",
          "data": {
            "text/plain": [
              "'Uses'"
            ],
            "application/vnd.google.colaboratory.intrinsic+json": {
              "type": "string"
            }
          },
          "metadata": {},
          "execution_count": 18
        }
      ]
    },
    {
      "cell_type": "code",
      "source": [
        "from textblob import Word\n",
        "w = Word(\"lions\")\n",
        "w.lemmatize()"
      ],
      "metadata": {
        "colab": {
          "base_uri": "https://localhost:8080/",
          "height": 35
        },
        "id": "rsbaQT3zG4gv",
        "outputId": "f0277818-4765-4bec-947b-32c77d2a1f2f"
      },
      "execution_count": 19,
      "outputs": [
        {
          "output_type": "execute_result",
          "data": {
            "text/plain": [
              "'lion'"
            ],
            "application/vnd.google.colaboratory.intrinsic+json": {
              "type": "string"
            }
          },
          "metadata": {},
          "execution_count": 19
        }
      ]
    },
    {
      "cell_type": "code",
      "source": [
        "\n",
        "q = Word(\"went\")\n",
        "q.lemmatize(\"v\") # Pass in WordNet part of speech"
      ],
      "metadata": {
        "colab": {
          "base_uri": "https://localhost:8080/",
          "height": 35
        },
        "id": "dFJKS4l6G79x",
        "outputId": "8564bf7c-7797-4233-98b1-46824a809089"
      },
      "execution_count": 20,
      "outputs": [
        {
          "output_type": "execute_result",
          "data": {
            "text/plain": [
              "'go'"
            ],
            "application/vnd.google.colaboratory.intrinsic+json": {
              "type": "string"
            }
          },
          "metadata": {},
          "execution_count": 20
        }
      ]
    },
    {
      "cell_type": "code",
      "source": [
        "#WordNet Integration\n",
        "Word(\"length\").definitions"
      ],
      "metadata": {
        "colab": {
          "base_uri": "https://localhost:8080/"
        },
        "id": "OVOvJ2yRG_pz",
        "outputId": "7156ac4a-870d-4798-d594-907dcc4b5d9b"
      },
      "execution_count": 21,
      "outputs": [
        {
          "output_type": "execute_result",
          "data": {
            "text/plain": [
              "['the linear extent in space from one end to the other; the longest dimension of something that is fixed in place',\n",
              " 'continuance in time',\n",
              " 'the property of being the extent of something from beginning to end',\n",
              " 'size of the gap between two places',\n",
              " 'a section of something that is long and narrow']"
            ]
          },
          "metadata": {},
          "execution_count": 21
        }
      ]
    },
    {
      "cell_type": "code",
      "source": [
        "animals = TextBlob(\"cow sheep octopus\")\n",
        "animals.words"
      ],
      "metadata": {
        "colab": {
          "base_uri": "https://localhost:8080/"
        },
        "id": "CkxRpaFQHLjv",
        "outputId": "d1fd42c8-c4c9-4e8f-85e7-dbae8efcd12a"
      },
      "execution_count": 22,
      "outputs": [
        {
          "output_type": "execute_result",
          "data": {
            "text/plain": [
              "WordList(['cow', 'sheep', 'octopus'])"
            ]
          },
          "metadata": {},
          "execution_count": 22
        }
      ]
    },
    {
      "cell_type": "code",
      "source": [
        "# Spelling Correction\n",
        "\n",
        "g = TextBlob(\" Can you pronounce czechuslovakia?\")\n",
        "print(g.correct())"
      ],
      "metadata": {
        "colab": {
          "base_uri": "https://localhost:8080/"
        },
        "id": "LfRaIE8-HPhz",
        "outputId": "b42b3c3c-4b8d-45cb-b8ea-5c1f49126dea"
      },
      "execution_count": 23,
      "outputs": [
        {
          "output_type": "stream",
          "name": "stdout",
          "text": [
            " An you pronounce czechoslovakia?\n"
          ]
        }
      ]
    },
    {
      "cell_type": "code",
      "source": [
        "\n",
        "from textblob import Word\n",
        "w = Word('longitude')\n",
        "w.spellcheck()"
      ],
      "metadata": {
        "colab": {
          "base_uri": "https://localhost:8080/"
        },
        "id": "AtVcWqwaHTGr",
        "outputId": "e67b6fa8-95e5-4bbb-c6e9-50167c2b66be"
      },
      "execution_count": 24,
      "outputs": [
        {
          "output_type": "execute_result",
          "data": {
            "text/plain": [
              "[('longitude', 1.0)]"
            ]
          },
          "metadata": {},
          "execution_count": 24
        }
      ]
    },
    {
      "cell_type": "code",
      "source": [
        "#Get Word and Noun Phrase Frequencies\n",
        "sent = TextBlob('She sales sea shells at the sea shore')\n",
        "sent.word_counts['sea']\n",
        ""
      ],
      "metadata": {
        "colab": {
          "base_uri": "https://localhost:8080/"
        },
        "id": "YrTD-4fWHYC1",
        "outputId": "7695484a-7533-43d6-ab48-443b00d06bfa"
      },
      "execution_count": 25,
      "outputs": [
        {
          "output_type": "execute_result",
          "data": {
            "text/plain": [
              "2"
            ]
          },
          "metadata": {},
          "execution_count": 25
        }
      ]
    },
    {
      "cell_type": "code",
      "source": [
        "#Translation and Language Detection\n",
        "\n",
        "blob = TextBlob(\"hello\")\n",
        "blob.translate(from_lang='en', to='fr')"
      ],
      "metadata": {
        "colab": {
          "base_uri": "https://localhost:8080/"
        },
        "id": "zWdfrTIaHdXM",
        "outputId": "a69e8203-f9a8-4b9e-a82e-9fcfef3062f3"
      },
      "execution_count": 26,
      "outputs": [
        {
          "output_type": "execute_result",
          "data": {
            "text/plain": [
              "TextBlob(\"Bonjour\")"
            ]
          },
          "metadata": {},
          "execution_count": 26
        }
      ]
    },
    {
      "cell_type": "code",
      "source": [
        "\n",
        "d = TextBlob(\"Bonjour\")\n",
        "d.detect_language"
      ],
      "metadata": {
        "colab": {
          "base_uri": "https://localhost:8080/",
          "height": 187
        },
        "id": "IW9iYXfBH0qI",
        "outputId": "d33e190e-3744-4c41-dcb7-7daaa2ddc73b"
      },
      "execution_count": 27,
      "outputs": [
        {
          "output_type": "execute_result",
          "data": {
            "text/plain": [
              "<bound method BaseBlob.detect_language of TextBlob(\"Bonjour\")>"
            ],
            "text/html": [
              "<div style=\"max-width:800px; border: 1px solid var(--colab-border-color);\"><style>\n",
              "      pre.function-repr-contents {\n",
              "        overflow-x: auto;\n",
              "        padding: 8px 12px;\n",
              "        max-height: 500px;\n",
              "      }\n",
              "\n",
              "      pre.function-repr-contents.function-repr-contents-collapsed {\n",
              "        cursor: pointer;\n",
              "        max-height: 100px;\n",
              "      }\n",
              "    </style>\n",
              "    <pre style=\"white-space: initial; background:\n",
              "         var(--colab-secondary-surface-color); padding: 8px 12px;\n",
              "         border-bottom: 1px solid var(--colab-border-color);\"><b>textblob.blob.BaseBlob.detect_language</b><br/>def detect_language()</pre><pre class=\"function-repr-contents function-repr-contents-collapsed\" style=\"\"><a class=\"filepath\" style=\"display:none\" href=\"#\">/usr/local/lib/python3.10/dist-packages/textblob/blob.py</a>Detect the blob&#x27;s language using the Google Translate API.\n",
              "\n",
              "Requires an internet connection.\n",
              "\n",
              "Usage:\n",
              "::\n",
              "\n",
              "    &gt;&gt;&gt; b = TextBlob(&quot;bonjour&quot;)\n",
              "    &gt;&gt;&gt; b.detect_language()\n",
              "    u&#x27;fr&#x27;\n",
              "\n",
              "Language code reference:\n",
              "    https://developers.google.com/translate/v2/using_rest#language-params\n",
              "\n",
              ".. deprecated:: 0.16.0\n",
              "    Use the official Google Translate API instead.\n",
              ".. versionadded:: 0.5.0\n",
              "\n",
              ":rtype: str</pre>\n",
              "      <script>\n",
              "      if (google.colab.kernel.accessAllowed && google.colab.files && google.colab.files.view) {\n",
              "        for (const element of document.querySelectorAll('.filepath')) {\n",
              "          element.style.display = 'block'\n",
              "          element.onclick = (event) => {\n",
              "            event.preventDefault();\n",
              "            event.stopPropagation();\n",
              "            google.colab.files.view(element.textContent, 571);\n",
              "          };\n",
              "        }\n",
              "      }\n",
              "      for (const element of document.querySelectorAll('.function-repr-contents')) {\n",
              "        element.onclick = (event) => {\n",
              "          event.preventDefault();\n",
              "          event.stopPropagation();\n",
              "          element.classList.toggle('function-repr-contents-collapsed');\n",
              "        };\n",
              "      }\n",
              "      </script>\n",
              "      </div>"
            ]
          },
          "metadata": {},
          "execution_count": 27
        }
      ]
    },
    {
      "cell_type": "code",
      "source": [
        "# n-grams\n",
        "# The TextBlob.ngrams() method returns a list of tuples of n successive words.\n",
        "\n",
        "\n",
        "blob = TextBlob(\"Now is better than never.\")\n",
        "blob.ngrams(n=3)"
      ],
      "metadata": {
        "colab": {
          "base_uri": "https://localhost:8080/"
        },
        "id": "HvSvZ-W9IGXc",
        "outputId": "b14a6be6-9a36-472d-bc77-0130f19096ff"
      },
      "execution_count": 28,
      "outputs": [
        {
          "output_type": "execute_result",
          "data": {
            "text/plain": [
              "[WordList(['Now', 'is', 'better']),\n",
              " WordList(['is', 'better', 'than']),\n",
              " WordList(['better', 'than', 'never'])]"
            ]
          },
          "metadata": {},
          "execution_count": 28
        }
      ]
    },
    {
      "cell_type": "code",
      "source": [
        "# Get Start and End Indices of Sentences\n",
        "# Use sentence.start and sentence.end to get the indices where a sentence starts and ends within a TextBlob\n",
        "\n",
        "\n",
        "for k in zen.sentences:\n",
        "    print(k)\n",
        "    print(\"---- Starts at index {}, Ends at index {}\".format(k.start, k.end))"
      ],
      "metadata": {
        "colab": {
          "base_uri": "https://localhost:8080/"
        },
        "id": "KQ6h2LB2IIuj",
        "outputId": "e93c4e1e-7b52-467d-e8bd-ca53c5d73b45"
      },
      "execution_count": 29,
      "outputs": [
        {
          "output_type": "stream",
          "name": "stdout",
          "text": [
            "Beautiful is better than ugly.\n",
            "---- Starts at index 0, Ends at index 30\n",
            "Explicit is better than implicit.\n",
            "---- Starts at index 31, Ends at index 64\n",
            "Simple is better than complex.\n",
            "---- Starts at index 65, Ends at index 95\n"
          ]
        }
      ]
    },
    {
      "cell_type": "code",
      "source": [
        "# Text Classification system\n",
        "# The textblob.classifiers module makes it simple to create custom classifiers.\n",
        "\n",
        "train = [\n",
        "       ('I love this sandwich.', 'pos'),\n",
        "       ('this is an amazing place!', 'pos'),\n",
        "       ('I feel very good about these beers.', 'pos'),\n",
        "       ('this is my best work.', 'pos'),\n",
        "       (\"what an awesome view\", 'pos'),\n",
        "       ('I do not like this restaurant', 'neg'),\n",
        "       ('I am tired of this stuff.', 'neg'),\n",
        "       (\"I can't deal with this\", 'neg'),\n",
        "       ('he is my sworn enemy!', 'neg'),\n",
        "]\n",
        "test = [\n",
        "       ('the beer was good.', 'pos'),\n",
        "       ('I do not enjoy my job', 'neg'),\n",
        "       (\"I ain't feeling dandy today.\", 'neg'),\n",
        "       (\"I feel amazing!\", 'pos'),\n",
        "       ('Gary is a friend of mine.', 'pos'),\n",
        "       (\"I can't believe I'm doing this.\", 'neg')\n",
        "]"
      ],
      "metadata": {
        "id": "NFbf-dO1IM6N"
      },
      "execution_count": 30,
      "outputs": []
    },
    {
      "cell_type": "code",
      "source": [
        "\n",
        "from textblob.classifiers import NaiveBayesClassifier\n",
        "cl = NaiveBayesClassifier(train)"
      ],
      "metadata": {
        "id": "Z7T4v_S-IXAc"
      },
      "execution_count": 31,
      "outputs": []
    },
    {
      "cell_type": "code",
      "source": [
        "cl.classify(\"This is an amazing library!\")\n",
        ""
      ],
      "metadata": {
        "colab": {
          "base_uri": "https://localhost:8080/",
          "height": 35
        },
        "id": "nCyZzrozIcKI",
        "outputId": "d296e2ba-3874-498e-83e4-43981ec91091"
      },
      "execution_count": 32,
      "outputs": [
        {
          "output_type": "execute_result",
          "data": {
            "text/plain": [
              "'pos'"
            ],
            "application/vnd.google.colaboratory.intrinsic+json": {
              "type": "string"
            }
          },
          "metadata": {},
          "execution_count": 32
        }
      ]
    },
    {
      "cell_type": "code",
      "source": [
        "prob_dist = cl.prob_classify(\"This one's a doozy.\")\n",
        "prob_dist.max()"
      ],
      "metadata": {
        "colab": {
          "base_uri": "https://localhost:8080/",
          "height": 35
        },
        "id": "IzqXE5TSIi5t",
        "outputId": "c36b6d8c-6d28-4819-80c5-2bd4d35899a2"
      },
      "execution_count": 33,
      "outputs": [
        {
          "output_type": "execute_result",
          "data": {
            "text/plain": [
              "'pos'"
            ],
            "application/vnd.google.colaboratory.intrinsic+json": {
              "type": "string"
            }
          },
          "metadata": {},
          "execution_count": 33
        }
      ]
    },
    {
      "cell_type": "code",
      "source": [
        "prob_dist = cl.prob_classify(\"I am suffering from cold\")\n",
        "prob_dist.max()\n",
        "\n",
        "\n",
        "round(prob_dist.prob(\"pos\"), 2)\n",
        "\n",
        "\n",
        "\n",
        "round(prob_dist.prob(\"neg\"), 2)"
      ],
      "metadata": {
        "colab": {
          "base_uri": "https://localhost:8080/"
        },
        "id": "kNoej4EFIl-Y",
        "outputId": "b6f5ba84-0777-4a42-9469-5bcc40f27793"
      },
      "execution_count": 34,
      "outputs": [
        {
          "output_type": "execute_result",
          "data": {
            "text/plain": [
              "0.69"
            ]
          },
          "metadata": {},
          "execution_count": 34
        }
      ]
    },
    {
      "cell_type": "code",
      "source": [
        "# Classifying TextBlobs\n",
        "# Another way to classify text is to pass a classifier into the constructor of TextBlob and call its classify() method.\n",
        "\n",
        "\n",
        "from textblob import TextBlob\n",
        "blob = TextBlob(\"Alcohal is good. But the hangover is horrible.\", classifier=cl)\n",
        "blob.classify()\n",
        "\n",
        "\n",
        "for s in blob.sentences:\n",
        "    print(s)\n",
        "    print(s.classify())"
      ],
      "metadata": {
        "colab": {
          "base_uri": "https://localhost:8080/"
        },
        "id": "5uYmwp0wIu03",
        "outputId": "e1e30507-b0ea-4fb3-b0ef-462e9a7cf79c"
      },
      "execution_count": 35,
      "outputs": [
        {
          "output_type": "stream",
          "name": "stdout",
          "text": [
            "Alcohal is good.\n",
            "pos\n",
            "But the hangover is horrible.\n",
            "pos\n"
          ]
        }
      ]
    },
    {
      "cell_type": "code",
      "source": [
        "# Evaluating Classifiers\n",
        "# To compute the accuracy on our test set, use the accuracy(test_data) method.\n",
        "\n",
        "\n",
        "cl.accuracy(test)"
      ],
      "metadata": {
        "colab": {
          "base_uri": "https://localhost:8080/"
        },
        "id": "I761Z1sXI0_F",
        "outputId": "f5952e06-832c-4f04-fd01-816964610a9e"
      },
      "execution_count": 36,
      "outputs": [
        {
          "output_type": "execute_result",
          "data": {
            "text/plain": [
              "1.0"
            ]
          },
          "metadata": {},
          "execution_count": 36
        }
      ]
    }
  ]
}