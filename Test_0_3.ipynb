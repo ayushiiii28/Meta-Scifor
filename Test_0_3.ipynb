{
  "cells": [
    {
      "cell_type": "markdown",
      "metadata": {
        "id": "view-in-github",
        "colab_type": "text"
      },
      "source": [
        "<a href=\"https://colab.research.google.com/github/ayushiiii28/Meta-Scifor/blob/main/Test_0_3.ipynb\" target=\"_parent\"><img src=\"https://colab.research.google.com/assets/colab-badge.svg\" alt=\"Open In Colab\"/></a>"
      ]
    },
    {
      "cell_type": "markdown",
      "id": "a2d03c1b-3b7f-4e29-aed5-fe7c3c93a61c",
      "metadata": {
        "id": "a2d03c1b-3b7f-4e29-aed5-fe7c3c93a61c"
      },
      "source": [
        "# Statistics Test 2.0"
      ]
    },
    {
      "cell_type": "markdown",
      "id": "eacdfe41-4c50-4a8d-8af9-25d78ccbab02",
      "metadata": {
        "id": "eacdfe41-4c50-4a8d-8af9-25d78ccbab02"
      },
      "source": [
        "Time - 1.30 Hr\n",
        "\n",
        "\n",
        "Total Marks = 60\n",
        "\n"
      ]
    },
    {
      "cell_type": "markdown",
      "source": [
        "**MCQ**"
      ],
      "metadata": {
        "id": "-h45Y-7UcYVW"
      },
      "id": "-h45Y-7UcYVW"
    },
    {
      "cell_type": "markdown",
      "source": [
        "**Which of the following is a measure of central tendency?**\n",
        "\n",
        "    A) Variance\n",
        "    B) Standard Deviation\n",
        "    C) Mean\n",
        "    D) Range"
      ],
      "metadata": {
        "id": "-0TTQIaXcLJF"
      },
      "id": "-0TTQIaXcLJF"
    },
    {
      "cell_type": "markdown",
      "source": [
        "Answer: (c) Mean"
      ],
      "metadata": {
        "id": "N2xLytmyXinJ"
      },
      "id": "N2xLytmyXinJ"
    },
    {
      "cell_type": "markdown",
      "source": [
        "**In a dataset with values [2, 4, 4, 6, 8], what is the median?**\n",
        "\n",
        "    A) 4\n",
        "    B) 4.5\n",
        "    C) 6\n",
        "    D) 8"
      ],
      "metadata": {
        "id": "YEex8H5ocLLr"
      },
      "id": "YEex8H5ocLLr"
    },
    {
      "cell_type": "markdown",
      "source": [
        "Answer: (A) 4"
      ],
      "metadata": {
        "id": "DhCViUgwX5Eh"
      },
      "id": "DhCViUgwX5Eh"
    },
    {
      "cell_type": "markdown",
      "source": [],
      "metadata": {
        "id": "OfqwuXDtXvwy"
      },
      "id": "OfqwuXDtXvwy"
    },
    {
      "cell_type": "markdown",
      "source": [
        "**Inferential statistics are used to:**\n",
        "\n",
        "    A) Describe the data's central tendency\n",
        "    B) Summarize the data\n",
        "    C) Make predictions or inferences about a population based on a sample\n",
        "    D) Visualize the data"
      ],
      "metadata": {
        "id": "NLR39gAncLNz"
      },
      "id": "NLR39gAncLNz"
    },
    {
      "cell_type": "code",
      "source": [
        "Answer: (C) Make predictions or inferences about a population based on a sample"
      ],
      "metadata": {
        "id": "aUmRdpyAYTRf"
      },
      "id": "aUmRdpyAYTRf",
      "execution_count": null,
      "outputs": []
    },
    {
      "cell_type": "markdown",
      "source": [],
      "metadata": {
        "id": "uj5iIy6xYG3r"
      },
      "id": "uj5iIy6xYG3r"
    },
    {
      "cell_type": "markdown",
      "source": [],
      "metadata": {
        "id": "p80AcgTAYCOu"
      },
      "id": "p80AcgTAYCOu"
    },
    {
      "cell_type": "markdown",
      "source": [],
      "metadata": {
        "id": "b1cFHceTX9uG"
      },
      "id": "b1cFHceTX9uG"
    },
    {
      "cell_type": "markdown",
      "source": [
        "**What does a confidence interval represent?**\n",
        "\n",
        "    A) The range within which the population mean is expected to fall with a certain probability\n",
        "    B) The exact value of the population mean\n",
        "    C) The variability within the sample\n",
        "    D) The number of samples required"
      ],
      "metadata": {
        "id": "gxSeoRancLP9"
      },
      "id": "gxSeoRancLP9"
    },
    {
      "cell_type": "markdown",
      "source": [
        "Answer: (A) The range which the population mean is expected to fall with a certain probability"
      ],
      "metadata": {
        "id": "mmdh1AbRYXcV"
      },
      "id": "mmdh1AbRYXcV"
    },
    {
      "cell_type": "markdown",
      "source": [
        "**According to the Central Limit Theorem, as the sample size increases, the distribution of the sample mean:**\n",
        "\n",
        "    A) Becomes skewed\n",
        "    B) Approaches a normal distribution\n",
        "    C) Remains uniform\n",
        "    D) Becomes bimodal"
      ],
      "metadata": {
        "id": "8VcnEmX9cLSM"
      },
      "id": "8VcnEmX9cLSM"
    },
    {
      "cell_type": "code",
      "source": [
        "Answer: (B) Approaches a normal distribution"
      ],
      "metadata": {
        "id": "BzGnofW6YlFz"
      },
      "id": "BzGnofW6YlFz",
      "execution_count": null,
      "outputs": []
    },
    {
      "cell_type": "markdown",
      "source": [
        "**The Central Limit Theorem is important because:**\n",
        "\n",
        "    A) It helps in defining the exact population distribution\n",
        "    B) It allows for the use of normal distribution to make inferences about sample means\n",
        "    C) It eliminates the need for sampling\n",
        "    D) It ensures sample sizes are always large"
      ],
      "metadata": {
        "id": "mQAz26m_cLUq"
      },
      "id": "mQAz26m_cLUq"
    },
    {
      "cell_type": "code",
      "source": [
        "Answer: (B) It allows for the use of normal distribution to make inferences about sample means"
      ],
      "metadata": {
        "id": "Qu5gXfzuYtu7"
      },
      "id": "Qu5gXfzuYtu7",
      "execution_count": null,
      "outputs": []
    },
    {
      "cell_type": "markdown",
      "source": [
        "**ANOVA is used to test:**\n",
        "\n",
        "    A) The association between two categorical variables\n",
        "    B) The differences between means of three or more groups\n",
        "    C) The proportion of a sample\n",
        "    D) The correlation between two continuous variables"
      ],
      "metadata": {
        "id": "F1T_g8pgcLWv"
      },
      "id": "F1T_g8pgcLWv"
    },
    {
      "cell_type": "code",
      "source": [
        "Answer: (B) The differences between means of three or more groups"
      ],
      "metadata": {
        "id": "MhYqbyBjY2Z7"
      },
      "id": "MhYqbyBjY2Z7",
      "execution_count": null,
      "outputs": []
    },
    {
      "cell_type": "markdown",
      "source": [
        "**A p-value less than 0.05 in an ANOVA test indicates:**\n",
        "\n",
        "    A) There is no significant difference between group means\n",
        "    B) The means of at least one group are significantly different from others\n",
        "    C) The variances within groups are equal\n",
        "    D) The sample size is too small"
      ],
      "metadata": {
        "id": "MXX8Exw3dBzd"
      },
      "id": "MXX8Exw3dBzd"
    },
    {
      "cell_type": "code",
      "source": [
        "Answer: (B) The means of at least one group are significantly different from others"
      ],
      "metadata": {
        "id": "78iO-uaCY528"
      },
      "id": "78iO-uaCY528",
      "execution_count": null,
      "outputs": []
    },
    {
      "cell_type": "markdown",
      "source": [
        "**The chi-square test of independence assesses:**\n",
        "\n",
        "    A) If two continuous variables are related\n",
        "    B) The goodness-of-fit of a model\n",
        "    C) The association between two categorical variables\n",
        "    D) The variance of a single variable"
      ],
      "metadata": {
        "id": "T5dE7-GIdB14"
      },
      "id": "T5dE7-GIdB14"
    },
    {
      "cell_type": "code",
      "source": [
        "Answer: (C) The association between two categorical variables"
      ],
      "metadata": {
        "id": "FvA3ezV0Y-aT"
      },
      "id": "FvA3ezV0Y-aT",
      "execution_count": null,
      "outputs": []
    },
    {
      "cell_type": "markdown",
      "source": [
        "**The two-sample t-test assumes:**\n",
        "\n",
        "    A) Equal variances between the two groups\n",
        "    B) Unequal variances between the two groups\n",
        "    C) No assumption about variances\n",
        "    D) The samples are paired"
      ],
      "metadata": {
        "id": "TbkJYhyNdIa0"
      },
      "id": "TbkJYhyNdIa0"
    },
    {
      "cell_type": "code",
      "source": [
        "Answer: (B) Unequal variances between the two groups"
      ],
      "metadata": {
        "id": "WHxzdGilZEo9"
      },
      "id": "WHxzdGilZEo9",
      "execution_count": null,
      "outputs": []
    },
    {
      "cell_type": "markdown",
      "id": "6b85eac4-9fa5-4a6e-8944-31cfdb85b1f7",
      "metadata": {
        "id": "6b85eac4-9fa5-4a6e-8944-31cfdb85b1f7"
      },
      "source": [
        "# Python Basic Exercise\n",
        "\n",
        "### Solve any three"
      ]
    },
    {
      "cell_type": "markdown",
      "id": "daf26a58-0326-40aa-bdb6-8d765abaa5e8",
      "metadata": {
        "id": "daf26a58-0326-40aa-bdb6-8d765abaa5e8"
      },
      "source": [
        "Que 1 -> You have a list a=[1,2,3,6,9,7,4,5,8], and you have to find the kth element from the list. This means I want to find the 2nd largest number from the list. Similarly, you have to create a function where I pass a number, say 4, and the function will return the 4th largest number from the list."
      ]
    },
    {
      "cell_type": "code",
      "execution_count": 2,
      "id": "6f85b635-779f-4c1f-be25-fed8ad6ca5b0",
      "metadata": {
        "id": "6f85b635-779f-4c1f-be25-fed8ad6ca5b0",
        "colab": {
          "base_uri": "https://localhost:8080/"
        },
        "outputId": "0ed1a75a-3e8c-4cc5-b967-5aa55563e164"
      },
      "outputs": [
        {
          "output_type": "stream",
          "name": "stdout",
          "text": [
            "8\n",
            "6\n"
          ]
        }
      ],
      "source": [
        "#Sol->\n",
        "def find_kth_largest(lst, k):\n",
        "    sorted_lst = sorted(lst, reverse=True)\n",
        "    if k <= len(sorted_lst) and k > 0:\n",
        "        return sorted_lst[k - 1]\n",
        "    else:\n",
        "        return \"Invalid value for k\"\n",
        "\n",
        "a = [1, 2, 3, 6, 9, 7, 4, 5, 8]\n",
        "k = 2\n",
        "print(find_kth_largest(a, k))\n",
        "k = 4\n",
        "print(find_kth_largest(a, k))"
      ]
    },
    {
      "cell_type": "markdown",
      "id": "bb4ffbe7-2bd2-47fe-be13-41ce39dde5a7",
      "metadata": {
        "id": "bb4ffbe7-2bd2-47fe-be13-41ce39dde5a7"
      },
      "source": [
        "Que 2-> you have a list [1,8,0,6,4,0,6,0,0,2,0], You need to shift all the zeros to the right , without using any inbuilt function."
      ]
    },
    {
      "cell_type": "code",
      "execution_count": null,
      "id": "39017c11-1084-4c96-b229-83ba71c15b98",
      "metadata": {
        "id": "39017c11-1084-4c96-b229-83ba71c15b98"
      },
      "outputs": [],
      "source": [
        "Sol->"
      ]
    },
    {
      "cell_type": "markdown",
      "id": "8f6bb4bc-9d9f-4f99-ad34-489934da6fb8",
      "metadata": {
        "id": "8f6bb4bc-9d9f-4f99-ad34-489934da6fb8"
      },
      "source": [
        "Que 3->Reverse a string without using any inbuilt function like slicing."
      ]
    },
    {
      "cell_type": "code",
      "execution_count": 4,
      "id": "3cfc4b48-15e0-4fcf-8cb7-1c6171d407e6",
      "metadata": {
        "id": "3cfc4b48-15e0-4fcf-8cb7-1c6171d407e6",
        "colab": {
          "base_uri": "https://localhost:8080/"
        },
        "outputId": "ce485c96-9079-4ba0-8a77-e780013d3bfd"
      },
      "outputs": [
        {
          "output_type": "stream",
          "name": "stdout",
          "text": [
            "ihsuyA\n"
          ]
        }
      ],
      "source": [
        "#Sol-\n",
        "def reverse_string(s):\n",
        "    reversed_str = \"\"\n",
        "    length = len(s)\n",
        "    for i in range(length - 1, -1, -1):\n",
        "        reversed_str += s[i]\n",
        "\n",
        "    return reversed_str\n",
        "input_string = \"Ayushi\"\n",
        "print(reverse_string(input_string))"
      ]
    },
    {
      "cell_type": "markdown",
      "id": "58b475ca-89a9-4074-adfa-1b31e6609aaf",
      "metadata": {
        "id": "58b475ca-89a9-4074-adfa-1b31e6609aaf"
      },
      "source": [
        "Que 4-> To find common prefix in array of strings\n",
        "\n",
        "array= ['Abce','Abcjhgj','Abcf']\n",
        "\n",
        "\n",
        "The common prefix among the strings 'Abce', 'Abcjhgj', and 'Abcf' is 'Abc'. So, the common prefix is 'Abc'."
      ]
    },
    {
      "cell_type": "code",
      "execution_count": null,
      "id": "80d7e6ea-574b-4135-aa87-a042e9956390",
      "metadata": {
        "id": "80d7e6ea-574b-4135-aa87-a042e9956390"
      },
      "outputs": [],
      "source": [
        "Sol->"
      ]
    },
    {
      "cell_type": "markdown",
      "id": "91637a40-f4ed-414d-9c71-c82374cb13a3",
      "metadata": {
        "id": "91637a40-f4ed-414d-9c71-c82374cb13a3"
      },
      "source": [
        "Que 5- Given the list l = [1,2,0,1,2,0,0], I want the output to be ans = [0,0,0,2,2,1,1] without using any inbuilt function"
      ]
    },
    {
      "cell_type": "code",
      "execution_count": 5,
      "id": "ea7b0b77-9ff4-4f73-9a99-129c665fb961",
      "metadata": {
        "id": "ea7b0b77-9ff4-4f73-9a99-129c665fb961",
        "colab": {
          "base_uri": "https://localhost:8080/"
        },
        "outputId": "298ff776-dc06-4b61-b8b7-7da250d86ea5"
      },
      "outputs": [
        {
          "output_type": "stream",
          "name": "stdout",
          "text": [
            "[0, 0, 0, 2, 2, 1, 1]\n"
          ]
        }
      ],
      "source": [
        "#Sol->\n",
        "def custom_sort(lst):\n",
        "\n",
        "    count_0 = 0\n",
        "    count_1 = 0\n",
        "    count_2 = 0\n",
        "\n",
        "    for num in lst:\n",
        "        if num == 0:\n",
        "            count_0 += 1\n",
        "        elif num == 1:\n",
        "            count_1 += 1\n",
        "        elif num == 2:\n",
        "            count_2 += 1\n",
        "    sorted_lst = []\n",
        "    sorted_lst.extend([0] * count_0)\n",
        "    sorted_lst.extend([2] * count_2)\n",
        "    sorted_lst.extend([1] * count_1)\n",
        "\n",
        "    return sorted_lst\n",
        "l = [1, 2, 0, 1, 2, 0, 0]\n",
        "ans = custom_sort(l)\n",
        "print(ans)\n"
      ]
    },
    {
      "cell_type": "code",
      "execution_count": null,
      "id": "f36bc3d6-7bd0-4f8e-aad7-ac40484e911f",
      "metadata": {
        "id": "f36bc3d6-7bd0-4f8e-aad7-ac40484e911f"
      },
      "outputs": [],
      "source": []
    },
    {
      "cell_type": "markdown",
      "id": "e17c874f-ffe2-416f-af6c-2ba6e57a0bfd",
      "metadata": {
        "id": "e17c874f-ffe2-416f-af6c-2ba6e57a0bfd"
      },
      "source": [
        "# Statistics Theory Question\n"
      ]
    },
    {
      "cell_type": "markdown",
      "id": "0b748385-fe05-40f2-adc8-5b643f95b906",
      "metadata": {
        "id": "0b748385-fe05-40f2-adc8-5b643f95b906"
      },
      "source": [
        "Que 1- What is Central Limit Theoram ? Explain."
      ]
    },
    {
      "cell_type": "markdown",
      "source": [
        "Ans= The Central Limit Theorem (CLT) says that the distribution of the sample mean approaches normal with large samples irrespective of the original form of population distribution.\n",
        "that means if you take repeated large samples from any population and determine their mean,\n",
        "those sample means will have a normal distribution centered about the population mean, with a standard deviation that becomes smaller as the size of the sample increases.\n",
        "It is necessary to statistics because it permits use of normal distribution techniques for inference and hypothesis testing even when initial data is not normally distributed."
      ],
      "metadata": {
        "id": "1IuMk0zzg1V4"
      },
      "id": "1IuMk0zzg1V4"
    },
    {
      "cell_type": "markdown",
      "id": "8466b61e-24b9-4567-bd63-04d8fb5360ad",
      "metadata": {
        "id": "8466b61e-24b9-4567-bd63-04d8fb5360ad"
      },
      "source": [
        "Que 2- What is CDF(Comulative density function). Explain with mathematics."
      ]
    },
    {
      "cell_type": "markdown",
      "source": [
        "Answer: The Cumulative Distribution Function (CDF) of a random variable X is a function that gives the probability that X will take a value less than or equal to x.\n",
        "where FX(x)is the CDF at value xx. The CDF ranges from 0 to 1, is non-decreasing, and approaches 1 as xx approaches infinity."
      ],
      "metadata": {
        "id": "qpKmyEiJbCx_"
      },
      "id": "qpKmyEiJbCx_"
    },
    {
      "cell_type": "markdown",
      "id": "6ada9cfc-cb42-4e64-b74e-7befd45cbe4a",
      "metadata": {
        "id": "6ada9cfc-cb42-4e64-b74e-7befd45cbe4a"
      },
      "source": [
        "Que 3- What is Anova test. how we can calculate behind the scene ?"
      ]
    },
    {
      "cell_type": "markdown",
      "source": [
        "Answer: ANOVA is compares the differences in means among more than two groups. It does this by examining the variation in the data and where it is located and variation between groups with the amount of variation within groups."
      ],
      "metadata": {
        "id": "Cp72tBvCdeWO"
      },
      "id": "Cp72tBvCdeWO"
    },
    {
      "cell_type": "markdown",
      "source": [
        "1. Calculate the mean of each column\n",
        "2. Calculate the final mean\n",
        "3. Find variation between and within\n",
        "4. Calculate the mean squared variance of between and within\n",
        "5. Calculate F statistics and corresponding p value"
      ],
      "metadata": {
        "id": "QZFgf_vOdxZ1"
      },
      "id": "QZFgf_vOdxZ1"
    },
    {
      "cell_type": "markdown",
      "id": "dffe2da1-3353-4865-85eb-fff2caea349a",
      "metadata": {
        "id": "dffe2da1-3353-4865-85eb-fff2caea349a"
      },
      "source": [
        "Que 4-  What is Chi-Square test. how we will calculate behind the scene."
      ]
    },
    {
      "cell_type": "markdown",
      "source": [
        "Chi-Square test can help us find Goodness of fit to a distribution, Which means if our data obeying to a theoretical probability distribution\n",
        "It gives us the difference between observed value and expected value and square of this differnece is divided by expected value.\n",
        "Then we compare that value with Chi- square distribution table.\n",
        "\n"
      ],
      "metadata": {
        "id": "5h92uAwLeIHa"
      },
      "id": "5h92uAwLeIHa"
    },
    {
      "cell_type": "markdown",
      "id": "8fec219a-1fe3-41db-a2ba-8a0b5e0b4a43",
      "metadata": {
        "id": "8fec219a-1fe3-41db-a2ba-8a0b5e0b4a43"
      },
      "source": [
        "Que 5-  What is the difference between inferential and descriptive statistics."
      ]
    },
    {
      "cell_type": "markdown",
      "source": [
        "Answer:\n",
        "Descriptive statistics summarize and describe the main features of a dataset, such as mean, median, and standard deviation.descriptive statistics provide a snapshot of the data\n",
        "Inferential statistics use sample data to make generalizations or predictions about a larger population, involving techniques like hypothesis testing and confidence intervals.Inferential statistics extend findings to broader contexts"
      ],
      "metadata": {
        "id": "JQPRp1hbfidN"
      },
      "id": "JQPRp1hbfidN"
    },
    {
      "cell_type": "markdown",
      "id": "d7a2df48-9875-4b6b-ba26-feee4e03b1d5",
      "metadata": {
        "id": "d7a2df48-9875-4b6b-ba26-feee4e03b1d5"
      },
      "source": [
        "Que 6- Explain any 2 distribution."
      ]
    },
    {
      "cell_type": "markdown",
      "source": [
        "Answer: Normal distribution is a probability distribution with a bell-shaped curve defined by its mean and standard deviation, where data can have any mean and standard deviation.\n",
        "Standard normal distribution is a special case of the normal distribution with a mean of 0 and a standard deviation of 1. It is used to simplify calculations and comparisons, with values typically represented as Z-scores.\n",
        "The Chi-square distribution is a probability distribution that arises in hypothesis testing and is used to determine the goodness-of-fit between observed and expected frequencies or to test independence to tables."
      ],
      "metadata": {
        "id": "x8AZcRQXgLVV"
      },
      "id": "x8AZcRQXgLVV"
    },
    {
      "cell_type": "markdown",
      "id": "5c2a1d3b-bea9-4de6-8018-a120e2d36528",
      "metadata": {
        "id": "5c2a1d3b-bea9-4de6-8018-a120e2d36528"
      },
      "source": [
        "# Statistics Mathematics  Question\n",
        "\n"
      ]
    },
    {
      "cell_type": "markdown",
      "id": "40749fa8-a06d-4d9c-8864-4bb8b24599a3",
      "metadata": {
        "id": "40749fa8-a06d-4d9c-8864-4bb8b24599a3"
      },
      "source": [
        "Que 1 - if I generate heights for 1000 people from a normal distribution, what would be the probability for a new person to have a height of 70 inches using (CDF) then z-score table? take height in inches.\n",
        "\n",
        "#### Mean height (in inches) of the population\n",
        "mean_height = 66\n",
        "\n",
        "#### Standard deviation of heights (in inches) of the population\n",
        "std_dev_height = 3\n",
        "\n",
        "\n",
        "##### Generate data using this code\n",
        "###### Generate heights for 1000 people from a normal distribution\n",
        "heights = np.random.normal(mean_height, std_dev_height, 1000)))"
      ]
    },
    {
      "cell_type": "code",
      "execution_count": 10,
      "id": "e0b6c3a7-4b11-403f-860d-0beab1408712",
      "metadata": {
        "id": "e0b6c3a7-4b11-403f-860d-0beab1408712",
        "colab": {
          "base_uri": "https://localhost:8080/"
        },
        "outputId": "6d6a8330-2417-4390-db23-85e7f8dc1a62"
      },
      "outputs": [
        {
          "output_type": "stream",
          "name": "stdout",
          "text": [
            "Z-Score: 1.3333333333333333\n",
            "Probability of a height less than or equal to 70 inches: 0.9087887802741321\n"
          ]
        }
      ],
      "source": [
        "#Sol=\n",
        "import numpy as np\n",
        "from scipy.stats import norm\n",
        "\n",
        "mean_height = 66\n",
        "std_dev_height = 3\n",
        "\n",
        "heights = np.random.normal(mean_height, std_dev_height, 1000)\n",
        "\n",
        "height = 70\n",
        "z_score = (height - mean_height) / std_dev_height\n",
        "\n",
        "probability = norm.cdf(z_score)\n",
        "\n",
        "print(f\"Z-Score: {z_score:}\")\n",
        "print(f\"Probability of a height less than or equal to 70 inches: {probability:}\")"
      ]
    },
    {
      "cell_type": "markdown",
      "id": "99a22f4f-7737-4ef9-9ad0-fb7bd8e0ba46",
      "metadata": {
        "id": "99a22f4f-7737-4ef9-9ad0-fb7bd8e0ba46"
      },
      "source": [
        "Que 2-  Suppose a fitness center manager anticipates the attendance for a particular yoga class throughout the week. Based on historical data and other factors, they estimate the expected attendance in numbers:\n",
        "\n",
        "### Expected Attendance:\n",
        "\n",
        "Monday: 40\n",
        "\n",
        "Tuesday: 45\n",
        "\n",
        "Wednesday: 38\n",
        "\n",
        "Thursday: 50\n",
        "\n",
        "Friday: 55\n",
        "\n",
        "Saturday: 60\n",
        "\n",
        "Sunday: 65\n",
        "\n",
        "However, after the week concludes, the actual attendance is recorded:\n",
        "\n",
        "\n",
        "\n",
        "### Observed (Actual) Attendance:\n",
        "\n",
        "\n",
        "\n",
        "Monday: 38\n",
        "\n",
        "Tuesday: 43\n",
        "\n",
        "Wednesday: 40\n",
        "\n",
        "Thursday: 48\n",
        "\n",
        "Friday: 52\n",
        "\n",
        "Saturday: 58\n",
        "\n",
        "Sunday: 62\n",
        "\n",
        "Ho: There is no significant difference between the expected and observed attendance for the yoga class throughout the week.\n",
        "\n",
        "Ha: There is a significant difference between the expected and observed attendance for the yoga class throughout the week.\n",
        "\n",
        "#### Use chi-square test *Statistical Tools*"
      ]
    },
    {
      "cell_type": "code",
      "execution_count": 14,
      "id": "06f2df44-24f4-4314-900d-d03f02823ceb",
      "metadata": {
        "id": "06f2df44-24f4-4314-900d-d03f02823ceb",
        "colab": {
          "base_uri": "https://localhost:8080/"
        },
        "outputId": "5d53c317-6712-464b-db60-a70d8ebb6cd5"
      },
      "outputs": [
        {
          "output_type": "stream",
          "name": "stdout",
          "text": [
            "Chi-square Statistic: 0.7429166155481945\n",
            "P-value: 0.9935176263990592\n",
            "Fail to reject the null hypothesis: There is no significant difference between expected and observed attendance.\n"
          ]
        }
      ],
      "source": [
        "#Sol=\n",
        "import numpy as np\n",
        "from scipy.stats import chi2\n",
        "\n",
        "expected_attendance = np.array([40, 45, 38, 50, 55, 60, 65])\n",
        "observed_attendance = np.array([38, 43, 40, 48, 52, 58, 62])\n",
        "\n",
        "chi_square_statistic = np.sum((observed_attendance - expected_attendance) ** 2 / expected_attendance)\n",
        "\n",
        "degrees_of_freedom = len(expected_attendance) - 1\n",
        "\n",
        "p_value = 1 - chi2.cdf(chi_square_statistic, df=degrees_of_freedom)\n",
        "\n",
        "print(f\"Chi-square Statistic: {chi_square_statistic:}\")\n",
        "print(f\"P-value: {p_value:}\")\n",
        "\n",
        "alpha = 0.05\n",
        "if p_value < alpha:\n",
        "    print(\"Reject the null hypothesis: There is a significant difference between expected and observed attendance.\")\n",
        "else:\n",
        "    print(\"Fail to reject the null hypothesis: There is no significant difference between expected and observed attendance.\")"
      ]
    },
    {
      "cell_type": "markdown",
      "id": "a651ae03-9b6a-4af4-a3e9-97b90bb8913e",
      "metadata": {
        "id": "a651ae03-9b6a-4af4-a3e9-97b90bb8913e"
      },
      "source": [
        "Que3 -> Calculate anova test\n",
        "\n",
        "\n",
        "\n",
        "\n",
        "\n",
        "    | Student_ID | Semester | Total_Marks |\n",
        "    |------------|----------|-------------|\n",
        "    | 1          | Fall     | 85          |\n",
        "    | 2          | Fall     | 78          |\n",
        "    | 3          | Fall     | 92          |\n",
        "    | 4          | Spring   | 88          |\n",
        "    | 5          | Spring   | 75          |\n",
        "    | 6          | Spring   | 82          |\n",
        "    | 7          | Summer   | 90          |\n",
        "    | 8          | Summer   | 86          |\n",
        "    | 9          | Summer   | 79          |    \n",
        "\n",
        "\n",
        "Null Hypothesis (Ho): The average marks of students in each semester are approximately equal.\n",
        "\n",
        "Alternative Hypothesis (Ha): The average marks of students in at least one semester are different."
      ]
    },
    {
      "cell_type": "code",
      "execution_count": 8,
      "id": "f4680b16-587c-4bec-809e-bfe473b7538a",
      "metadata": {
        "id": "f4680b16-587c-4bec-809e-bfe473b7538a",
        "colab": {
          "base_uri": "https://localhost:8080/"
        },
        "outputId": "2a2fd809-3bdd-487e-99b8-66093321f339"
      },
      "outputs": [
        {
          "output_type": "stream",
          "name": "stdout",
          "text": [
            "F-statistic: 0.27\n",
            "P-value: 0.7704\n",
            "Fail to reject the null hypothesis: There is no significant difference in average marks between the semesters.\n"
          ]
        }
      ],
      "source": [
        "#Sol=\n",
        "import pandas as pd\n",
        "from scipy.stats import f_oneway\n",
        "data = {\n",
        "    'Student_ID': [1, 2, 3, 4, 5, 6, 7, 8, 9],\n",
        "    'Semester': ['Fall', 'Fall', 'Fall', 'Spring', 'Spring', 'Spring', 'Summer', 'Summer', 'Summer'],\n",
        "    'Total_Marks': [85, 78, 92, 88, 75, 82, 90, 86, 79]\n",
        "}\n",
        "\n",
        "df = pd.DataFrame(data)\n",
        "fall_marks = df[df['Semester'] == 'Fall']['Total_Marks']\n",
        "spring_marks = df[df['Semester'] == 'Spring']['Total_Marks']\n",
        "summer_marks = df[df['Semester'] == 'Summer']['Total_Marks']\n",
        "\n",
        "f_stat, p_value = f_oneway(fall_marks, spring_marks, summer_marks)\n",
        "\n",
        "print(f\"F-statistic: {f_stat:.2f}\")\n",
        "print(f\"P-value: {p_value:.4f}\")\n",
        "\n",
        "alpha = 0.05\n",
        "if p_value < alpha:\n",
        "    print(\"Reject the null hypothesis: There is a significant difference in average marks between at least one pair of semesters.\")\n",
        "else:\n",
        "    print(\"Fail to reject the null hypothesis: There is no significant difference in average marks between the semesters.\")"
      ]
    }
  ],
  "metadata": {
    "kernelspec": {
      "display_name": "Python 3 (ipykernel)",
      "language": "python",
      "name": "python3"
    },
    "language_info": {
      "codemirror_mode": {
        "name": "ipython",
        "version": 3
      },
      "file_extension": ".py",
      "mimetype": "text/x-python",
      "name": "python",
      "nbconvert_exporter": "python",
      "pygments_lexer": "ipython3",
      "version": "3.10.12"
    },
    "colab": {
      "provenance": [],
      "include_colab_link": true
    }
  },
  "nbformat": 4,
  "nbformat_minor": 5
}