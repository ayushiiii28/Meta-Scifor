{
  "nbformat": 4,
  "nbformat_minor": 0,
  "metadata": {
    "colab": {
      "provenance": [],
      "authorship_tag": "ABX9TyOUI7ttRyYpevrxcQT7UlI4",
      "include_colab_link": true
    },
    "kernelspec": {
      "name": "python3",
      "display_name": "Python 3"
    },
    "language_info": {
      "name": "python"
    }
  },
  "cells": [
    {
      "cell_type": "markdown",
      "metadata": {
        "id": "view-in-github",
        "colab_type": "text"
      },
      "source": [
        "<a href=\"https://colab.research.google.com/github/ayushiiii28/Meta-Scifor/blob/main/Python1.ipynb\" target=\"_parent\"><img src=\"https://colab.research.google.com/assets/colab-badge.svg\" alt=\"Open In Colab\"/></a>"
      ]
    },
    {
      "cell_type": "code",
      "execution_count": null,
      "metadata": {
        "id": "x0JdXGeC7wL1"
      },
      "outputs": [],
      "source": [
        "#Python\n",
        "#Python is a popular programming language. It was created by Guido van Rossum, and released in 1991.\n",
        "#It is used for:\n",
        "#web development (server-side),\n",
        "#software development,\n",
        "#mathematics,\n",
        "#system scripting."
      ]
    },
    {
      "cell_type": "code",
      "source": [
        "#Python has a set of keywords that are reserved words that cannot be used as variable names, function names, or any other identifiers\n",
        "import keyword\n",
        "print(keyword.kwlist)"
      ],
      "metadata": {
        "colab": {
          "base_uri": "https://localhost:8080/"
        },
        "id": "D1McmvHz8A1h",
        "outputId": "4bee0272-17de-4e85-c2b0-db352573f0f5"
      },
      "execution_count": 1,
      "outputs": [
        {
          "output_type": "stream",
          "name": "stdout",
          "text": [
            "['False', 'None', 'True', 'and', 'as', 'assert', 'async', 'await', 'break', 'class', 'continue', 'def', 'del', 'elif', 'else', 'except', 'finally', 'for', 'from', 'global', 'if', 'import', 'in', 'is', 'lambda', 'nonlocal', 'not', 'or', 'pass', 'raise', 'return', 'try', 'while', 'with', 'yield']\n"
          ]
        }
      ]
    },
    {
      "cell_type": "code",
      "source": [
        "#Boolean Values\n",
        "##In programming you often need to know if an expression is True or False.\n",
        "#You can evaluate any expression in Python, and get one of two answers, True or False.\n",
        "print(10 > 9)\n",
        "print(10 == 9)\n",
        "print(10 < 9)"
      ],
      "metadata": {
        "id": "ryM_X-778YOd"
      },
      "execution_count": null,
      "outputs": []
    },
    {
      "cell_type": "code",
      "source": [
        "#True=1\n",
        "#False=0\n",
        "True + False"
      ],
      "metadata": {
        "colab": {
          "base_uri": "https://localhost:8080/"
        },
        "id": "Rhpcvp1_8qSK",
        "outputId": "1484bd3d-e484-4166-be5c-a4880df1b2cd"
      },
      "execution_count": 2,
      "outputs": [
        {
          "output_type": "execute_result",
          "data": {
            "text/plain": [
              "1"
            ]
          },
          "metadata": {},
          "execution_count": 2
        }
      ]
    },
    {
      "cell_type": "code",
      "source": [
        "True + True"
      ],
      "metadata": {
        "colab": {
          "base_uri": "https://localhost:8080/"
        },
        "id": "qbBOTjCb82DE",
        "outputId": "938b51de-0682-437c-b106-4aa3d21ea8cc"
      },
      "execution_count": 3,
      "outputs": [
        {
          "output_type": "execute_result",
          "data": {
            "text/plain": [
              "2"
            ]
          },
          "metadata": {},
          "execution_count": 3
        }
      ]
    },
    {
      "cell_type": "code",
      "source": [
        "#Concept of 'AND' & 'OR'\n",
        "is_male = True\n",
        "if is_male:\n",
        "  print(\"You are a male\")\n",
        "else:\n",
        "  print(\"You are not a male\")\n",
        "\n",
        "\n"
      ],
      "metadata": {
        "colab": {
          "base_uri": "https://localhost:8080/"
        },
        "id": "0LfnJ0Ji85a3",
        "outputId": "bfd21b61-eed1-496c-fc07-bd4c23dd2cca"
      },
      "execution_count": 6,
      "outputs": [
        {
          "output_type": "stream",
          "name": "stdout",
          "text": [
            "You are a male\n"
          ]
        }
      ]
    },
    {
      "cell_type": "code",
      "source": [
        "#OR\n",
        "is_male = True\n",
        "is_tall = False\n",
        "if is_male or is_tall:\n",
        "  print(\"You are a male or tall or both\")\n",
        "else:\n",
        "  print(\"You are neither a male nor tall\")"
      ],
      "metadata": {
        "colab": {
          "base_uri": "https://localhost:8080/"
        },
        "id": "P-cBqWIr94iF",
        "outputId": "fac30316-31cd-4faf-8b58-55ab3f8d52b9"
      },
      "execution_count": 7,
      "outputs": [
        {
          "output_type": "stream",
          "name": "stdout",
          "text": [
            "You are a male or tall or both\n"
          ]
        }
      ]
    },
    {
      "cell_type": "code",
      "source": [
        "#AND\n",
        "is_male = True\n",
        "is_tall = False\n",
        "if is_male and is_tall:\n",
        "  print(\"You are a male or tall or both\")\n",
        "else:\n",
        "  print(\"You are neither a male nor tall\")"
      ],
      "metadata": {
        "colab": {
          "base_uri": "https://localhost:8080/"
        },
        "id": "e9b4LIPb-Bzl",
        "outputId": "4fbe6bca-d8f7-401a-a5c8-8b1b4a5926d6"
      },
      "execution_count": 8,
      "outputs": [
        {
          "output_type": "stream",
          "name": "stdout",
          "text": [
            "You are neither a male nor tall\n"
          ]
        }
      ]
    },
    {
      "cell_type": "code",
      "source": [
        "#In programming, data type is an important concept.\n",
        "\n",
        "#Variables can store data of different types, and different types can do different things.\n",
        "# 1- Numbers/Integer\n",
        "# 2-String\n",
        "# 3-List\n",
        "# 4-Tuple\n",
        "# 5-Set\n",
        "# 6-Dictionary"
      ],
      "metadata": {
        "id": "Cy--B2tU-HQW"
      },
      "execution_count": null,
      "outputs": []
    },
    {
      "cell_type": "code",
      "source": [
        "#Numbers\n",
        "#There are three numeric types in Python:\n",
        "\n",
        "int\n",
        "float\n",
        "complex"
      ],
      "metadata": {
        "id": "O-cmK-bw-XRr"
      },
      "execution_count": null,
      "outputs": []
    },
    {
      "cell_type": "code",
      "source": [
        "x = 1    # int\n",
        "y = 2.8  # float\n",
        "z = 1j   # comple"
      ],
      "metadata": {
        "id": "EqRJAXYx-c_7"
      },
      "execution_count": null,
      "outputs": []
    },
    {
      "cell_type": "code",
      "source": [
        "#To verify the type of any object in Python, use the type() function:\n",
        "x=10\n",
        "y = 3+5j\n",
        "z=2.152\n",
        "type(x)\n",
        "type(y)\n",
        "type(z)"
      ],
      "metadata": {
        "colab": {
          "base_uri": "https://localhost:8080/"
        },
        "id": "anyR8DeO-f5O",
        "outputId": "81816ed6-4b56-4d6e-816f-2c7a6ffedcbf"
      },
      "execution_count": 13,
      "outputs": [
        {
          "output_type": "execute_result",
          "data": {
            "text/plain": [
              "float"
            ]
          },
          "metadata": {},
          "execution_count": 13
        }
      ]
    },
    {
      "cell_type": "code",
      "source": [
        "#Strings\n",
        "#Strings in python are surrounded by either single quotation marks, or double quotation marks.\n",
        "\n",
        "#'hello' is the same as \"hello\".\n",
        "\n",
        "#You can display a string literal with the print() function"
      ],
      "metadata": {
        "id": "HxU4Jie-_QWs"
      },
      "execution_count": null,
      "outputs": []
    },
    {
      "cell_type": "code",
      "source": [
        "a=\"Hello\"\n",
        "print(a)\n",
        "type(a)"
      ],
      "metadata": {
        "colab": {
          "base_uri": "https://localhost:8080/"
        },
        "id": "x0Z1AAmX_aWH",
        "outputId": "8c96dbe8-d338-4e48-cded-1a457897af4b"
      },
      "execution_count": 16,
      "outputs": [
        {
          "output_type": "stream",
          "name": "stdout",
          "text": [
            "Hello\n"
          ]
        },
        {
          "output_type": "execute_result",
          "data": {
            "text/plain": [
              "str"
            ]
          },
          "metadata": {},
          "execution_count": 16
        }
      ]
    },
    {
      "cell_type": "code",
      "source": [
        "print(\"Hello Ayushi!\")"
      ],
      "metadata": {
        "colab": {
          "base_uri": "https://localhost:8080/"
        },
        "id": "BCHrs_Ga_qa5",
        "outputId": "bd759024-4753-4824-88b0-55ffaf3d9ae2"
      },
      "execution_count": 17,
      "outputs": [
        {
          "output_type": "stream",
          "name": "stdout",
          "text": [
            "Hello Ayushi!\n"
          ]
        }
      ]
    },
    {
      "cell_type": "code",
      "source": [
        "str1='Good'\n",
        "str2=' Morning'\n",
        "str3=' Everyone'\n",
        "print(str1+str2+str3)"
      ],
      "metadata": {
        "colab": {
          "base_uri": "https://localhost:8080/"
        },
        "id": "Rv_T_HeW_-Hz",
        "outputId": "6dbe127e-5032-4a5a-cb6b-533f416d524d"
      },
      "execution_count": 19,
      "outputs": [
        {
          "output_type": "stream",
          "name": "stdout",
          "text": [
            "Good Morning Everyone\n"
          ]
        }
      ]
    },
    {
      "cell_type": "code",
      "source": [
        "print('  a' *  5)  #(* use for multiplication)"
      ],
      "metadata": {
        "colab": {
          "base_uri": "https://localhost:8080/"
        },
        "id": "AglO2tK0ALye",
        "outputId": "a05502d4-8535-4fe7-dd82-5334f4d38175"
      },
      "execution_count": 20,
      "outputs": [
        {
          "output_type": "stream",
          "name": "stdout",
          "text": [
            "  a  a  a  a  a\n"
          ]
        }
      ]
    },
    {
      "cell_type": "code",
      "source": [
        "print(' *' * 100)"
      ],
      "metadata": {
        "colab": {
          "base_uri": "https://localhost:8080/"
        },
        "id": "5sBOJ6t5ASJn",
        "outputId": "93a7d903-49f5-4f2f-cc37-f8fbda03471f"
      },
      "execution_count": 21,
      "outputs": [
        {
          "output_type": "stream",
          "name": "stdout",
          "text": [
            " * * * * * * * * * * * * * * * * * * * * * * * * * * * * * * * * * * * * * * * * * * * * * * * * * * * * * * * * * * * * * * * * * * * * * * * * * * * * * * * * * * * * * * * * * * * * * * * * * * * *\n"
          ]
        }
      ]
    },
    {
      "cell_type": "code",
      "source": [
        "print('Day' + str(5))\n",
        "#We can only add str+str not str+int, otherwise it will show type error"
      ],
      "metadata": {
        "id": "TYPtC-xlAWVE"
      },
      "execution_count": null,
      "outputs": []
    }
  ]
}