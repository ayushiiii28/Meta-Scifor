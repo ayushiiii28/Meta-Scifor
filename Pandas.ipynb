{
  "nbformat": 4,
  "nbformat_minor": 0,
  "metadata": {
    "colab": {
      "provenance": [],
      "authorship_tag": "ABX9TyODwEV5WieN5N00OUaAybgT",
      "include_colab_link": true
    },
    "kernelspec": {
      "name": "python3",
      "display_name": "Python 3"
    },
    "language_info": {
      "name": "python"
    }
  },
  "cells": [
    {
      "cell_type": "markdown",
      "metadata": {
        "id": "view-in-github",
        "colab_type": "text"
      },
      "source": [
        "<a href=\"https://colab.research.google.com/github/ayushiiii28/Meta-Scifor/blob/main/Pandas.ipynb\" target=\"_parent\"><img src=\"https://colab.research.google.com/assets/colab-badge.svg\" alt=\"Open In Colab\"/></a>"
      ]
    },
    {
      "cell_type": "code",
      "execution_count": null,
      "metadata": {
        "id": "T57-k3MBnAsg"
      },
      "outputs": [],
      "source": [
        "#Pandas is a Python library used for working with data sets.\n",
        "\n",
        "#It has functions for analyzing, cleaning, exploring, and manipulating data\n",
        "#We can import Pandas as:\n",
        "import pandas as pd\n",
        "#pd here is a object/instance/alias\n"
      ]
    },
    {
      "cell_type": "code",
      "source": [
        "#A Pandas Series is like a column in a table. It is a one-dimensional array holding data of any type.\n",
        "import pandas as pd\n",
        "a=[1,2,3,4]\n",
        "var=pd.Series(a)\n",
        "print(var)\n"
      ],
      "metadata": {
        "colab": {
          "base_uri": "https://localhost:8080/"
        },
        "id": "64T-kSsHoFFG",
        "outputId": "8b2e0e4b-054a-46a4-8d66-5afe348c374f"
      },
      "execution_count": null,
      "outputs": [
        {
          "output_type": "stream",
          "name": "stdout",
          "text": [
            "0    1\n",
            "1    2\n",
            "2    3\n",
            "3    4\n",
            "dtype: int64\n"
          ]
        }
      ]
    },
    {
      "cell_type": "code",
      "source": [
        "#As we can see our list 'a' has some indexed values starting from '0' called Labels.\n",
        "print(var[0])"
      ],
      "metadata": {
        "colab": {
          "base_uri": "https://localhost:8080/"
        },
        "id": "wKXl9yoiowGg",
        "outputId": "66e13227-f666-4294-9f46-0c67ce9f204f"
      },
      "execution_count": null,
      "outputs": [
        {
          "output_type": "stream",
          "name": "stdout",
          "text": [
            "1\n"
          ]
        }
      ]
    },
    {
      "cell_type": "code",
      "source": [
        "#We can create our own index\n",
        "import pandas as pd\n",
        "a=[1,4,5,7]\n",
        "var= pd.Series(a,index=[\"x\",\"y\",\"z\",\"a\"])\n",
        "print(var)\n"
      ],
      "metadata": {
        "colab": {
          "base_uri": "https://localhost:8080/"
        },
        "id": "rzNTo0lNpJ9b",
        "outputId": "11d422d8-8fd0-449d-9c96-31fe40eab1a6"
      },
      "execution_count": null,
      "outputs": [
        {
          "output_type": "stream",
          "name": "stdout",
          "text": [
            "x    1\n",
            "y    4\n",
            "z    5\n",
            "a    7\n",
            "dtype: int64\n"
          ]
        }
      ]
    },
    {
      "cell_type": "code",
      "source": [
        "#You can also use a key/value object, like a dictionary, when creating a Series\n",
        "import pandas as pd\n",
        "dict={\"A\":[1,2,3],\"B\":[4,5,6],\"c\":[7,8,9]}\n",
        "var=pd.Series(dict)\n",
        "print(var)"
      ],
      "metadata": {
        "colab": {
          "base_uri": "https://localhost:8080/"
        },
        "id": "G4kLzGpupo57",
        "outputId": "8b9094a1-d34d-4c52-9fd6-d462fc88fa8b"
      },
      "execution_count": null,
      "outputs": [
        {
          "output_type": "stream",
          "name": "stdout",
          "text": [
            "A    [1, 2, 3]\n",
            "B    [4, 5, 6]\n",
            "c    [7, 8, 9]\n",
            "dtype: object\n"
          ]
        }
      ]
    },
    {
      "cell_type": "code",
      "source": [
        "#Just like series, WWe can create tables in pandas usind DataFrame\n",
        "#Data sets in Pandas are usually multi-dimensional tables, called DataFrames.\n",
        "#Series is like a column, a DataFrame is the whole table.\n",
        "df=pd.DataFrame(dict)\n",
        "print(df)"
      ],
      "metadata": {
        "colab": {
          "base_uri": "https://localhost:8080/"
        },
        "id": "w5V_dodUqMoQ",
        "outputId": "881a9fa6-90ed-4b8a-cbc3-6d0299640518"
      },
      "execution_count": null,
      "outputs": [
        {
          "output_type": "stream",
          "name": "stdout",
          "text": [
            "   A  B  c\n",
            "0  1  4  7\n",
            "1  2  5  8\n",
            "2  3  6  9\n"
          ]
        }
      ]
    },
    {
      "cell_type": "code",
      "source": [
        "#To add new column & values\n",
        "df[\"d\"]=\"10 11 12\".split()\n",
        "print(df)"
      ],
      "metadata": {
        "colab": {
          "base_uri": "https://localhost:8080/"
        },
        "id": "WkuvYRjzqkpq",
        "outputId": "738b45a3-6919-40c3-ce43-811c88161905"
      },
      "execution_count": null,
      "outputs": [
        {
          "output_type": "stream",
          "name": "stdout",
          "text": [
            "   A  B  c   d\n",
            "0  1  4  7  10\n",
            "1  2  5  8  11\n",
            "2  3  6  9  12\n"
          ]
        }
      ]
    },
    {
      "cell_type": "code",
      "source": [
        "#We can also create Null values which here are known as Nan values, standing for 'Not A Number'.\n",
        "import pandas as pd\n",
        "import numpy as np\n",
        "dict={\"Name\":[\"Ayushi\",\"Nishu\",np.nan],\"Roll Number\":[1,2,np.nan],\"Branch\":[\"Btech\",\"Btech\",np.nan]}\n",
        "df=pd.DataFrame(dict)\n",
        "print(df)"
      ],
      "metadata": {
        "colab": {
          "base_uri": "https://localhost:8080/"
        },
        "id": "taN1DeKSrFKC",
        "outputId": "3e20d85d-9a0a-4184-8911-bba4723fdbea"
      },
      "execution_count": null,
      "outputs": [
        {
          "output_type": "stream",
          "name": "stdout",
          "text": [
            "     Name  Roll Number Branch\n",
            "0  Ayushi          1.0  Btech\n",
            "1   Nishu          2.0  Btech\n",
            "2     NaN          NaN    NaN\n"
          ]
        }
      ]
    },
    {
      "cell_type": "code",
      "source": [
        "#How to drop Nan value\n",
        "print(df.dropna(axis=1))"
      ],
      "metadata": {
        "colab": {
          "base_uri": "https://localhost:8080/"
        },
        "id": "OYEA3L0rsA6O",
        "outputId": "02c5e278-8928-4400-a90f-d10a912174ff"
      },
      "execution_count": null,
      "outputs": [
        {
          "output_type": "stream",
          "name": "stdout",
          "text": [
            "Empty DataFrame\n",
            "Columns: []\n",
            "Index: [0, 1, 2]\n"
          ]
        }
      ]
    },
    {
      "cell_type": "code",
      "source": [
        "print(df)"
      ],
      "metadata": {
        "colab": {
          "base_uri": "https://localhost:8080/"
        },
        "id": "ieJlRYxNtMB0",
        "outputId": "88a0a490-e64c-48cc-8097-cde39cb398a4"
      },
      "execution_count": null,
      "outputs": [
        {
          "output_type": "stream",
          "name": "stdout",
          "text": [
            "     Name  Roll Number Branch\n",
            "0  Ayushi          1.0  Btech\n",
            "1   Nishu          2.0  Btech\n",
            "2     NaN          NaN    NaN\n"
          ]
        }
      ]
    },
    {
      "cell_type": "code",
      "source": [
        "#axi=1, is used for columns, while axis=0 is used for row deletion temporarily\n",
        "#Filling  Nan values\n",
        "print(df.fillna(value=\"New\"))\n",
        "print(df)\n"
      ],
      "metadata": {
        "colab": {
          "base_uri": "https://localhost:8080/"
        },
        "id": "M7EKJglJtPd2",
        "outputId": "0426a6d8-1149-4f90-903d-d2c01d3de298"
      },
      "execution_count": null,
      "outputs": [
        {
          "output_type": "stream",
          "name": "stdout",
          "text": [
            "     Name Roll Number Branch\n",
            "0  Ayushi         1.0  Btech\n",
            "1   Nishu         2.0  Btech\n",
            "2     New         New    New\n",
            "     Name  Roll Number Branch\n",
            "0  Ayushi          1.0  Btech\n",
            "1   Nishu          2.0  Btech\n",
            "2     NaN          NaN    NaN\n"
          ]
        }
      ]
    },
    {
      "cell_type": "code",
      "source": [
        "#we can save it using inplace\n",
        "import pandas as pd\n",
        "import numpy as np\n",
        "dict={'A': [1, 2,np.nan], 'B': [5, np.nan, np.nan], 'C': [1, 2, 3]}\n",
        "df=pd.DataFrame(dict)\n",
        "print(df)"
      ],
      "metadata": {
        "colab": {
          "base_uri": "https://localhost:8080/"
        },
        "id": "vrgE5G4ct0vY",
        "outputId": "f3d3bf41-a0b0-4f9a-b49a-3b4fe0f2d315"
      },
      "execution_count": null,
      "outputs": [
        {
          "output_type": "stream",
          "name": "stdout",
          "text": [
            "     A    B  C\n",
            "0  1.0  5.0  1\n",
            "1  2.0  NaN  2\n",
            "2  NaN  NaN  3\n"
          ]
        }
      ]
    },
    {
      "cell_type": "code",
      "source": [
        "df.fillna(value=df['C'].mean(),inplace=True)\n",
        "print(df)"
      ],
      "metadata": {
        "colab": {
          "base_uri": "https://localhost:8080/"
        },
        "id": "1QZ1YIhuvhN9",
        "outputId": "7d650aa2-9349-4953-aed7-323bceb39d43"
      },
      "execution_count": null,
      "outputs": [
        {
          "output_type": "stream",
          "name": "stdout",
          "text": [
            "     A    B  C\n",
            "0  1.0  5.0  1\n",
            "1  2.0  2.0  2\n",
            "2  2.0  2.0  3\n"
          ]
        }
      ]
    },
    {
      "cell_type": "code",
      "source": [
        "bycomp=df.groupby('A')\n",
        "print(bycomp.mean())"
      ],
      "metadata": {
        "colab": {
          "base_uri": "https://localhost:8080/"
        },
        "id": "r-VzDQjGvocN",
        "outputId": "c3e8c9e8-239a-4e17-f3e8-3a2bf66a92bc"
      },
      "execution_count": null,
      "outputs": [
        {
          "output_type": "stream",
          "name": "stdout",
          "text": [
            "       B    C\n",
            "A            \n",
            "1.0  5.0  1.0\n",
            "2.0  2.0  2.5\n"
          ]
        }
      ]
    },
    {
      "cell_type": "code",
      "source": [
        "#Concating DataFrame can be done by 3 methods: Concat, Merge,Join\n",
        "data=pd.DataFrame({'Maths':[75,65,55,50],\n",
        "                     'English':[66,69,60,75],\n",
        "                     'AI':[75,75,70,74],\n",
        "                     'DBMS':[54,70,58,71]},\n",
        "                    index=['Ayushi','Nishu','Suhani','Janvi'])\n",
        "print(data)"
      ],
      "metadata": {
        "colab": {
          "base_uri": "https://localhost:8080/"
        },
        "id": "SLbikkPWwTnG",
        "outputId": "a8a1e03e-a944-49eb-8c65-e682245cfd09"
      },
      "execution_count": null,
      "outputs": [
        {
          "output_type": "stream",
          "name": "stdout",
          "text": [
            "        Maths  English  AI  DBMS\n",
            "Ayushi     75       66  75    54\n",
            "Nishu      65       69  75    70\n",
            "Suhani     55       60  70    58\n",
            "Janvi      50       75  74    71\n"
          ]
        }
      ]
    },
    {
      "cell_type": "code",
      "source": [
        "data2=pd.DataFrame({'Maths':[75,60,55,50],\n",
        "                     'English':[66,60,60,75],\n",
        "                     'AI':[75,70,70,74],\n",
        "                     'DBMS':[54,70,50,71]},\n",
        "                    index=['Vidhi','Disha','Hitika','Ritika'])\n",
        "print(data2)"
      ],
      "metadata": {
        "colab": {
          "base_uri": "https://localhost:8080/"
        },
        "id": "3qaMQUR7xZFh",
        "outputId": "fc00928e-0fe6-4d31-9892-bd9ae77c9bce"
      },
      "execution_count": null,
      "outputs": [
        {
          "output_type": "stream",
          "name": "stdout",
          "text": [
            "        Maths  English  AI  DBMS\n",
            "Vidhi      75       66  75    54\n",
            "Disha      60       60  70    70\n",
            "Hitika     55       60  70    50\n",
            "Ritika     50       75  74    71\n"
          ]
        }
      ]
    },
    {
      "cell_type": "code",
      "source": [
        "#Concating DataFrame\n",
        "Total=pd.concat([data,data2],axis=0)\n",
        "print(Total)"
      ],
      "metadata": {
        "colab": {
          "base_uri": "https://localhost:8080/"
        },
        "id": "cXKHo7AlxZNh",
        "outputId": "558f3fd7-c249-4420-e0bf-ac9c91dae137"
      },
      "execution_count": null,
      "outputs": [
        {
          "output_type": "stream",
          "name": "stdout",
          "text": [
            "        Maths  English  AI  DBMS\n",
            "Ayushi     75       66  75    54\n",
            "Nishu      65       69  75    70\n",
            "Suhani     55       60  70    58\n",
            "Janvi      50       75  74    71\n",
            "Vidhi      75       66  75    54\n",
            "Disha      60       60  70    70\n",
            "Hitika     55       60  70    50\n",
            "Ritika     50       75  74    71\n"
          ]
        }
      ]
    },
    {
      "cell_type": "code",
      "source": [
        "#column wise\n",
        "df.cat2=pd.concat([data,data2],axis=1)\n",
        "df.cat2.fillna(value=0,inplace=True)\n",
        "print(df.cat2)"
      ],
      "metadata": {
        "colab": {
          "base_uri": "https://localhost:8080/"
        },
        "id": "M0OrMRo5yYYv",
        "outputId": "9d47587a-4353-4e82-e3b1-7067235d3ef5"
      },
      "execution_count": null,
      "outputs": [
        {
          "output_type": "stream",
          "name": "stdout",
          "text": [
            "        Maths  English    AI  DBMS  Maths  English    AI  DBMS\n",
            "Ayushi   75.0     66.0  75.0  54.0    0.0      0.0   0.0   0.0\n",
            "Nishu    65.0     69.0  75.0  70.0    0.0      0.0   0.0   0.0\n",
            "Suhani   55.0     60.0  70.0  58.0    0.0      0.0   0.0   0.0\n",
            "Janvi    50.0     75.0  74.0  71.0    0.0      0.0   0.0   0.0\n",
            "Vidhi     0.0      0.0   0.0   0.0   75.0     66.0  75.0  54.0\n",
            "Disha     0.0      0.0   0.0   0.0   60.0     60.0  70.0  70.0\n",
            "Hitika    0.0      0.0   0.0   0.0   55.0     60.0  70.0  50.0\n",
            "Ritika    0.0      0.0   0.0   0.0   50.0     75.0  74.0  71.0\n"
          ]
        }
      ]
    },
    {
      "cell_type": "code",
      "source": [
        "#Merging\n",
        "import pandas as pd\n",
        "df1 = pd.DataFrame( {'ID': [1, 2, 3],'Name': ['Alice', 'Bob', 'Charlie']})\n",
        "df2 = pd.DataFrame( {\n",
        "    'ID': [1, 2, 3],\n",
        "    'Name': ['Alice', 'Bob', 'Charlie']\n",
        "})\n",
        "merged_df = pd.merge(df1, df2, on='ID')\n",
        "\n",
        "print(merged_df)"
      ],
      "metadata": {
        "colab": {
          "base_uri": "https://localhost:8080/"
        },
        "id": "Db6urUu0yyWd",
        "outputId": "c587007a-660f-4a53-ce38-369d58748bdc"
      },
      "execution_count": null,
      "outputs": [
        {
          "output_type": "stream",
          "name": "stdout",
          "text": [
            "   ID   Name_x   Name_y\n",
            "0   1    Alice    Alice\n",
            "1   2      Bob      Bob\n",
            "2   3  Charlie  Charlie\n"
          ]
        }
      ]
    },
    {
      "cell_type": "code",
      "source": [
        "#Join\n",
        "import pandas as pd\n",
        "dict1 = {\n",
        "    'ID': [1, 2, 3],\n",
        "    'Name': ['Alice', 'Bob', 'Charlie']\n",
        "}\n",
        "\n",
        "dict2 = {\n",
        "    'ID': [1, 2, 3],\n",
        "    'Age': [24, 27, 22]\n",
        "}\n",
        "df1 = pd.DataFrame(dict1)\n",
        "df2 = pd.DataFrame(dict2)\n",
        "df1.set_index('ID', inplace=True)\n",
        "df2.set_index('ID', inplace=True)\n",
        "merged_df = df1.join(df2, how='inner')\n",
        "\n",
        "print(merged_df)"
      ],
      "metadata": {
        "colab": {
          "base_uri": "https://localhost:8080/"
        },
        "id": "jpTJhQRSz0Yp",
        "outputId": "8b1752fe-a548-487a-f9cd-e84169921872"
      },
      "execution_count": null,
      "outputs": [
        {
          "output_type": "stream",
          "name": "stdout",
          "text": [
            "       Name  Age\n",
            "ID              \n",
            "1     Alice   24\n",
            "2       Bob   27\n",
            "3   Charlie   22\n"
          ]
        }
      ]
    },
    {
      "cell_type": "code",
      "source": [
        "#We can also apply functions\n",
        "import pandas as pd\n",
        "import numpy as np\n",
        "def salary_hike(salary):\n",
        "  if salary>5000:\n",
        "    return np.ceil(salary%(salary*3))\n",
        "  else:\n",
        "    return np.ceil(salary*5)\n",
        "df=pd.DataFrame({'Dept':['hr','it','design','management'],'emp_name':['a','b','c','d'],'salary':[6000,7000,3000,6000]})\n",
        "print(df)\n"
      ],
      "metadata": {
        "colab": {
          "base_uri": "https://localhost:8080/"
        },
        "id": "dC_fAXdp0qi3",
        "outputId": "e1d0b826-c1f7-462f-ac50-562fd39bb6ca"
      },
      "execution_count": null,
      "outputs": [
        {
          "output_type": "stream",
          "name": "stdout",
          "text": [
            "         Dept emp_name  salary\n",
            "0          hr        a    6000\n",
            "1          it        b    7000\n",
            "2      design        c    3000\n",
            "3  management        d    6000\n"
          ]
        }
      ]
    },
    {
      "cell_type": "code",
      "source": [
        "df['New salary']=df['salary'].apply(salary_hike)\n",
        "df['Name length']=df['emp_name'].apply(len)\n",
        "print(df)"
      ],
      "metadata": {
        "colab": {
          "base_uri": "https://localhost:8080/"
        },
        "id": "K21Z_b1_0_DX",
        "outputId": "0ed3b05f-4083-4845-b46f-f5f262ad1fd6"
      },
      "execution_count": null,
      "outputs": [
        {
          "output_type": "stream",
          "name": "stdout",
          "text": [
            "         Dept emp_name  salary  New salary  Name length\n",
            "0          hr        a    6000      6000.0            1\n",
            "1          it        b    7000      7000.0            1\n",
            "2      design        c    3000     15000.0            1\n",
            "3  management        d    6000      6000.0            1\n"
          ]
        }
      ]
    },
    {
      "cell_type": "code",
      "source": [
        "df['New salary'].apply(lambda x:np.sqrt(x))"
      ],
      "metadata": {
        "colab": {
          "base_uri": "https://localhost:8080/"
        },
        "id": "RslcRc812mSY",
        "outputId": "92688dec-26c6-4c0f-d670-78eee532bc15"
      },
      "execution_count": null,
      "outputs": [
        {
          "output_type": "execute_result",
          "data": {
            "text/plain": [
              "0     77.459667\n",
              "1     83.666003\n",
              "2    122.474487\n",
              "3     77.459667\n",
              "Name: New salary, dtype: float64"
            ]
          },
          "metadata": {},
          "execution_count": 49
        }
      ]
    },
    {
      "cell_type": "code",
      "source": [
        "#Deletion,sorting,list of column & rows\n",
        "print(df.columns)"
      ],
      "metadata": {
        "colab": {
          "base_uri": "https://localhost:8080/"
        },
        "id": "W0HO5fDz3Bbi",
        "outputId": "afb53b9e-4b14-4191-e505-e435bb3493c6"
      },
      "execution_count": null,
      "outputs": [
        {
          "output_type": "stream",
          "name": "stdout",
          "text": [
            "Index(['Dept', 'emp_name', 'salary', 'New salary', 'Name length'], dtype='object')\n"
          ]
        }
      ]
    },
    {
      "cell_type": "code",
      "source": [
        "l=list(df.columns)\n",
        "print(l)"
      ],
      "metadata": {
        "colab": {
          "base_uri": "https://localhost:8080/"
        },
        "id": "uIfzq5xY3dLn",
        "outputId": "9f8ecdf7-b0ba-4a28-d2cb-d8100f91aa3c"
      },
      "execution_count": null,
      "outputs": [
        {
          "output_type": "stream",
          "name": "stdout",
          "text": [
            "['Dept', 'emp_name', 'salary', 'New salary', 'Name length']\n"
          ]
        }
      ]
    },
    {
      "cell_type": "code",
      "source": [
        "del df['salary']\n",
        "print(df)"
      ],
      "metadata": {
        "colab": {
          "base_uri": "https://localhost:8080/"
        },
        "id": "puR1SphK3lLh",
        "outputId": "6d8bb261-14a6-4842-8e43-67ad87fa780a"
      },
      "execution_count": null,
      "outputs": [
        {
          "output_type": "stream",
          "name": "stdout",
          "text": [
            "         Dept emp_name  New salary  Name length\n",
            "0          hr        a      6000.0            1\n",
            "1          it        b      7000.0            1\n",
            "2      design        c     15000.0            1\n",
            "3  management        d      6000.0            1\n"
          ]
        }
      ]
    },
    {
      "cell_type": "code",
      "source": [
        "import pandas as pd\n",
        "ipl=pd.read_csv('/matches.csv')\n",
        "print(ipl)\n"
      ],
      "metadata": {
        "colab": {
          "base_uri": "https://localhost:8080/"
        },
        "id": "IFFb1oAM5VCP",
        "outputId": "e7556343-0648-4f63-e049-67193ba467a6"
      },
      "execution_count": null,
      "outputs": [
        {
          "output_type": "stream",
          "name": "stdout",
          "text": [
            "      id  season       city      date                        team1  \\\n",
            "0      1    2017  Hyderabad  05/04/17          Sunrisers Hyderabad   \n",
            "1      2    2017       Pune  06/04/17               Mumbai Indians   \n",
            "2      3    2017     Rajkot  07/04/17                Gujarat Lions   \n",
            "3      4    2017     Indore  08/04/17       Rising Pune Supergiant   \n",
            "4      5    2017  Bangalore  08/04/17  Royal Challengers Bangalore   \n",
            "..   ...     ...        ...       ...                          ...   \n",
            "631  632    2016     Raipur  22/05/16             Delhi Daredevils   \n",
            "632  633    2016  Bangalore  24/05/16                Gujarat Lions   \n",
            "633  634    2016      Delhi  25/05/16          Sunrisers Hyderabad   \n",
            "634  635    2016      Delhi  27/05/16                Gujarat Lions   \n",
            "635  636    2016  Bangalore  29/05/16          Sunrisers Hyderabad   \n",
            "\n",
            "                           team2                  toss_winner toss_decision  \\\n",
            "0    Royal Challengers Bangalore  Royal Challengers Bangalore         field   \n",
            "1         Rising Pune Supergiant       Rising Pune Supergiant         field   \n",
            "2          Kolkata Knight Riders        Kolkata Knight Riders         field   \n",
            "3                Kings XI Punjab              Kings XI Punjab         field   \n",
            "4               Delhi Daredevils  Royal Challengers Bangalore           bat   \n",
            "..                           ...                          ...           ...   \n",
            "631  Royal Challengers Bangalore  Royal Challengers Bangalore         field   \n",
            "632  Royal Challengers Bangalore  Royal Challengers Bangalore         field   \n",
            "633        Kolkata Knight Riders        Kolkata Knight Riders         field   \n",
            "634          Sunrisers Hyderabad          Sunrisers Hyderabad         field   \n",
            "635  Royal Challengers Bangalore          Sunrisers Hyderabad           bat   \n",
            "\n",
            "     result  dl_applied                       winner  win_by_runs  \\\n",
            "0    normal           0          Sunrisers Hyderabad           35   \n",
            "1    normal           0       Rising Pune Supergiant            0   \n",
            "2    normal           0        Kolkata Knight Riders            0   \n",
            "3    normal           0              Kings XI Punjab            0   \n",
            "4    normal           0  Royal Challengers Bangalore           15   \n",
            "..      ...         ...                          ...          ...   \n",
            "631  normal           0  Royal Challengers Bangalore            0   \n",
            "632  normal           0  Royal Challengers Bangalore            0   \n",
            "633  normal           0          Sunrisers Hyderabad           22   \n",
            "634  normal           0          Sunrisers Hyderabad            0   \n",
            "635  normal           0          Sunrisers Hyderabad            8   \n",
            "\n",
            "     win_by_wickets player_of_match  \\\n",
            "0                 0    Yuvraj Singh   \n",
            "1                 7       SPD Smith   \n",
            "2                10         CA Lynn   \n",
            "3                 6      GJ Maxwell   \n",
            "4                 0       KM Jadhav   \n",
            "..              ...             ...   \n",
            "631               6         V Kohli   \n",
            "632               4  AB de Villiers   \n",
            "633               0    MC Henriques   \n",
            "634               4       DA Warner   \n",
            "635               0     BCJ Cutting   \n",
            "\n",
            "                                                venue          umpire1  \\\n",
            "0           Rajiv Gandhi International Stadium, Uppal      AY Dandekar   \n",
            "1             Maharashtra Cricket Association Stadium   A Nand Kishore   \n",
            "2              Saurashtra Cricket Association Stadium      Nitin Menon   \n",
            "3                              Holkar Cricket Stadium     AK Chaudhary   \n",
            "4                               M Chinnaswamy Stadium              NaN   \n",
            "..                                                ...              ...   \n",
            "631  Shaheed Veer Narayan Singh International Stadium   A Nand Kishore   \n",
            "632                             M Chinnaswamy Stadium     AK Chaudhary   \n",
            "633                                  Feroz Shah Kotla        M Erasmus   \n",
            "634                                  Feroz Shah Kotla        M Erasmus   \n",
            "635                             M Chinnaswamy Stadium  HDPK Dharmasena   \n",
            "\n",
            "             umpire2  umpire3  \n",
            "0           NJ Llong      NaN  \n",
            "1             S Ravi      NaN  \n",
            "2          CK Nandan      NaN  \n",
            "3      C Shamshuddin      NaN  \n",
            "4                NaN      NaN  \n",
            "..               ...      ...  \n",
            "631     BNJ Oxenford      NaN  \n",
            "632  HDPK Dharmasena      NaN  \n",
            "633    C Shamshuddin      NaN  \n",
            "634        CK Nandan      NaN  \n",
            "635     BNJ Oxenford      NaN  \n",
            "\n",
            "[636 rows x 18 columns]\n"
          ]
        }
      ]
    },
    {
      "cell_type": "code",
      "source": [
        "ipl.head()"
      ],
      "metadata": {
        "colab": {
          "base_uri": "https://localhost:8080/",
          "height": 451
        },
        "id": "I79D-Kpp6mUs",
        "outputId": "e6cd97a6-9652-4caf-adf3-611b106c6179"
      },
      "execution_count": null,
      "outputs": [
        {
          "output_type": "execute_result",
          "data": {
            "text/plain": [
              "   id  season       city      date                        team1  \\\n",
              "0   1    2017  Hyderabad  05/04/17          Sunrisers Hyderabad   \n",
              "1   2    2017       Pune  06/04/17               Mumbai Indians   \n",
              "2   3    2017     Rajkot  07/04/17                Gujarat Lions   \n",
              "3   4    2017     Indore  08/04/17       Rising Pune Supergiant   \n",
              "4   5    2017  Bangalore  08/04/17  Royal Challengers Bangalore   \n",
              "\n",
              "                         team2                  toss_winner toss_decision  \\\n",
              "0  Royal Challengers Bangalore  Royal Challengers Bangalore         field   \n",
              "1       Rising Pune Supergiant       Rising Pune Supergiant         field   \n",
              "2        Kolkata Knight Riders        Kolkata Knight Riders         field   \n",
              "3              Kings XI Punjab              Kings XI Punjab         field   \n",
              "4             Delhi Daredevils  Royal Challengers Bangalore           bat   \n",
              "\n",
              "   result  dl_applied                       winner  win_by_runs  \\\n",
              "0  normal           0          Sunrisers Hyderabad           35   \n",
              "1  normal           0       Rising Pune Supergiant            0   \n",
              "2  normal           0        Kolkata Knight Riders            0   \n",
              "3  normal           0              Kings XI Punjab            0   \n",
              "4  normal           0  Royal Challengers Bangalore           15   \n",
              "\n",
              "   win_by_wickets player_of_match                                      venue  \\\n",
              "0               0    Yuvraj Singh  Rajiv Gandhi International Stadium, Uppal   \n",
              "1               7       SPD Smith    Maharashtra Cricket Association Stadium   \n",
              "2              10         CA Lynn     Saurashtra Cricket Association Stadium   \n",
              "3               6      GJ Maxwell                     Holkar Cricket Stadium   \n",
              "4               0       KM Jadhav                      M Chinnaswamy Stadium   \n",
              "\n",
              "          umpire1        umpire2  umpire3  \n",
              "0     AY Dandekar       NJ Llong      NaN  \n",
              "1  A Nand Kishore         S Ravi      NaN  \n",
              "2     Nitin Menon      CK Nandan      NaN  \n",
              "3    AK Chaudhary  C Shamshuddin      NaN  \n",
              "4             NaN            NaN      NaN  "
            ],
            "text/html": [
              "\n",
              "  <div id=\"df-b15b99d1-00aa-4eb0-9f2c-a673ad996a29\" class=\"colab-df-container\">\n",
              "    <div>\n",
              "<style scoped>\n",
              "    .dataframe tbody tr th:only-of-type {\n",
              "        vertical-align: middle;\n",
              "    }\n",
              "\n",
              "    .dataframe tbody tr th {\n",
              "        vertical-align: top;\n",
              "    }\n",
              "\n",
              "    .dataframe thead th {\n",
              "        text-align: right;\n",
              "    }\n",
              "</style>\n",
              "<table border=\"1\" class=\"dataframe\">\n",
              "  <thead>\n",
              "    <tr style=\"text-align: right;\">\n",
              "      <th></th>\n",
              "      <th>id</th>\n",
              "      <th>season</th>\n",
              "      <th>city</th>\n",
              "      <th>date</th>\n",
              "      <th>team1</th>\n",
              "      <th>team2</th>\n",
              "      <th>toss_winner</th>\n",
              "      <th>toss_decision</th>\n",
              "      <th>result</th>\n",
              "      <th>dl_applied</th>\n",
              "      <th>winner</th>\n",
              "      <th>win_by_runs</th>\n",
              "      <th>win_by_wickets</th>\n",
              "      <th>player_of_match</th>\n",
              "      <th>venue</th>\n",
              "      <th>umpire1</th>\n",
              "      <th>umpire2</th>\n",
              "      <th>umpire3</th>\n",
              "    </tr>\n",
              "  </thead>\n",
              "  <tbody>\n",
              "    <tr>\n",
              "      <th>0</th>\n",
              "      <td>1</td>\n",
              "      <td>2017</td>\n",
              "      <td>Hyderabad</td>\n",
              "      <td>05/04/17</td>\n",
              "      <td>Sunrisers Hyderabad</td>\n",
              "      <td>Royal Challengers Bangalore</td>\n",
              "      <td>Royal Challengers Bangalore</td>\n",
              "      <td>field</td>\n",
              "      <td>normal</td>\n",
              "      <td>0</td>\n",
              "      <td>Sunrisers Hyderabad</td>\n",
              "      <td>35</td>\n",
              "      <td>0</td>\n",
              "      <td>Yuvraj Singh</td>\n",
              "      <td>Rajiv Gandhi International Stadium, Uppal</td>\n",
              "      <td>AY Dandekar</td>\n",
              "      <td>NJ Llong</td>\n",
              "      <td>NaN</td>\n",
              "    </tr>\n",
              "    <tr>\n",
              "      <th>1</th>\n",
              "      <td>2</td>\n",
              "      <td>2017</td>\n",
              "      <td>Pune</td>\n",
              "      <td>06/04/17</td>\n",
              "      <td>Mumbai Indians</td>\n",
              "      <td>Rising Pune Supergiant</td>\n",
              "      <td>Rising Pune Supergiant</td>\n",
              "      <td>field</td>\n",
              "      <td>normal</td>\n",
              "      <td>0</td>\n",
              "      <td>Rising Pune Supergiant</td>\n",
              "      <td>0</td>\n",
              "      <td>7</td>\n",
              "      <td>SPD Smith</td>\n",
              "      <td>Maharashtra Cricket Association Stadium</td>\n",
              "      <td>A Nand Kishore</td>\n",
              "      <td>S Ravi</td>\n",
              "      <td>NaN</td>\n",
              "    </tr>\n",
              "    <tr>\n",
              "      <th>2</th>\n",
              "      <td>3</td>\n",
              "      <td>2017</td>\n",
              "      <td>Rajkot</td>\n",
              "      <td>07/04/17</td>\n",
              "      <td>Gujarat Lions</td>\n",
              "      <td>Kolkata Knight Riders</td>\n",
              "      <td>Kolkata Knight Riders</td>\n",
              "      <td>field</td>\n",
              "      <td>normal</td>\n",
              "      <td>0</td>\n",
              "      <td>Kolkata Knight Riders</td>\n",
              "      <td>0</td>\n",
              "      <td>10</td>\n",
              "      <td>CA Lynn</td>\n",
              "      <td>Saurashtra Cricket Association Stadium</td>\n",
              "      <td>Nitin Menon</td>\n",
              "      <td>CK Nandan</td>\n",
              "      <td>NaN</td>\n",
              "    </tr>\n",
              "    <tr>\n",
              "      <th>3</th>\n",
              "      <td>4</td>\n",
              "      <td>2017</td>\n",
              "      <td>Indore</td>\n",
              "      <td>08/04/17</td>\n",
              "      <td>Rising Pune Supergiant</td>\n",
              "      <td>Kings XI Punjab</td>\n",
              "      <td>Kings XI Punjab</td>\n",
              "      <td>field</td>\n",
              "      <td>normal</td>\n",
              "      <td>0</td>\n",
              "      <td>Kings XI Punjab</td>\n",
              "      <td>0</td>\n",
              "      <td>6</td>\n",
              "      <td>GJ Maxwell</td>\n",
              "      <td>Holkar Cricket Stadium</td>\n",
              "      <td>AK Chaudhary</td>\n",
              "      <td>C Shamshuddin</td>\n",
              "      <td>NaN</td>\n",
              "    </tr>\n",
              "    <tr>\n",
              "      <th>4</th>\n",
              "      <td>5</td>\n",
              "      <td>2017</td>\n",
              "      <td>Bangalore</td>\n",
              "      <td>08/04/17</td>\n",
              "      <td>Royal Challengers Bangalore</td>\n",
              "      <td>Delhi Daredevils</td>\n",
              "      <td>Royal Challengers Bangalore</td>\n",
              "      <td>bat</td>\n",
              "      <td>normal</td>\n",
              "      <td>0</td>\n",
              "      <td>Royal Challengers Bangalore</td>\n",
              "      <td>15</td>\n",
              "      <td>0</td>\n",
              "      <td>KM Jadhav</td>\n",
              "      <td>M Chinnaswamy Stadium</td>\n",
              "      <td>NaN</td>\n",
              "      <td>NaN</td>\n",
              "      <td>NaN</td>\n",
              "    </tr>\n",
              "  </tbody>\n",
              "</table>\n",
              "</div>\n",
              "    <div class=\"colab-df-buttons\">\n",
              "\n",
              "  <div class=\"colab-df-container\">\n",
              "    <button class=\"colab-df-convert\" onclick=\"convertToInteractive('df-b15b99d1-00aa-4eb0-9f2c-a673ad996a29')\"\n",
              "            title=\"Convert this dataframe to an interactive table.\"\n",
              "            style=\"display:none;\">\n",
              "\n",
              "  <svg xmlns=\"http://www.w3.org/2000/svg\" height=\"24px\" viewBox=\"0 -960 960 960\">\n",
              "    <path d=\"M120-120v-720h720v720H120Zm60-500h600v-160H180v160Zm220 220h160v-160H400v160Zm0 220h160v-160H400v160ZM180-400h160v-160H180v160Zm440 0h160v-160H620v160ZM180-180h160v-160H180v160Zm440 0h160v-160H620v160Z\"/>\n",
              "  </svg>\n",
              "    </button>\n",
              "\n",
              "  <style>\n",
              "    .colab-df-container {\n",
              "      display:flex;\n",
              "      gap: 12px;\n",
              "    }\n",
              "\n",
              "    .colab-df-convert {\n",
              "      background-color: #E8F0FE;\n",
              "      border: none;\n",
              "      border-radius: 50%;\n",
              "      cursor: pointer;\n",
              "      display: none;\n",
              "      fill: #1967D2;\n",
              "      height: 32px;\n",
              "      padding: 0 0 0 0;\n",
              "      width: 32px;\n",
              "    }\n",
              "\n",
              "    .colab-df-convert:hover {\n",
              "      background-color: #E2EBFA;\n",
              "      box-shadow: 0px 1px 2px rgba(60, 64, 67, 0.3), 0px 1px 3px 1px rgba(60, 64, 67, 0.15);\n",
              "      fill: #174EA6;\n",
              "    }\n",
              "\n",
              "    .colab-df-buttons div {\n",
              "      margin-bottom: 4px;\n",
              "    }\n",
              "\n",
              "    [theme=dark] .colab-df-convert {\n",
              "      background-color: #3B4455;\n",
              "      fill: #D2E3FC;\n",
              "    }\n",
              "\n",
              "    [theme=dark] .colab-df-convert:hover {\n",
              "      background-color: #434B5C;\n",
              "      box-shadow: 0px 1px 3px 1px rgba(0, 0, 0, 0.15);\n",
              "      filter: drop-shadow(0px 1px 2px rgba(0, 0, 0, 0.3));\n",
              "      fill: #FFFFFF;\n",
              "    }\n",
              "  </style>\n",
              "\n",
              "    <script>\n",
              "      const buttonEl =\n",
              "        document.querySelector('#df-b15b99d1-00aa-4eb0-9f2c-a673ad996a29 button.colab-df-convert');\n",
              "      buttonEl.style.display =\n",
              "        google.colab.kernel.accessAllowed ? 'block' : 'none';\n",
              "\n",
              "      async function convertToInteractive(key) {\n",
              "        const element = document.querySelector('#df-b15b99d1-00aa-4eb0-9f2c-a673ad996a29');\n",
              "        const dataTable =\n",
              "          await google.colab.kernel.invokeFunction('convertToInteractive',\n",
              "                                                    [key], {});\n",
              "        if (!dataTable) return;\n",
              "\n",
              "        const docLinkHtml = 'Like what you see? Visit the ' +\n",
              "          '<a target=\"_blank\" href=https://colab.research.google.com/notebooks/data_table.ipynb>data table notebook</a>'\n",
              "          + ' to learn more about interactive tables.';\n",
              "        element.innerHTML = '';\n",
              "        dataTable['output_type'] = 'display_data';\n",
              "        await google.colab.output.renderOutput(dataTable, element);\n",
              "        const docLink = document.createElement('div');\n",
              "        docLink.innerHTML = docLinkHtml;\n",
              "        element.appendChild(docLink);\n",
              "      }\n",
              "    </script>\n",
              "  </div>\n",
              "\n",
              "\n",
              "<div id=\"df-10d7a728-e073-4be0-8d39-a390d81980d5\">\n",
              "  <button class=\"colab-df-quickchart\" onclick=\"quickchart('df-10d7a728-e073-4be0-8d39-a390d81980d5')\"\n",
              "            title=\"Suggest charts\"\n",
              "            style=\"display:none;\">\n",
              "\n",
              "<svg xmlns=\"http://www.w3.org/2000/svg\" height=\"24px\"viewBox=\"0 0 24 24\"\n",
              "     width=\"24px\">\n",
              "    <g>\n",
              "        <path d=\"M19 3H5c-1.1 0-2 .9-2 2v14c0 1.1.9 2 2 2h14c1.1 0 2-.9 2-2V5c0-1.1-.9-2-2-2zM9 17H7v-7h2v7zm4 0h-2V7h2v10zm4 0h-2v-4h2v4z\"/>\n",
              "    </g>\n",
              "</svg>\n",
              "  </button>\n",
              "\n",
              "<style>\n",
              "  .colab-df-quickchart {\n",
              "      --bg-color: #E8F0FE;\n",
              "      --fill-color: #1967D2;\n",
              "      --hover-bg-color: #E2EBFA;\n",
              "      --hover-fill-color: #174EA6;\n",
              "      --disabled-fill-color: #AAA;\n",
              "      --disabled-bg-color: #DDD;\n",
              "  }\n",
              "\n",
              "  [theme=dark] .colab-df-quickchart {\n",
              "      --bg-color: #3B4455;\n",
              "      --fill-color: #D2E3FC;\n",
              "      --hover-bg-color: #434B5C;\n",
              "      --hover-fill-color: #FFFFFF;\n",
              "      --disabled-bg-color: #3B4455;\n",
              "      --disabled-fill-color: #666;\n",
              "  }\n",
              "\n",
              "  .colab-df-quickchart {\n",
              "    background-color: var(--bg-color);\n",
              "    border: none;\n",
              "    border-radius: 50%;\n",
              "    cursor: pointer;\n",
              "    display: none;\n",
              "    fill: var(--fill-color);\n",
              "    height: 32px;\n",
              "    padding: 0;\n",
              "    width: 32px;\n",
              "  }\n",
              "\n",
              "  .colab-df-quickchart:hover {\n",
              "    background-color: var(--hover-bg-color);\n",
              "    box-shadow: 0 1px 2px rgba(60, 64, 67, 0.3), 0 1px 3px 1px rgba(60, 64, 67, 0.15);\n",
              "    fill: var(--button-hover-fill-color);\n",
              "  }\n",
              "\n",
              "  .colab-df-quickchart-complete:disabled,\n",
              "  .colab-df-quickchart-complete:disabled:hover {\n",
              "    background-color: var(--disabled-bg-color);\n",
              "    fill: var(--disabled-fill-color);\n",
              "    box-shadow: none;\n",
              "  }\n",
              "\n",
              "  .colab-df-spinner {\n",
              "    border: 2px solid var(--fill-color);\n",
              "    border-color: transparent;\n",
              "    border-bottom-color: var(--fill-color);\n",
              "    animation:\n",
              "      spin 1s steps(1) infinite;\n",
              "  }\n",
              "\n",
              "  @keyframes spin {\n",
              "    0% {\n",
              "      border-color: transparent;\n",
              "      border-bottom-color: var(--fill-color);\n",
              "      border-left-color: var(--fill-color);\n",
              "    }\n",
              "    20% {\n",
              "      border-color: transparent;\n",
              "      border-left-color: var(--fill-color);\n",
              "      border-top-color: var(--fill-color);\n",
              "    }\n",
              "    30% {\n",
              "      border-color: transparent;\n",
              "      border-left-color: var(--fill-color);\n",
              "      border-top-color: var(--fill-color);\n",
              "      border-right-color: var(--fill-color);\n",
              "    }\n",
              "    40% {\n",
              "      border-color: transparent;\n",
              "      border-right-color: var(--fill-color);\n",
              "      border-top-color: var(--fill-color);\n",
              "    }\n",
              "    60% {\n",
              "      border-color: transparent;\n",
              "      border-right-color: var(--fill-color);\n",
              "    }\n",
              "    80% {\n",
              "      border-color: transparent;\n",
              "      border-right-color: var(--fill-color);\n",
              "      border-bottom-color: var(--fill-color);\n",
              "    }\n",
              "    90% {\n",
              "      border-color: transparent;\n",
              "      border-bottom-color: var(--fill-color);\n",
              "    }\n",
              "  }\n",
              "</style>\n",
              "\n",
              "  <script>\n",
              "    async function quickchart(key) {\n",
              "      const quickchartButtonEl =\n",
              "        document.querySelector('#' + key + ' button');\n",
              "      quickchartButtonEl.disabled = true;  // To prevent multiple clicks.\n",
              "      quickchartButtonEl.classList.add('colab-df-spinner');\n",
              "      try {\n",
              "        const charts = await google.colab.kernel.invokeFunction(\n",
              "            'suggestCharts', [key], {});\n",
              "      } catch (error) {\n",
              "        console.error('Error during call to suggestCharts:', error);\n",
              "      }\n",
              "      quickchartButtonEl.classList.remove('colab-df-spinner');\n",
              "      quickchartButtonEl.classList.add('colab-df-quickchart-complete');\n",
              "    }\n",
              "    (() => {\n",
              "      let quickchartButtonEl =\n",
              "        document.querySelector('#df-10d7a728-e073-4be0-8d39-a390d81980d5 button');\n",
              "      quickchartButtonEl.style.display =\n",
              "        google.colab.kernel.accessAllowed ? 'block' : 'none';\n",
              "    })();\n",
              "  </script>\n",
              "</div>\n",
              "\n",
              "    </div>\n",
              "  </div>\n"
            ],
            "application/vnd.google.colaboratory.intrinsic+json": {
              "type": "dataframe",
              "variable_name": "ipl",
              "summary": "{\n  \"name\": \"ipl\",\n  \"rows\": 636,\n  \"fields\": [\n    {\n      \"column\": \"id\",\n      \"properties\": {\n        \"dtype\": \"number\",\n        \"std\": 183,\n        \"min\": 1,\n        \"max\": 636,\n        \"num_unique_values\": 636,\n        \"samples\": [\n          275,\n          632,\n          83\n        ],\n        \"semantic_type\": \"\",\n        \"description\": \"\"\n      }\n    },\n    {\n      \"column\": \"season\",\n      \"properties\": {\n        \"dtype\": \"number\",\n        \"std\": 2,\n        \"min\": 2008,\n        \"max\": 2017,\n        \"num_unique_values\": 10,\n        \"samples\": [\n          2015,\n          2008,\n          2012\n        ],\n        \"semantic_type\": \"\",\n        \"description\": \"\"\n      }\n    },\n    {\n      \"column\": \"city\",\n      \"properties\": {\n        \"dtype\": \"category\",\n        \"num_unique_values\": 30,\n        \"samples\": [\n          \"Ranchi\",\n          \"Centurion\",\n          \"Dharamsala\"\n        ],\n        \"semantic_type\": \"\",\n        \"description\": \"\"\n      }\n    },\n    {\n      \"column\": \"date\",\n      \"properties\": {\n        \"dtype\": \"object\",\n        \"num_unique_values\": 450,\n        \"samples\": [\n          \"14/04/16\",\n          \"21/05/16\",\n          \"19/05/09\"\n        ],\n        \"semantic_type\": \"\",\n        \"description\": \"\"\n      }\n    },\n    {\n      \"column\": \"team1\",\n      \"properties\": {\n        \"dtype\": \"category\",\n        \"num_unique_values\": 14,\n        \"samples\": [\n          \"Rajasthan Royals\",\n          \"Kochi Tuskers Kerala\",\n          \"Sunrisers Hyderabad\"\n        ],\n        \"semantic_type\": \"\",\n        \"description\": \"\"\n      }\n    },\n    {\n      \"column\": \"team2\",\n      \"properties\": {\n        \"dtype\": \"category\",\n        \"num_unique_values\": 14,\n        \"samples\": [\n          \"Chennai Super Kings\",\n          \"Pune Warriors\",\n          \"Royal Challengers Bangalore\"\n        ],\n        \"semantic_type\": \"\",\n        \"description\": \"\"\n      }\n    },\n    {\n      \"column\": \"toss_winner\",\n      \"properties\": {\n        \"dtype\": \"category\",\n        \"num_unique_values\": 14,\n        \"samples\": [\n          \"Rajasthan Royals\",\n          \"Kochi Tuskers Kerala\",\n          \"Royal Challengers Bangalore\"\n        ],\n        \"semantic_type\": \"\",\n        \"description\": \"\"\n      }\n    },\n    {\n      \"column\": \"toss_decision\",\n      \"properties\": {\n        \"dtype\": \"category\",\n        \"num_unique_values\": 2,\n        \"samples\": [\n          \"bat\",\n          \"field\"\n        ],\n        \"semantic_type\": \"\",\n        \"description\": \"\"\n      }\n    },\n    {\n      \"column\": \"result\",\n      \"properties\": {\n        \"dtype\": \"category\",\n        \"num_unique_values\": 3,\n        \"samples\": [\n          \"normal\",\n          \"tie\"\n        ],\n        \"semantic_type\": \"\",\n        \"description\": \"\"\n      }\n    },\n    {\n      \"column\": \"dl_applied\",\n      \"properties\": {\n        \"dtype\": \"number\",\n        \"std\": 0,\n        \"min\": 0,\n        \"max\": 1,\n        \"num_unique_values\": 2,\n        \"samples\": [\n          1,\n          0\n        ],\n        \"semantic_type\": \"\",\n        \"description\": \"\"\n      }\n    },\n    {\n      \"column\": \"winner\",\n      \"properties\": {\n        \"dtype\": \"category\",\n        \"num_unique_values\": 14,\n        \"samples\": [\n          \"Rajasthan Royals\",\n          \"Pune Warriors\"\n        ],\n        \"semantic_type\": \"\",\n        \"description\": \"\"\n      }\n    },\n    {\n      \"column\": \"win_by_runs\",\n      \"properties\": {\n        \"dtype\": \"number\",\n        \"std\": 23,\n        \"min\": 0,\n        \"max\": 146,\n        \"num_unique_values\": 86,\n        \"samples\": [\n          60,\n          35\n        ],\n        \"semantic_type\": \"\",\n        \"description\": \"\"\n      }\n    },\n    {\n      \"column\": \"win_by_wickets\",\n      \"properties\": {\n        \"dtype\": \"number\",\n        \"std\": 3,\n        \"min\": 0,\n        \"max\": 10,\n        \"num_unique_values\": 11,\n        \"samples\": [\n          4,\n          0\n        ],\n        \"semantic_type\": \"\",\n        \"description\": \"\"\n      }\n    },\n    {\n      \"column\": \"player_of_match\",\n      \"properties\": {\n        \"dtype\": \"category\",\n        \"num_unique_values\": 201,\n        \"samples\": [\n          \"DP Nannes\",\n          \"BA Stokes\"\n        ],\n        \"semantic_type\": \"\",\n        \"description\": \"\"\n      }\n    },\n    {\n      \"column\": \"venue\",\n      \"properties\": {\n        \"dtype\": \"category\",\n        \"num_unique_values\": 35,\n        \"samples\": [\n          \"Himachal Pradesh Cricket Association Stadium\",\n          \"Dr DY Patil Sports Academy\"\n        ],\n        \"semantic_type\": \"\",\n        \"description\": \"\"\n      }\n    },\n    {\n      \"column\": \"umpire1\",\n      \"properties\": {\n        \"dtype\": \"category\",\n        \"num_unique_values\": 44,\n        \"samples\": [\n          \"C Shamshuddin\",\n          \"S Asnani\"\n        ],\n        \"semantic_type\": \"\",\n        \"description\": \"\"\n      }\n    },\n    {\n      \"column\": \"umpire2\",\n      \"properties\": {\n        \"dtype\": \"category\",\n        \"num_unique_values\": 45,\n        \"samples\": [\n          \"K Srinath\",\n          \"SD Ranade\"\n        ],\n        \"semantic_type\": \"\",\n        \"description\": \"\"\n      }\n    },\n    {\n      \"column\": \"umpire3\",\n      \"properties\": {\n        \"dtype\": \"number\",\n        \"std\": null,\n        \"min\": null,\n        \"max\": null,\n        \"num_unique_values\": 0,\n        \"samples\": [],\n        \"semantic_type\": \"\",\n        \"description\": \"\"\n      }\n    }\n  ]\n}"
            }
          },
          "metadata": {},
          "execution_count": 64
        }
      ]
    },
    {
      "cell_type": "code",
      "source": [
        "ipl.tail()"
      ],
      "metadata": {
        "colab": {
          "base_uri": "https://localhost:8080/",
          "height": 417
        },
        "id": "KOXlV2oQ6rXx",
        "outputId": "81ce8ddb-0159-4468-c55d-3bd800e0a733"
      },
      "execution_count": null,
      "outputs": [
        {
          "output_type": "execute_result",
          "data": {
            "text/plain": [
              "      id  season       city      date                team1  \\\n",
              "631  632    2016     Raipur  22/05/16     Delhi Daredevils   \n",
              "632  633    2016  Bangalore  24/05/16        Gujarat Lions   \n",
              "633  634    2016      Delhi  25/05/16  Sunrisers Hyderabad   \n",
              "634  635    2016      Delhi  27/05/16        Gujarat Lions   \n",
              "635  636    2016  Bangalore  29/05/16  Sunrisers Hyderabad   \n",
              "\n",
              "                           team2                  toss_winner toss_decision  \\\n",
              "631  Royal Challengers Bangalore  Royal Challengers Bangalore         field   \n",
              "632  Royal Challengers Bangalore  Royal Challengers Bangalore         field   \n",
              "633        Kolkata Knight Riders        Kolkata Knight Riders         field   \n",
              "634          Sunrisers Hyderabad          Sunrisers Hyderabad         field   \n",
              "635  Royal Challengers Bangalore          Sunrisers Hyderabad           bat   \n",
              "\n",
              "     result  dl_applied                       winner  win_by_runs  \\\n",
              "631  normal           0  Royal Challengers Bangalore            0   \n",
              "632  normal           0  Royal Challengers Bangalore            0   \n",
              "633  normal           0          Sunrisers Hyderabad           22   \n",
              "634  normal           0          Sunrisers Hyderabad            0   \n",
              "635  normal           0          Sunrisers Hyderabad            8   \n",
              "\n",
              "     win_by_wickets player_of_match  \\\n",
              "631               6         V Kohli   \n",
              "632               4  AB de Villiers   \n",
              "633               0    MC Henriques   \n",
              "634               4       DA Warner   \n",
              "635               0     BCJ Cutting   \n",
              "\n",
              "                                                venue          umpire1  \\\n",
              "631  Shaheed Veer Narayan Singh International Stadium   A Nand Kishore   \n",
              "632                             M Chinnaswamy Stadium     AK Chaudhary   \n",
              "633                                  Feroz Shah Kotla        M Erasmus   \n",
              "634                                  Feroz Shah Kotla        M Erasmus   \n",
              "635                             M Chinnaswamy Stadium  HDPK Dharmasena   \n",
              "\n",
              "             umpire2  umpire3  \n",
              "631     BNJ Oxenford      NaN  \n",
              "632  HDPK Dharmasena      NaN  \n",
              "633    C Shamshuddin      NaN  \n",
              "634        CK Nandan      NaN  \n",
              "635     BNJ Oxenford      NaN  "
            ],
            "text/html": [
              "\n",
              "  <div id=\"df-2359a4f6-11ce-4b5b-81ea-23e1981ffa2e\" class=\"colab-df-container\">\n",
              "    <div>\n",
              "<style scoped>\n",
              "    .dataframe tbody tr th:only-of-type {\n",
              "        vertical-align: middle;\n",
              "    }\n",
              "\n",
              "    .dataframe tbody tr th {\n",
              "        vertical-align: top;\n",
              "    }\n",
              "\n",
              "    .dataframe thead th {\n",
              "        text-align: right;\n",
              "    }\n",
              "</style>\n",
              "<table border=\"1\" class=\"dataframe\">\n",
              "  <thead>\n",
              "    <tr style=\"text-align: right;\">\n",
              "      <th></th>\n",
              "      <th>id</th>\n",
              "      <th>season</th>\n",
              "      <th>city</th>\n",
              "      <th>date</th>\n",
              "      <th>team1</th>\n",
              "      <th>team2</th>\n",
              "      <th>toss_winner</th>\n",
              "      <th>toss_decision</th>\n",
              "      <th>result</th>\n",
              "      <th>dl_applied</th>\n",
              "      <th>winner</th>\n",
              "      <th>win_by_runs</th>\n",
              "      <th>win_by_wickets</th>\n",
              "      <th>player_of_match</th>\n",
              "      <th>venue</th>\n",
              "      <th>umpire1</th>\n",
              "      <th>umpire2</th>\n",
              "      <th>umpire3</th>\n",
              "    </tr>\n",
              "  </thead>\n",
              "  <tbody>\n",
              "    <tr>\n",
              "      <th>631</th>\n",
              "      <td>632</td>\n",
              "      <td>2016</td>\n",
              "      <td>Raipur</td>\n",
              "      <td>22/05/16</td>\n",
              "      <td>Delhi Daredevils</td>\n",
              "      <td>Royal Challengers Bangalore</td>\n",
              "      <td>Royal Challengers Bangalore</td>\n",
              "      <td>field</td>\n",
              "      <td>normal</td>\n",
              "      <td>0</td>\n",
              "      <td>Royal Challengers Bangalore</td>\n",
              "      <td>0</td>\n",
              "      <td>6</td>\n",
              "      <td>V Kohli</td>\n",
              "      <td>Shaheed Veer Narayan Singh International Stadium</td>\n",
              "      <td>A Nand Kishore</td>\n",
              "      <td>BNJ Oxenford</td>\n",
              "      <td>NaN</td>\n",
              "    </tr>\n",
              "    <tr>\n",
              "      <th>632</th>\n",
              "      <td>633</td>\n",
              "      <td>2016</td>\n",
              "      <td>Bangalore</td>\n",
              "      <td>24/05/16</td>\n",
              "      <td>Gujarat Lions</td>\n",
              "      <td>Royal Challengers Bangalore</td>\n",
              "      <td>Royal Challengers Bangalore</td>\n",
              "      <td>field</td>\n",
              "      <td>normal</td>\n",
              "      <td>0</td>\n",
              "      <td>Royal Challengers Bangalore</td>\n",
              "      <td>0</td>\n",
              "      <td>4</td>\n",
              "      <td>AB de Villiers</td>\n",
              "      <td>M Chinnaswamy Stadium</td>\n",
              "      <td>AK Chaudhary</td>\n",
              "      <td>HDPK Dharmasena</td>\n",
              "      <td>NaN</td>\n",
              "    </tr>\n",
              "    <tr>\n",
              "      <th>633</th>\n",
              "      <td>634</td>\n",
              "      <td>2016</td>\n",
              "      <td>Delhi</td>\n",
              "      <td>25/05/16</td>\n",
              "      <td>Sunrisers Hyderabad</td>\n",
              "      <td>Kolkata Knight Riders</td>\n",
              "      <td>Kolkata Knight Riders</td>\n",
              "      <td>field</td>\n",
              "      <td>normal</td>\n",
              "      <td>0</td>\n",
              "      <td>Sunrisers Hyderabad</td>\n",
              "      <td>22</td>\n",
              "      <td>0</td>\n",
              "      <td>MC Henriques</td>\n",
              "      <td>Feroz Shah Kotla</td>\n",
              "      <td>M Erasmus</td>\n",
              "      <td>C Shamshuddin</td>\n",
              "      <td>NaN</td>\n",
              "    </tr>\n",
              "    <tr>\n",
              "      <th>634</th>\n",
              "      <td>635</td>\n",
              "      <td>2016</td>\n",
              "      <td>Delhi</td>\n",
              "      <td>27/05/16</td>\n",
              "      <td>Gujarat Lions</td>\n",
              "      <td>Sunrisers Hyderabad</td>\n",
              "      <td>Sunrisers Hyderabad</td>\n",
              "      <td>field</td>\n",
              "      <td>normal</td>\n",
              "      <td>0</td>\n",
              "      <td>Sunrisers Hyderabad</td>\n",
              "      <td>0</td>\n",
              "      <td>4</td>\n",
              "      <td>DA Warner</td>\n",
              "      <td>Feroz Shah Kotla</td>\n",
              "      <td>M Erasmus</td>\n",
              "      <td>CK Nandan</td>\n",
              "      <td>NaN</td>\n",
              "    </tr>\n",
              "    <tr>\n",
              "      <th>635</th>\n",
              "      <td>636</td>\n",
              "      <td>2016</td>\n",
              "      <td>Bangalore</td>\n",
              "      <td>29/05/16</td>\n",
              "      <td>Sunrisers Hyderabad</td>\n",
              "      <td>Royal Challengers Bangalore</td>\n",
              "      <td>Sunrisers Hyderabad</td>\n",
              "      <td>bat</td>\n",
              "      <td>normal</td>\n",
              "      <td>0</td>\n",
              "      <td>Sunrisers Hyderabad</td>\n",
              "      <td>8</td>\n",
              "      <td>0</td>\n",
              "      <td>BCJ Cutting</td>\n",
              "      <td>M Chinnaswamy Stadium</td>\n",
              "      <td>HDPK Dharmasena</td>\n",
              "      <td>BNJ Oxenford</td>\n",
              "      <td>NaN</td>\n",
              "    </tr>\n",
              "  </tbody>\n",
              "</table>\n",
              "</div>\n",
              "    <div class=\"colab-df-buttons\">\n",
              "\n",
              "  <div class=\"colab-df-container\">\n",
              "    <button class=\"colab-df-convert\" onclick=\"convertToInteractive('df-2359a4f6-11ce-4b5b-81ea-23e1981ffa2e')\"\n",
              "            title=\"Convert this dataframe to an interactive table.\"\n",
              "            style=\"display:none;\">\n",
              "\n",
              "  <svg xmlns=\"http://www.w3.org/2000/svg\" height=\"24px\" viewBox=\"0 -960 960 960\">\n",
              "    <path d=\"M120-120v-720h720v720H120Zm60-500h600v-160H180v160Zm220 220h160v-160H400v160Zm0 220h160v-160H400v160ZM180-400h160v-160H180v160Zm440 0h160v-160H620v160ZM180-180h160v-160H180v160Zm440 0h160v-160H620v160Z\"/>\n",
              "  </svg>\n",
              "    </button>\n",
              "\n",
              "  <style>\n",
              "    .colab-df-container {\n",
              "      display:flex;\n",
              "      gap: 12px;\n",
              "    }\n",
              "\n",
              "    .colab-df-convert {\n",
              "      background-color: #E8F0FE;\n",
              "      border: none;\n",
              "      border-radius: 50%;\n",
              "      cursor: pointer;\n",
              "      display: none;\n",
              "      fill: #1967D2;\n",
              "      height: 32px;\n",
              "      padding: 0 0 0 0;\n",
              "      width: 32px;\n",
              "    }\n",
              "\n",
              "    .colab-df-convert:hover {\n",
              "      background-color: #E2EBFA;\n",
              "      box-shadow: 0px 1px 2px rgba(60, 64, 67, 0.3), 0px 1px 3px 1px rgba(60, 64, 67, 0.15);\n",
              "      fill: #174EA6;\n",
              "    }\n",
              "\n",
              "    .colab-df-buttons div {\n",
              "      margin-bottom: 4px;\n",
              "    }\n",
              "\n",
              "    [theme=dark] .colab-df-convert {\n",
              "      background-color: #3B4455;\n",
              "      fill: #D2E3FC;\n",
              "    }\n",
              "\n",
              "    [theme=dark] .colab-df-convert:hover {\n",
              "      background-color: #434B5C;\n",
              "      box-shadow: 0px 1px 3px 1px rgba(0, 0, 0, 0.15);\n",
              "      filter: drop-shadow(0px 1px 2px rgba(0, 0, 0, 0.3));\n",
              "      fill: #FFFFFF;\n",
              "    }\n",
              "  </style>\n",
              "\n",
              "    <script>\n",
              "      const buttonEl =\n",
              "        document.querySelector('#df-2359a4f6-11ce-4b5b-81ea-23e1981ffa2e button.colab-df-convert');\n",
              "      buttonEl.style.display =\n",
              "        google.colab.kernel.accessAllowed ? 'block' : 'none';\n",
              "\n",
              "      async function convertToInteractive(key) {\n",
              "        const element = document.querySelector('#df-2359a4f6-11ce-4b5b-81ea-23e1981ffa2e');\n",
              "        const dataTable =\n",
              "          await google.colab.kernel.invokeFunction('convertToInteractive',\n",
              "                                                    [key], {});\n",
              "        if (!dataTable) return;\n",
              "\n",
              "        const docLinkHtml = 'Like what you see? Visit the ' +\n",
              "          '<a target=\"_blank\" href=https://colab.research.google.com/notebooks/data_table.ipynb>data table notebook</a>'\n",
              "          + ' to learn more about interactive tables.';\n",
              "        element.innerHTML = '';\n",
              "        dataTable['output_type'] = 'display_data';\n",
              "        await google.colab.output.renderOutput(dataTable, element);\n",
              "        const docLink = document.createElement('div');\n",
              "        docLink.innerHTML = docLinkHtml;\n",
              "        element.appendChild(docLink);\n",
              "      }\n",
              "    </script>\n",
              "  </div>\n",
              "\n",
              "\n",
              "<div id=\"df-8df0d0ae-db95-4cb7-a394-6a61db920206\">\n",
              "  <button class=\"colab-df-quickchart\" onclick=\"quickchart('df-8df0d0ae-db95-4cb7-a394-6a61db920206')\"\n",
              "            title=\"Suggest charts\"\n",
              "            style=\"display:none;\">\n",
              "\n",
              "<svg xmlns=\"http://www.w3.org/2000/svg\" height=\"24px\"viewBox=\"0 0 24 24\"\n",
              "     width=\"24px\">\n",
              "    <g>\n",
              "        <path d=\"M19 3H5c-1.1 0-2 .9-2 2v14c0 1.1.9 2 2 2h14c1.1 0 2-.9 2-2V5c0-1.1-.9-2-2-2zM9 17H7v-7h2v7zm4 0h-2V7h2v10zm4 0h-2v-4h2v4z\"/>\n",
              "    </g>\n",
              "</svg>\n",
              "  </button>\n",
              "\n",
              "<style>\n",
              "  .colab-df-quickchart {\n",
              "      --bg-color: #E8F0FE;\n",
              "      --fill-color: #1967D2;\n",
              "      --hover-bg-color: #E2EBFA;\n",
              "      --hover-fill-color: #174EA6;\n",
              "      --disabled-fill-color: #AAA;\n",
              "      --disabled-bg-color: #DDD;\n",
              "  }\n",
              "\n",
              "  [theme=dark] .colab-df-quickchart {\n",
              "      --bg-color: #3B4455;\n",
              "      --fill-color: #D2E3FC;\n",
              "      --hover-bg-color: #434B5C;\n",
              "      --hover-fill-color: #FFFFFF;\n",
              "      --disabled-bg-color: #3B4455;\n",
              "      --disabled-fill-color: #666;\n",
              "  }\n",
              "\n",
              "  .colab-df-quickchart {\n",
              "    background-color: var(--bg-color);\n",
              "    border: none;\n",
              "    border-radius: 50%;\n",
              "    cursor: pointer;\n",
              "    display: none;\n",
              "    fill: var(--fill-color);\n",
              "    height: 32px;\n",
              "    padding: 0;\n",
              "    width: 32px;\n",
              "  }\n",
              "\n",
              "  .colab-df-quickchart:hover {\n",
              "    background-color: var(--hover-bg-color);\n",
              "    box-shadow: 0 1px 2px rgba(60, 64, 67, 0.3), 0 1px 3px 1px rgba(60, 64, 67, 0.15);\n",
              "    fill: var(--button-hover-fill-color);\n",
              "  }\n",
              "\n",
              "  .colab-df-quickchart-complete:disabled,\n",
              "  .colab-df-quickchart-complete:disabled:hover {\n",
              "    background-color: var(--disabled-bg-color);\n",
              "    fill: var(--disabled-fill-color);\n",
              "    box-shadow: none;\n",
              "  }\n",
              "\n",
              "  .colab-df-spinner {\n",
              "    border: 2px solid var(--fill-color);\n",
              "    border-color: transparent;\n",
              "    border-bottom-color: var(--fill-color);\n",
              "    animation:\n",
              "      spin 1s steps(1) infinite;\n",
              "  }\n",
              "\n",
              "  @keyframes spin {\n",
              "    0% {\n",
              "      border-color: transparent;\n",
              "      border-bottom-color: var(--fill-color);\n",
              "      border-left-color: var(--fill-color);\n",
              "    }\n",
              "    20% {\n",
              "      border-color: transparent;\n",
              "      border-left-color: var(--fill-color);\n",
              "      border-top-color: var(--fill-color);\n",
              "    }\n",
              "    30% {\n",
              "      border-color: transparent;\n",
              "      border-left-color: var(--fill-color);\n",
              "      border-top-color: var(--fill-color);\n",
              "      border-right-color: var(--fill-color);\n",
              "    }\n",
              "    40% {\n",
              "      border-color: transparent;\n",
              "      border-right-color: var(--fill-color);\n",
              "      border-top-color: var(--fill-color);\n",
              "    }\n",
              "    60% {\n",
              "      border-color: transparent;\n",
              "      border-right-color: var(--fill-color);\n",
              "    }\n",
              "    80% {\n",
              "      border-color: transparent;\n",
              "      border-right-color: var(--fill-color);\n",
              "      border-bottom-color: var(--fill-color);\n",
              "    }\n",
              "    90% {\n",
              "      border-color: transparent;\n",
              "      border-bottom-color: var(--fill-color);\n",
              "    }\n",
              "  }\n",
              "</style>\n",
              "\n",
              "  <script>\n",
              "    async function quickchart(key) {\n",
              "      const quickchartButtonEl =\n",
              "        document.querySelector('#' + key + ' button');\n",
              "      quickchartButtonEl.disabled = true;  // To prevent multiple clicks.\n",
              "      quickchartButtonEl.classList.add('colab-df-spinner');\n",
              "      try {\n",
              "        const charts = await google.colab.kernel.invokeFunction(\n",
              "            'suggestCharts', [key], {});\n",
              "      } catch (error) {\n",
              "        console.error('Error during call to suggestCharts:', error);\n",
              "      }\n",
              "      quickchartButtonEl.classList.remove('colab-df-spinner');\n",
              "      quickchartButtonEl.classList.add('colab-df-quickchart-complete');\n",
              "    }\n",
              "    (() => {\n",
              "      let quickchartButtonEl =\n",
              "        document.querySelector('#df-8df0d0ae-db95-4cb7-a394-6a61db920206 button');\n",
              "      quickchartButtonEl.style.display =\n",
              "        google.colab.kernel.accessAllowed ? 'block' : 'none';\n",
              "    })();\n",
              "  </script>\n",
              "</div>\n",
              "\n",
              "    </div>\n",
              "  </div>\n"
            ],
            "application/vnd.google.colaboratory.intrinsic+json": {
              "type": "dataframe",
              "repr_error": "0"
            }
          },
          "metadata": {},
          "execution_count": 65
        }
      ]
    },
    {
      "cell_type": "code",
      "source": [
        "ipl.sample(n=4)"
      ],
      "metadata": {
        "colab": {
          "base_uri": "https://localhost:8080/",
          "height": 351
        },
        "id": "b-r_Dda_6t1a",
        "outputId": "0d787084-279f-4db7-8935-a0edf8159fca"
      },
      "execution_count": null,
      "outputs": [
        {
          "output_type": "execute_result",
          "data": {
            "text/plain": [
              "      id  season            city      date                        team1  \\\n",
              "152  153    2009  Port Elizabeth  10/05/09               Mumbai Indians   \n",
              "366  367    2012       Bangalore  14/05/12  Royal Challengers Bangalore   \n",
              "63    64    2008         Kolkata  20/04/08              Deccan Chargers   \n",
              "305  306    2011         Chennai  27/05/11  Royal Challengers Bangalore   \n",
              "\n",
              "                           team2      toss_winner toss_decision  result  \\\n",
              "152  Royal Challengers Bangalore   Mumbai Indians           bat  normal   \n",
              "366               Mumbai Indians   Mumbai Indians         field  normal   \n",
              "63         Kolkata Knight Riders  Deccan Chargers           bat  normal   \n",
              "305               Mumbai Indians   Mumbai Indians         field  normal   \n",
              "\n",
              "     dl_applied                       winner  win_by_runs  win_by_wickets  \\\n",
              "152           0               Mumbai Indians           16               0   \n",
              "366           0               Mumbai Indians            0               5   \n",
              "63            0        Kolkata Knight Riders            0               5   \n",
              "305           0  Royal Challengers Bangalore           43               0   \n",
              "\n",
              "    player_of_match                            venue      umpire1  \\\n",
              "152       JP Duminy                 St George's Park  BR Doctrove   \n",
              "366       AT Rayudu            M Chinnaswamy Stadium        S Das   \n",
              "63        DJ Hussey                     Eden Gardens    BF Bowden   \n",
              "305        CH Gayle  MA Chidambaram Stadium, Chepauk    Asad Rauf   \n",
              "\n",
              "         umpire2  umpire3  \n",
              "152   BG Jerling      NaN  \n",
              "366  BR Doctrove      NaN  \n",
              "63   K Hariharan      NaN  \n",
              "305   SJA Taufel      NaN  "
            ],
            "text/html": [
              "\n",
              "  <div id=\"df-d9d6cd75-c574-4577-bd71-fe54f95aa7f0\" class=\"colab-df-container\">\n",
              "    <div>\n",
              "<style scoped>\n",
              "    .dataframe tbody tr th:only-of-type {\n",
              "        vertical-align: middle;\n",
              "    }\n",
              "\n",
              "    .dataframe tbody tr th {\n",
              "        vertical-align: top;\n",
              "    }\n",
              "\n",
              "    .dataframe thead th {\n",
              "        text-align: right;\n",
              "    }\n",
              "</style>\n",
              "<table border=\"1\" class=\"dataframe\">\n",
              "  <thead>\n",
              "    <tr style=\"text-align: right;\">\n",
              "      <th></th>\n",
              "      <th>id</th>\n",
              "      <th>season</th>\n",
              "      <th>city</th>\n",
              "      <th>date</th>\n",
              "      <th>team1</th>\n",
              "      <th>team2</th>\n",
              "      <th>toss_winner</th>\n",
              "      <th>toss_decision</th>\n",
              "      <th>result</th>\n",
              "      <th>dl_applied</th>\n",
              "      <th>winner</th>\n",
              "      <th>win_by_runs</th>\n",
              "      <th>win_by_wickets</th>\n",
              "      <th>player_of_match</th>\n",
              "      <th>venue</th>\n",
              "      <th>umpire1</th>\n",
              "      <th>umpire2</th>\n",
              "      <th>umpire3</th>\n",
              "    </tr>\n",
              "  </thead>\n",
              "  <tbody>\n",
              "    <tr>\n",
              "      <th>152</th>\n",
              "      <td>153</td>\n",
              "      <td>2009</td>\n",
              "      <td>Port Elizabeth</td>\n",
              "      <td>10/05/09</td>\n",
              "      <td>Mumbai Indians</td>\n",
              "      <td>Royal Challengers Bangalore</td>\n",
              "      <td>Mumbai Indians</td>\n",
              "      <td>bat</td>\n",
              "      <td>normal</td>\n",
              "      <td>0</td>\n",
              "      <td>Mumbai Indians</td>\n",
              "      <td>16</td>\n",
              "      <td>0</td>\n",
              "      <td>JP Duminy</td>\n",
              "      <td>St George's Park</td>\n",
              "      <td>BR Doctrove</td>\n",
              "      <td>BG Jerling</td>\n",
              "      <td>NaN</td>\n",
              "    </tr>\n",
              "    <tr>\n",
              "      <th>366</th>\n",
              "      <td>367</td>\n",
              "      <td>2012</td>\n",
              "      <td>Bangalore</td>\n",
              "      <td>14/05/12</td>\n",
              "      <td>Royal Challengers Bangalore</td>\n",
              "      <td>Mumbai Indians</td>\n",
              "      <td>Mumbai Indians</td>\n",
              "      <td>field</td>\n",
              "      <td>normal</td>\n",
              "      <td>0</td>\n",
              "      <td>Mumbai Indians</td>\n",
              "      <td>0</td>\n",
              "      <td>5</td>\n",
              "      <td>AT Rayudu</td>\n",
              "      <td>M Chinnaswamy Stadium</td>\n",
              "      <td>S Das</td>\n",
              "      <td>BR Doctrove</td>\n",
              "      <td>NaN</td>\n",
              "    </tr>\n",
              "    <tr>\n",
              "      <th>63</th>\n",
              "      <td>64</td>\n",
              "      <td>2008</td>\n",
              "      <td>Kolkata</td>\n",
              "      <td>20/04/08</td>\n",
              "      <td>Deccan Chargers</td>\n",
              "      <td>Kolkata Knight Riders</td>\n",
              "      <td>Deccan Chargers</td>\n",
              "      <td>bat</td>\n",
              "      <td>normal</td>\n",
              "      <td>0</td>\n",
              "      <td>Kolkata Knight Riders</td>\n",
              "      <td>0</td>\n",
              "      <td>5</td>\n",
              "      <td>DJ Hussey</td>\n",
              "      <td>Eden Gardens</td>\n",
              "      <td>BF Bowden</td>\n",
              "      <td>K Hariharan</td>\n",
              "      <td>NaN</td>\n",
              "    </tr>\n",
              "    <tr>\n",
              "      <th>305</th>\n",
              "      <td>306</td>\n",
              "      <td>2011</td>\n",
              "      <td>Chennai</td>\n",
              "      <td>27/05/11</td>\n",
              "      <td>Royal Challengers Bangalore</td>\n",
              "      <td>Mumbai Indians</td>\n",
              "      <td>Mumbai Indians</td>\n",
              "      <td>field</td>\n",
              "      <td>normal</td>\n",
              "      <td>0</td>\n",
              "      <td>Royal Challengers Bangalore</td>\n",
              "      <td>43</td>\n",
              "      <td>0</td>\n",
              "      <td>CH Gayle</td>\n",
              "      <td>MA Chidambaram Stadium, Chepauk</td>\n",
              "      <td>Asad Rauf</td>\n",
              "      <td>SJA Taufel</td>\n",
              "      <td>NaN</td>\n",
              "    </tr>\n",
              "  </tbody>\n",
              "</table>\n",
              "</div>\n",
              "    <div class=\"colab-df-buttons\">\n",
              "\n",
              "  <div class=\"colab-df-container\">\n",
              "    <button class=\"colab-df-convert\" onclick=\"convertToInteractive('df-d9d6cd75-c574-4577-bd71-fe54f95aa7f0')\"\n",
              "            title=\"Convert this dataframe to an interactive table.\"\n",
              "            style=\"display:none;\">\n",
              "\n",
              "  <svg xmlns=\"http://www.w3.org/2000/svg\" height=\"24px\" viewBox=\"0 -960 960 960\">\n",
              "    <path d=\"M120-120v-720h720v720H120Zm60-500h600v-160H180v160Zm220 220h160v-160H400v160Zm0 220h160v-160H400v160ZM180-400h160v-160H180v160Zm440 0h160v-160H620v160ZM180-180h160v-160H180v160Zm440 0h160v-160H620v160Z\"/>\n",
              "  </svg>\n",
              "    </button>\n",
              "\n",
              "  <style>\n",
              "    .colab-df-container {\n",
              "      display:flex;\n",
              "      gap: 12px;\n",
              "    }\n",
              "\n",
              "    .colab-df-convert {\n",
              "      background-color: #E8F0FE;\n",
              "      border: none;\n",
              "      border-radius: 50%;\n",
              "      cursor: pointer;\n",
              "      display: none;\n",
              "      fill: #1967D2;\n",
              "      height: 32px;\n",
              "      padding: 0 0 0 0;\n",
              "      width: 32px;\n",
              "    }\n",
              "\n",
              "    .colab-df-convert:hover {\n",
              "      background-color: #E2EBFA;\n",
              "      box-shadow: 0px 1px 2px rgba(60, 64, 67, 0.3), 0px 1px 3px 1px rgba(60, 64, 67, 0.15);\n",
              "      fill: #174EA6;\n",
              "    }\n",
              "\n",
              "    .colab-df-buttons div {\n",
              "      margin-bottom: 4px;\n",
              "    }\n",
              "\n",
              "    [theme=dark] .colab-df-convert {\n",
              "      background-color: #3B4455;\n",
              "      fill: #D2E3FC;\n",
              "    }\n",
              "\n",
              "    [theme=dark] .colab-df-convert:hover {\n",
              "      background-color: #434B5C;\n",
              "      box-shadow: 0px 1px 3px 1px rgba(0, 0, 0, 0.15);\n",
              "      filter: drop-shadow(0px 1px 2px rgba(0, 0, 0, 0.3));\n",
              "      fill: #FFFFFF;\n",
              "    }\n",
              "  </style>\n",
              "\n",
              "    <script>\n",
              "      const buttonEl =\n",
              "        document.querySelector('#df-d9d6cd75-c574-4577-bd71-fe54f95aa7f0 button.colab-df-convert');\n",
              "      buttonEl.style.display =\n",
              "        google.colab.kernel.accessAllowed ? 'block' : 'none';\n",
              "\n",
              "      async function convertToInteractive(key) {\n",
              "        const element = document.querySelector('#df-d9d6cd75-c574-4577-bd71-fe54f95aa7f0');\n",
              "        const dataTable =\n",
              "          await google.colab.kernel.invokeFunction('convertToInteractive',\n",
              "                                                    [key], {});\n",
              "        if (!dataTable) return;\n",
              "\n",
              "        const docLinkHtml = 'Like what you see? Visit the ' +\n",
              "          '<a target=\"_blank\" href=https://colab.research.google.com/notebooks/data_table.ipynb>data table notebook</a>'\n",
              "          + ' to learn more about interactive tables.';\n",
              "        element.innerHTML = '';\n",
              "        dataTable['output_type'] = 'display_data';\n",
              "        await google.colab.output.renderOutput(dataTable, element);\n",
              "        const docLink = document.createElement('div');\n",
              "        docLink.innerHTML = docLinkHtml;\n",
              "        element.appendChild(docLink);\n",
              "      }\n",
              "    </script>\n",
              "  </div>\n",
              "\n",
              "\n",
              "<div id=\"df-a8df7a7b-44de-4468-831b-8a0ef9bb55c4\">\n",
              "  <button class=\"colab-df-quickchart\" onclick=\"quickchart('df-a8df7a7b-44de-4468-831b-8a0ef9bb55c4')\"\n",
              "            title=\"Suggest charts\"\n",
              "            style=\"display:none;\">\n",
              "\n",
              "<svg xmlns=\"http://www.w3.org/2000/svg\" height=\"24px\"viewBox=\"0 0 24 24\"\n",
              "     width=\"24px\">\n",
              "    <g>\n",
              "        <path d=\"M19 3H5c-1.1 0-2 .9-2 2v14c0 1.1.9 2 2 2h14c1.1 0 2-.9 2-2V5c0-1.1-.9-2-2-2zM9 17H7v-7h2v7zm4 0h-2V7h2v10zm4 0h-2v-4h2v4z\"/>\n",
              "    </g>\n",
              "</svg>\n",
              "  </button>\n",
              "\n",
              "<style>\n",
              "  .colab-df-quickchart {\n",
              "      --bg-color: #E8F0FE;\n",
              "      --fill-color: #1967D2;\n",
              "      --hover-bg-color: #E2EBFA;\n",
              "      --hover-fill-color: #174EA6;\n",
              "      --disabled-fill-color: #AAA;\n",
              "      --disabled-bg-color: #DDD;\n",
              "  }\n",
              "\n",
              "  [theme=dark] .colab-df-quickchart {\n",
              "      --bg-color: #3B4455;\n",
              "      --fill-color: #D2E3FC;\n",
              "      --hover-bg-color: #434B5C;\n",
              "      --hover-fill-color: #FFFFFF;\n",
              "      --disabled-bg-color: #3B4455;\n",
              "      --disabled-fill-color: #666;\n",
              "  }\n",
              "\n",
              "  .colab-df-quickchart {\n",
              "    background-color: var(--bg-color);\n",
              "    border: none;\n",
              "    border-radius: 50%;\n",
              "    cursor: pointer;\n",
              "    display: none;\n",
              "    fill: var(--fill-color);\n",
              "    height: 32px;\n",
              "    padding: 0;\n",
              "    width: 32px;\n",
              "  }\n",
              "\n",
              "  .colab-df-quickchart:hover {\n",
              "    background-color: var(--hover-bg-color);\n",
              "    box-shadow: 0 1px 2px rgba(60, 64, 67, 0.3), 0 1px 3px 1px rgba(60, 64, 67, 0.15);\n",
              "    fill: var(--button-hover-fill-color);\n",
              "  }\n",
              "\n",
              "  .colab-df-quickchart-complete:disabled,\n",
              "  .colab-df-quickchart-complete:disabled:hover {\n",
              "    background-color: var(--disabled-bg-color);\n",
              "    fill: var(--disabled-fill-color);\n",
              "    box-shadow: none;\n",
              "  }\n",
              "\n",
              "  .colab-df-spinner {\n",
              "    border: 2px solid var(--fill-color);\n",
              "    border-color: transparent;\n",
              "    border-bottom-color: var(--fill-color);\n",
              "    animation:\n",
              "      spin 1s steps(1) infinite;\n",
              "  }\n",
              "\n",
              "  @keyframes spin {\n",
              "    0% {\n",
              "      border-color: transparent;\n",
              "      border-bottom-color: var(--fill-color);\n",
              "      border-left-color: var(--fill-color);\n",
              "    }\n",
              "    20% {\n",
              "      border-color: transparent;\n",
              "      border-left-color: var(--fill-color);\n",
              "      border-top-color: var(--fill-color);\n",
              "    }\n",
              "    30% {\n",
              "      border-color: transparent;\n",
              "      border-left-color: var(--fill-color);\n",
              "      border-top-color: var(--fill-color);\n",
              "      border-right-color: var(--fill-color);\n",
              "    }\n",
              "    40% {\n",
              "      border-color: transparent;\n",
              "      border-right-color: var(--fill-color);\n",
              "      border-top-color: var(--fill-color);\n",
              "    }\n",
              "    60% {\n",
              "      border-color: transparent;\n",
              "      border-right-color: var(--fill-color);\n",
              "    }\n",
              "    80% {\n",
              "      border-color: transparent;\n",
              "      border-right-color: var(--fill-color);\n",
              "      border-bottom-color: var(--fill-color);\n",
              "    }\n",
              "    90% {\n",
              "      border-color: transparent;\n",
              "      border-bottom-color: var(--fill-color);\n",
              "    }\n",
              "  }\n",
              "</style>\n",
              "\n",
              "  <script>\n",
              "    async function quickchart(key) {\n",
              "      const quickchartButtonEl =\n",
              "        document.querySelector('#' + key + ' button');\n",
              "      quickchartButtonEl.disabled = true;  // To prevent multiple clicks.\n",
              "      quickchartButtonEl.classList.add('colab-df-spinner');\n",
              "      try {\n",
              "        const charts = await google.colab.kernel.invokeFunction(\n",
              "            'suggestCharts', [key], {});\n",
              "      } catch (error) {\n",
              "        console.error('Error during call to suggestCharts:', error);\n",
              "      }\n",
              "      quickchartButtonEl.classList.remove('colab-df-spinner');\n",
              "      quickchartButtonEl.classList.add('colab-df-quickchart-complete');\n",
              "    }\n",
              "    (() => {\n",
              "      let quickchartButtonEl =\n",
              "        document.querySelector('#df-a8df7a7b-44de-4468-831b-8a0ef9bb55c4 button');\n",
              "      quickchartButtonEl.style.display =\n",
              "        google.colab.kernel.accessAllowed ? 'block' : 'none';\n",
              "    })();\n",
              "  </script>\n",
              "</div>\n",
              "\n",
              "    </div>\n",
              "  </div>\n"
            ],
            "application/vnd.google.colaboratory.intrinsic+json": {
              "type": "dataframe",
              "repr_error": "0"
            }
          },
          "metadata": {},
          "execution_count": 66
        }
      ]
    }
  ]
}