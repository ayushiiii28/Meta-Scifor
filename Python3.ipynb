{
  "nbformat": 4,
  "nbformat_minor": 0,
  "metadata": {
    "colab": {
      "provenance": [],
      "authorship_tag": "ABX9TyPW68bCGuOaNMx4omIyuBqa",
      "include_colab_link": true
    },
    "kernelspec": {
      "name": "python3",
      "display_name": "Python 3"
    },
    "language_info": {
      "name": "python"
    }
  },
  "cells": [
    {
      "cell_type": "markdown",
      "metadata": {
        "id": "view-in-github",
        "colab_type": "text"
      },
      "source": [
        "<a href=\"https://colab.research.google.com/github/ayushiiii28/Meta-Scifor/blob/main/Python3.ipynb\" target=\"_parent\"><img src=\"https://colab.research.google.com/assets/colab-badge.svg\" alt=\"Open In Colab\"/></a>"
      ]
    },
    {
      "cell_type": "code",
      "execution_count": 1,
      "metadata": {
        "colab": {
          "base_uri": "https://localhost:8080/"
        },
        "id": "_vLMfpRXGA-N",
        "outputId": "45964d11-3eba-44d0-f467-7de14bf5512f"
      },
      "outputs": [
        {
          "output_type": "stream",
          "name": "stdout",
          "text": [
            "('apple', 'banana', 'cherry')\n"
          ]
        }
      ],
      "source": [
        "#what is tuples ? Tuple is a data structure of python. tuple are always in () round brackets\n",
        "thistuple = (\"apple\", \"banana\", \"cherry\")\n",
        "print(thistuple)"
      ]
    },
    {
      "cell_type": "code",
      "source": [
        "type(thistuple)"
      ],
      "metadata": {
        "colab": {
          "base_uri": "https://localhost:8080/"
        },
        "id": "2FRvbdzQGImS",
        "outputId": "9824e938-7730-4f02-e625-cf37c8aa5a15"
      },
      "execution_count": 2,
      "outputs": [
        {
          "output_type": "execute_result",
          "data": {
            "text/plain": [
              "tuple"
            ]
          },
          "metadata": {},
          "execution_count": 2
        }
      ]
    },
    {
      "cell_type": "code",
      "source": [
        "#We have to convert tuple to list to append\n",
        "thistuple = list(thistuple)\n",
        "thistuple.append(\"orange\")\n",
        "thistuple = tuple(thistuple)\n",
        "print(thistuple)"
      ],
      "metadata": {
        "colab": {
          "base_uri": "https://localhost:8080/"
        },
        "id": "UJdUAXNWGP6Q",
        "outputId": "b8372069-4919-466c-de56-0c4cc99f034b"
      },
      "execution_count": 3,
      "outputs": [
        {
          "output_type": "stream",
          "name": "stdout",
          "text": [
            "('apple', 'banana', 'cherry', 'orange')\n"
          ]
        }
      ]
    },
    {
      "cell_type": "code",
      "source": [
        "#back in tuple\n",
        "thistuple = tuple(thistuple)\n",
        "print(thistuple)"
      ],
      "metadata": {
        "colab": {
          "base_uri": "https://localhost:8080/"
        },
        "id": "D9UOIAxtGcFa",
        "outputId": "c06abd6e-3e44-469a-ea53-e5b9e6c347f2"
      },
      "execution_count": 4,
      "outputs": [
        {
          "output_type": "stream",
          "name": "stdout",
          "text": [
            "('apple', 'banana', 'cherry', 'orange')\n"
          ]
        }
      ]
    },
    {
      "cell_type": "code",
      "source": [
        "len(thistuple)#Length of tuple"
      ],
      "metadata": {
        "colab": {
          "base_uri": "https://localhost:8080/"
        },
        "id": "3cZMYmTXGhkK",
        "outputId": "72d456ff-7753-43bb-cfb1-03f53ba052d4"
      },
      "execution_count": 5,
      "outputs": [
        {
          "output_type": "execute_result",
          "data": {
            "text/plain": [
              "4"
            ]
          },
          "metadata": {},
          "execution_count": 5
        }
      ]
    },
    {
      "cell_type": "code",
      "source": [
        "thistuple[1]#indexing"
      ],
      "metadata": {
        "colab": {
          "base_uri": "https://localhost:8080/",
          "height": 36
        },
        "id": "LY9u7jKBGp8y",
        "outputId": "cacc09d5-703e-43ce-ec73-525abb1c2a28"
      },
      "execution_count": 6,
      "outputs": [
        {
          "output_type": "execute_result",
          "data": {
            "text/plain": [
              "'banana'"
            ],
            "application/vnd.google.colaboratory.intrinsic+json": {
              "type": "string"
            }
          },
          "metadata": {},
          "execution_count": 6
        }
      ]
    },
    {
      "cell_type": "code",
      "source": [
        "#set is a data structure in pyhton. sets are an unordered collection of unique element-\n",
        "#Sets are used to store multiple items in a single variable.\n",
        "a=set()\n",
        "type(a)"
      ],
      "metadata": {
        "colab": {
          "base_uri": "https://localhost:8080/"
        },
        "id": "ZkjN97BEGw3V",
        "outputId": "fcece83d-8617-4aff-aaaa-76193c6fb285"
      },
      "execution_count": 8,
      "outputs": [
        {
          "output_type": "execute_result",
          "data": {
            "text/plain": [
              "set"
            ]
          },
          "metadata": {},
          "execution_count": 8
        }
      ]
    },
    {
      "cell_type": "code",
      "source": [
        "a.add(1)\n",
        "print(a)"
      ],
      "metadata": {
        "colab": {
          "base_uri": "https://localhost:8080/"
        },
        "id": "8Kr8QD2qHJNx",
        "outputId": "11d5df75-faf5-4f91-81e0-4bb85d8a9447"
      },
      "execution_count": 11,
      "outputs": [
        {
          "output_type": "stream",
          "name": "stdout",
          "text": [
            "{1}\n"
          ]
        }
      ]
    },
    {
      "cell_type": "code",
      "source": [
        "a = set(thistuple)\n",
        "print(a)"
      ],
      "metadata": {
        "colab": {
          "base_uri": "https://localhost:8080/"
        },
        "id": "nxa7udXrHQux",
        "outputId": "7cdad24f-bcd4-4027-9a7a-f721e60efd09"
      },
      "execution_count": 13,
      "outputs": [
        {
          "output_type": "stream",
          "name": "stdout",
          "text": [
            "{'banana', 'cherry', 'orange', 'apple'}\n"
          ]
        }
      ]
    },
    {
      "cell_type": "code",
      "source": [
        "# dictionary is also a data staructure,dictionary contain keys:value in curly {} brackets.\n",
        "b = {\n",
        "  \"brand\": \"Ford\",\n",
        "  \"model\": \"Mustang\",\n",
        "  \"year\": 1964\n",
        "}\n",
        "print(b)\n"
      ],
      "metadata": {
        "colab": {
          "base_uri": "https://localhost:8080/"
        },
        "id": "buu75o7XHdvy",
        "outputId": "557d982a-c4dc-42e7-a746-bd397b544796"
      },
      "execution_count": 15,
      "outputs": [
        {
          "output_type": "stream",
          "name": "stdout",
          "text": [
            "{'brand': 'Ford', 'model': 'Mustang', 'year': 1964}\n"
          ]
        }
      ]
    },
    {
      "cell_type": "code",
      "source": [
        "#we can add multiple values\n",
        "b = {\n",
        "  \"brand\": [\"Ford,Tesla,Nixon\"],\n",
        "  \"model\": [\"Mustang,Swift,Scorpio\"],\n",
        "  \"year\": [1964,1968,1970]\n",
        "}\n",
        "print(b)\n"
      ],
      "metadata": {
        "colab": {
          "base_uri": "https://localhost:8080/"
        },
        "id": "ExeGN9YvHzEu",
        "outputId": "79a6c2ce-1390-4b87-b7ae-a1c2bed962c2"
      },
      "execution_count": 19,
      "outputs": [
        {
          "output_type": "stream",
          "name": "stdout",
          "text": [
            "{'brand': ['Ford,Tesla,Nixon'], 'model': ['Mustang,Swift,Scorpio'], 'year': [1964, 1968, 1970]}\n"
          ]
        }
      ]
    },
    {
      "cell_type": "code",
      "source": [
        "b['model'][0]"
      ],
      "metadata": {
        "colab": {
          "base_uri": "https://localhost:8080/",
          "height": 36
        },
        "id": "NQh5MVW4Ikp6",
        "outputId": "3f2fe320-d6c4-4379-d3e2-70b39a5c6ea1"
      },
      "execution_count": 20,
      "outputs": [
        {
          "output_type": "execute_result",
          "data": {
            "text/plain": [
              "'Mustang,Swift,Scorpio'"
            ],
            "application/vnd.google.colaboratory.intrinsic+json": {
              "type": "string"
            }
          },
          "metadata": {},
          "execution_count": 20
        }
      ]
    },
    {
      "cell_type": "code",
      "source": [
        "#Capitalising\n",
        "b['model'][0].upper()"
      ],
      "metadata": {
        "colab": {
          "base_uri": "https://localhost:8080/",
          "height": 36
        },
        "id": "9xrfOPfqIsQY",
        "outputId": "cb5a50fb-a82c-4598-cf99-f8072b573d41"
      },
      "execution_count": 21,
      "outputs": [
        {
          "output_type": "execute_result",
          "data": {
            "text/plain": [
              "'MUSTANG,SWIFT,SCORPIO'"
            ],
            "application/vnd.google.colaboratory.intrinsic+json": {
              "type": "string"
            }
          },
          "metadata": {},
          "execution_count": 21
        }
      ]
    },
    {
      "cell_type": "code",
      "source": [
        "#we can multiple, addition , substraction and divide in dictionary\n",
        "b['year'][0]=+4\n",
        "print(b)\n"
      ],
      "metadata": {
        "colab": {
          "base_uri": "https://localhost:8080/"
        },
        "id": "-WYCLoaUI2MW",
        "outputId": "c31ff514-1ea8-4aa6-c31d-9bb5bd58a736"
      },
      "execution_count": 22,
      "outputs": [
        {
          "output_type": "stream",
          "name": "stdout",
          "text": [
            "{'brand': ['Ford,Tesla,Nixon'], 'model': ['Mustang,Swift,Scorpio'], 'year': [4, 1968, 1970]}\n"
          ]
        }
      ]
    },
    {
      "cell_type": "code",
      "source": [
        "#Update values()\n",
        "b.update({'model':100})\n",
        "print(b)"
      ],
      "metadata": {
        "colab": {
          "base_uri": "https://localhost:8080/"
        },
        "id": "Fbm3-6EwJR4C",
        "outputId": "20e4abe3-dc6b-4e63-e5aa-4da7edc2a13e"
      },
      "execution_count": 23,
      "outputs": [
        {
          "output_type": "stream",
          "name": "stdout",
          "text": [
            "{'brand': ['Ford,Tesla,Nixon'], 'model': 100, 'year': [4, 1968, 1970]}\n"
          ]
        }
      ]
    },
    {
      "cell_type": "code",
      "source": [
        "#Branching (if,elif,else)\n",
        "a = 33\n",
        "b = 33\n",
        "if b > a:\n",
        "  print(\"b is greater than a\")\n",
        "else:\n",
        "  print(\"a is greater than b\")\n"
      ],
      "metadata": {
        "colab": {
          "base_uri": "https://localhost:8080/"
        },
        "id": "c-RFPxo4Jlub",
        "outputId": "4ffc6b0a-8a53-4192-a6d8-67f2167a83b7"
      },
      "execution_count": 24,
      "outputs": [
        {
          "output_type": "stream",
          "name": "stdout",
          "text": [
            "a is greater than b\n"
          ]
        }
      ]
    },
    {
      "cell_type": "code",
      "source": [
        "#elif\n",
        "a = 200\n",
        "b = 33\n",
        "if b > a:\n",
        "  print(\"b is greater than a\")\n",
        "elif a == b:\n",
        "  print(\"a and b are equal\")\n",
        "else:\n",
        "  print(\"a is greater than b\")"
      ],
      "metadata": {
        "colab": {
          "base_uri": "https://localhost:8080/"
        },
        "id": "vYH4cK5IJwsB",
        "outputId": "0462dbca-7f03-4304-f180-a166cb339248"
      },
      "execution_count": 25,
      "outputs": [
        {
          "output_type": "stream",
          "name": "stdout",
          "text": [
            "a is greater than b\n"
          ]
        }
      ]
    },
    {
      "cell_type": "code",
      "source": [
        "#range function ? we can genrate a sequence of numbers  using range() function , range(10) will generate number\n",
        "#(starting number, stop number,step size)\n",
        "print(range(11))"
      ],
      "metadata": {
        "colab": {
          "base_uri": "https://localhost:8080/"
        },
        "id": "Iddy9LnqJzHh",
        "outputId": "178de63d-cac1-450d-e93c-6b8b4acff904"
      },
      "execution_count": 26,
      "outputs": [
        {
          "output_type": "stream",
          "name": "stdout",
          "text": [
            "range(0, 11)\n"
          ]
        }
      ]
    },
    {
      "cell_type": "code",
      "source": [
        "print(list(range(10)))"
      ],
      "metadata": {
        "colab": {
          "base_uri": "https://localhost:8080/"
        },
        "id": "2N__JI6kKdwF",
        "outputId": "90e218ce-8549-40c3-ded3-acd4b71c419f"
      },
      "execution_count": 27,
      "outputs": [
        {
          "output_type": "stream",
          "name": "stdout",
          "text": [
            "[0, 1, 2, 3, 4, 5, 6, 7, 8, 9]\n"
          ]
        }
      ]
    },
    {
      "cell_type": "code",
      "source": [
        "#we store range fuction in variable\n",
        "roll_num=list(range(10,50,1))\n",
        "print(roll_num)"
      ],
      "metadata": {
        "colab": {
          "base_uri": "https://localhost:8080/"
        },
        "id": "l3tZIur7KhZb",
        "outputId": "a46e711b-9076-4bdc-f5ba-47ade9142173"
      },
      "execution_count": 29,
      "outputs": [
        {
          "output_type": "stream",
          "name": "stdout",
          "text": [
            "[10, 11, 12, 13, 14, 15, 16, 17, 18, 19, 20, 21, 22, 23, 24, 25, 26, 27, 28, 29, 30, 31, 32, 33, 34, 35, 36, 37, 38, 39, 40, 41, 42, 43, 44, 45, 46, 47, 48, 49]\n"
          ]
        }
      ]
    },
    {
      "cell_type": "code",
      "source": [
        "# Reverse function with range fucntion.\n",
        "reverse=list(range(100,9,-10))\n",
        "print(reverse)"
      ],
      "metadata": {
        "colab": {
          "base_uri": "https://localhost:8080/"
        },
        "id": "b6X0zwoDKslG",
        "outputId": "88a5f3d4-9bb0-4153-c8d0-6a3ed26c1ff9"
      },
      "execution_count": 36,
      "outputs": [
        {
          "output_type": "stream",
          "name": "stdout",
          "text": [
            "[100, 90, 80, 70, 60, 50, 40, 30, 20, 10]\n"
          ]
        }
      ]
    },
    {
      "cell_type": "code",
      "source": [
        "#Python has two primitive loop commands:\n",
        "\n",
        "#while loops\n",
        "#for loops\n",
        "\n"
      ],
      "metadata": {
        "id": "LJcExllbLBq-"
      },
      "execution_count": null,
      "outputs": []
    },
    {
      "cell_type": "code",
      "source": [
        "#while loops\n",
        "i = 1\n",
        "while i < 6:\n",
        "  print(i)\n",
        "  i += 1"
      ],
      "metadata": {
        "colab": {
          "base_uri": "https://localhost:8080/"
        },
        "id": "VcyKVU4rLNpl",
        "outputId": "018bcc10-862e-413a-a2a1-0c80f9a01e19"
      },
      "execution_count": 37,
      "outputs": [
        {
          "output_type": "stream",
          "name": "stdout",
          "text": [
            "1\n",
            "2\n",
            "3\n",
            "4\n",
            "5\n"
          ]
        }
      ]
    },
    {
      "cell_type": "code",
      "source": [
        "#for loops\n",
        "fruits = [\"apple\", \"banana\", \"cherry\"]\n",
        "for x in fruits:\n",
        "  print(x)"
      ],
      "metadata": {
        "colab": {
          "base_uri": "https://localhost:8080/"
        },
        "id": "vZjPR-eMLQiD",
        "outputId": "11cf1a3e-e533-417d-f9ba-839f7cb95b17"
      },
      "execution_count": 38,
      "outputs": [
        {
          "output_type": "stream",
          "name": "stdout",
          "text": [
            "apple\n",
            "banana\n",
            "cherry\n"
          ]
        }
      ]
    },
    {
      "cell_type": "code",
      "source": [
        "#loop with range\n",
        "for x in range(6):\n",
        "  print(x)"
      ],
      "metadata": {
        "colab": {
          "base_uri": "https://localhost:8080/"
        },
        "id": "Ga19h1-vLTO_",
        "outputId": "7a1a8f5a-9e01-4636-db56-413ff2527d57"
      },
      "execution_count": 39,
      "outputs": [
        {
          "output_type": "stream",
          "name": "stdout",
          "text": [
            "0\n",
            "1\n",
            "2\n",
            "3\n",
            "4\n",
            "5\n"
          ]
        }
      ]
    },
    {
      "cell_type": "code",
      "source": [
        "for num in range(2,5):\n",
        "    print(\"Multiplication table for\",num)\n",
        "    for i in range(1,11):\n",
        "        print(num*i)\n",
        "        if i ==10:\n",
        "            print( \"\\n\" )\n",
        "else:\n",
        "    print(\"*\" * 30)\n",
        "    print(\"Thats all\")\n",
        "    print(\"*\" * 30)"
      ],
      "metadata": {
        "colab": {
          "base_uri": "https://localhost:8080/"
        },
        "id": "Mk2g1LhpLbzX",
        "outputId": "38d3bb10-bf13-40b0-e74c-4d32b5f7766e"
      },
      "execution_count": 40,
      "outputs": [
        {
          "output_type": "stream",
          "name": "stdout",
          "text": [
            "Multiplication table for 2\n",
            "2\n",
            "4\n",
            "6\n",
            "8\n",
            "10\n",
            "12\n",
            "14\n",
            "16\n",
            "18\n",
            "20\n",
            "\n",
            "\n",
            "Multiplication table for 3\n",
            "3\n",
            "6\n",
            "9\n",
            "12\n",
            "15\n",
            "18\n",
            "21\n",
            "24\n",
            "27\n",
            "30\n",
            "\n",
            "\n",
            "Multiplication table for 4\n",
            "4\n",
            "8\n",
            "12\n",
            "16\n",
            "20\n",
            "24\n",
            "28\n",
            "32\n",
            "36\n",
            "40\n",
            "\n",
            "\n",
            "******************************\n",
            "Thats all\n",
            "******************************\n"
          ]
        }
      ]
    },
    {
      "cell_type": "code",
      "source": [
        "num=int(input(\"Enter Number which one you want a table\"))\n",
        "\n",
        "for i in range(1,11):\n",
        "    print(f\"{num}X{i}={num*i}\")"
      ],
      "metadata": {
        "colab": {
          "base_uri": "https://localhost:8080/"
        },
        "id": "CPpTU-61Lfjl",
        "outputId": "1b59529d-0b24-4571-93f9-c1b9ee6cf595"
      },
      "execution_count": 41,
      "outputs": [
        {
          "output_type": "stream",
          "name": "stdout",
          "text": [
            "Enter Number which one you want a table5\n",
            "5X1=5\n",
            "5X2=10\n",
            "5X3=15\n",
            "5X4=20\n",
            "5X5=25\n",
            "5X6=30\n",
            "5X7=35\n",
            "5X8=40\n",
            "5X9=45\n",
            "5X10=50\n"
          ]
        }
      ]
    },
    {
      "cell_type": "code",
      "source": [
        "import time\n",
        "result =time.localtime()\n",
        "print(result)"
      ],
      "metadata": {
        "colab": {
          "base_uri": "https://localhost:8080/"
        },
        "id": "T0p_tp3MLnqZ",
        "outputId": "aa533ec0-12d1-4b33-dc91-5599e7694ee7"
      },
      "execution_count": 42,
      "outputs": [
        {
          "output_type": "stream",
          "name": "stdout",
          "text": [
            "time.struct_time(tm_year=2024, tm_mon=7, tm_mday=23, tm_hour=15, tm_min=21, tm_sec=34, tm_wday=1, tm_yday=205, tm_isdst=0)\n"
          ]
        }
      ]
    },
    {
      "cell_type": "code",
      "source": [
        "#Enumerate() allows us to iterate through a sequence but it keeps track of both the index and the element.\n",
        "student=[1,2,3,4,5]\n",
        "for index,value in enumerate(student):\n",
        "    print(index,value)\n"
      ],
      "metadata": {
        "colab": {
          "base_uri": "https://localhost:8080/"
        },
        "id": "l-eDUo1yMIf2",
        "outputId": "db77f458-82d1-40b2-91ee-1102147e271a"
      },
      "execution_count": 44,
      "outputs": [
        {
          "output_type": "stream",
          "name": "stdout",
          "text": [
            "0 1\n",
            "1 2\n",
            "2 3\n",
            "3 4\n",
            "4 5\n"
          ]
        }
      ]
    },
    {
      "cell_type": "code",
      "source": [
        "#zip method use when we join a two list.\n",
        "student_name=[\"a\",\"b\",\"c\",\"d\"]\n",
        "student_marks=[54,98,99,100,34]\n",
        "for name,marks in zip(student_name,student_marks):\n",
        "    print(name,marks)\n"
      ],
      "metadata": {
        "colab": {
          "base_uri": "https://localhost:8080/"
        },
        "id": "YcmbIngPMIyV",
        "outputId": "b0df5e34-7d29-4f32-b6cc-70a3839a2f50"
      },
      "execution_count": 45,
      "outputs": [
        {
          "output_type": "stream",
          "name": "stdout",
          "text": [
            "a 54\n",
            "b 98\n",
            "c 99\n",
            "d 100\n"
          ]
        }
      ]
    },
    {
      "cell_type": "code",
      "source": [
        "# use * for unziping\n",
        "student_details=list(zip(student_name,student_marks))\n",
        "name,marks=list(zip(*student_details))\n",
        "print(name)\n",
        "print(marks)"
      ],
      "metadata": {
        "colab": {
          "base_uri": "https://localhost:8080/"
        },
        "id": "zBjpOukNMaZU",
        "outputId": "6a128cf9-b07b-4d53-c750-5fdc72f6fe1c"
      },
      "execution_count": 54,
      "outputs": [
        {
          "output_type": "stream",
          "name": "stdout",
          "text": [
            "('a', 'b', 'c', 'd')\n",
            "(54, 98, 99, 100)\n"
          ]
        }
      ]
    },
    {
      "cell_type": "code",
      "source": [
        "#The Break Statement used to terminate the loop, it is used in loop and swith case.\n",
        "for x in range(6):\n",
        "  if x == 3:\n",
        "    break\n",
        "  else:\n",
        "    print(x)"
      ],
      "metadata": {
        "colab": {
          "base_uri": "https://localhost:8080/"
        },
        "id": "Eb4IBkd7NNN6",
        "outputId": "9d9feff8-af68-4a98-8dc3-d0978b125ef5"
      },
      "execution_count": 55,
      "outputs": [
        {
          "output_type": "stream",
          "name": "stdout",
          "text": [
            "0\n",
            "1\n",
            "2\n"
          ]
        }
      ]
    },
    {
      "cell_type": "code",
      "source": [
        "#Continue statement is used to continue the next interation in the loop, its only used in loop, keyword\n",
        "for x in range(6):\n",
        "  if x == 3:\n",
        "    continue\n",
        "  else:\n",
        "    print(x)"
      ],
      "metadata": {
        "colab": {
          "base_uri": "https://localhost:8080/"
        },
        "id": "_IZt2_-kNSr3",
        "outputId": "e8707b8a-1543-4c93-b262-54f79a171d9c"
      },
      "execution_count": 56,
      "outputs": [
        {
          "output_type": "stream",
          "name": "stdout",
          "text": [
            "0\n",
            "1\n",
            "2\n",
            "4\n",
            "5\n"
          ]
        }
      ]
    }
  ]
}