{
  "nbformat": 4,
  "nbformat_minor": 0,
  "metadata": {
    "colab": {
      "provenance": [],
      "authorship_tag": "ABX9TyO1DKWEXWlj7Kp015ySRY6T",
      "include_colab_link": true
    },
    "kernelspec": {
      "name": "python3",
      "display_name": "Python 3"
    },
    "language_info": {
      "name": "python"
    }
  },
  "cells": [
    {
      "cell_type": "markdown",
      "metadata": {
        "id": "view-in-github",
        "colab_type": "text"
      },
      "source": [
        "<a href=\"https://colab.research.google.com/github/ayushiiii28/Meta-Scifor/blob/Python/Python2.ipynb\" target=\"_parent\"><img src=\"https://colab.research.google.com/assets/colab-badge.svg\" alt=\"Open In Colab\"/></a>"
      ]
    },
    {
      "cell_type": "code",
      "execution_count": null,
      "metadata": {
        "id": "KoWbQUCXA4XK"
      },
      "outputs": [],
      "source": [
        "#what is data structure ? Data structure which can hold,store and save out data\n",
        "#there are different different typre data structure\n",
        "#1- List\n",
        "#2- Tuple\n",
        "#3- Set\n",
        "#4- Dictionary"
      ]
    },
    {
      "cell_type": "code",
      "source": [
        "#Lists are used to store multiple items in a single variable.\n",
        "\n",
        "#Lists are one of 4 built-in data types in Python used to store collections of data, the other 3 are Tuple, Set, and Dictionary, all with different qualities and usage.\n",
        "\n",
        "#Lists are created using square brackets\n",
        "thislist = [\"apple\", \"banana\", \"cherry\"]\n",
        "print(thislist)"
      ],
      "metadata": {
        "colab": {
          "base_uri": "https://localhost:8080/"
        },
        "id": "iDlwJ5PiA7qf",
        "outputId": "76666190-ec75-4c4b-b6b7-253e54904368"
      },
      "execution_count": 1,
      "outputs": [
        {
          "output_type": "stream",
          "name": "stdout",
          "text": [
            "['apple', 'banana', 'cherry']\n"
          ]
        }
      ]
    },
    {
      "cell_type": "code",
      "source": [
        "a=[]\n",
        "type(a)"
      ],
      "metadata": {
        "colab": {
          "base_uri": "https://localhost:8080/"
        },
        "id": "0lQiapSTBiNS",
        "outputId": "8b784c84-c778-462c-b71e-db75c665c25a"
      },
      "execution_count": 5,
      "outputs": [
        {
          "output_type": "execute_result",
          "data": {
            "text/plain": [
              "list"
            ]
          },
          "metadata": {},
          "execution_count": 5
        }
      ]
    },
    {
      "cell_type": "code",
      "source": [
        "#Copy Method\n",
        "marks=[1,2,3,4]\n",
        "new=marks.copy()\n",
        "print(new)"
      ],
      "metadata": {
        "colab": {
          "base_uri": "https://localhost:8080/"
        },
        "id": "pBMnmJK9Btao",
        "outputId": "5f27c2db-1f09-4273-d8fc-5ef069bbf0a7"
      },
      "execution_count": 6,
      "outputs": [
        {
          "output_type": "stream",
          "name": "stdout",
          "text": [
            "[1, 2, 3, 4]\n"
          ]
        }
      ]
    },
    {
      "cell_type": "code",
      "source": [
        "#Another way to make a list\n",
        "list('Ayushi')"
      ],
      "metadata": {
        "colab": {
          "base_uri": "https://localhost:8080/"
        },
        "id": "7LsAXGysB_pi",
        "outputId": "1a60f991-7225-4813-8883-91aae25c222b"
      },
      "execution_count": 7,
      "outputs": [
        {
          "output_type": "execute_result",
          "data": {
            "text/plain": [
              "['A', 'y', 'u', 's', 'h', 'i']"
            ]
          },
          "metadata": {},
          "execution_count": 7
        }
      ]
    },
    {
      "cell_type": "code",
      "source": [
        "l1 = [\"apple\", \"banana\", \"cherry\"]\n",
        "l1.append(\"Orange\")\n",
        "print(l1)\n"
      ],
      "metadata": {
        "colab": {
          "base_uri": "https://localhost:8080/"
        },
        "id": "RigYCGjCCEDh",
        "outputId": "e1a6ec74-82f2-488f-9eec-e93ed431150a"
      },
      "execution_count": 8,
      "outputs": [
        {
          "output_type": "stream",
          "name": "stdout",
          "text": [
            "['apple', 'banana', 'cherry', 'Orange']\n"
          ]
        }
      ]
    },
    {
      "cell_type": "code",
      "source": [
        "l1.insert(2,\"Melon\")\n",
        "print(l1)"
      ],
      "metadata": {
        "colab": {
          "base_uri": "https://localhost:8080/"
        },
        "id": "Cjy4RdIdCpEU",
        "outputId": "fc8d8528-d835-4443-9c02-9862a53f2333"
      },
      "execution_count": 13,
      "outputs": [
        {
          "output_type": "stream",
          "name": "stdout",
          "text": [
            "['apple', 'banana', 'Melon', 'Melon', 'Melon', 'Melon', 'cherry', 'Orange', 'Melon']\n"
          ]
        }
      ]
    },
    {
      "cell_type": "code",
      "source": [
        "l1[2]='Watermelon' #Replacing\n",
        "print(l1)"
      ],
      "metadata": {
        "colab": {
          "base_uri": "https://localhost:8080/"
        },
        "id": "QD9R4oprCup5",
        "outputId": "8631ced6-5bbf-42b7-bf6f-c729fe82a9f2"
      },
      "execution_count": 14,
      "outputs": [
        {
          "output_type": "stream",
          "name": "stdout",
          "text": [
            "['apple', 'banana', 'Watermelon', 'Melon', 'Melon', 'Melon', 'cherry', 'Orange', 'Melon']\n"
          ]
        }
      ]
    },
    {
      "cell_type": "code",
      "source": [
        "del l1[3] #deleting\n",
        "print(l1)"
      ],
      "metadata": {
        "colab": {
          "base_uri": "https://localhost:8080/"
        },
        "id": "e4_PHd-EDBwG",
        "outputId": "7a41683b-3dda-4274-e991-dd69a24130e8"
      },
      "execution_count": 18,
      "outputs": [
        {
          "output_type": "stream",
          "name": "stdout",
          "text": [
            "['apple', 'banana', 'Watermelon', 'Melon', 'Melon', 'cherry', 'Orange', 'Melon']\n"
          ]
        }
      ]
    },
    {
      "cell_type": "code",
      "source": [
        "l1[1:7] #slicing\n"
      ],
      "metadata": {
        "colab": {
          "base_uri": "https://localhost:8080/"
        },
        "id": "r9ZpXN8iDZdq",
        "outputId": "b1f466a3-5674-406c-f57e-391574f3d0d2"
      },
      "execution_count": 22,
      "outputs": [
        {
          "output_type": "execute_result",
          "data": {
            "text/plain": [
              "['banana', 'Watermelon', 'Melon', 'Melon', 'cherry', 'Orange']"
            ]
          },
          "metadata": {},
          "execution_count": 22
        }
      ]
    },
    {
      "cell_type": "code",
      "source": [
        "#\"+\" sign to concatinate list\n",
        "print(l1+l1)"
      ],
      "metadata": {
        "colab": {
          "base_uri": "https://localhost:8080/"
        },
        "id": "ygMd6e0_DrdQ",
        "outputId": "a5e6856d-3de9-453f-b619-2f4b755bcd86"
      },
      "execution_count": 23,
      "outputs": [
        {
          "output_type": "stream",
          "name": "stdout",
          "text": [
            "['apple', 'banana', 'Watermelon', 'Melon', 'Melon', 'cherry', 'Orange', 'Melon', 'apple', 'banana', 'Watermelon', 'Melon', 'Melon', 'cherry', 'Orange', 'Melon']\n"
          ]
        }
      ]
    },
    {
      "cell_type": "code",
      "source": [
        "l1 * 2"
      ],
      "metadata": {
        "colab": {
          "base_uri": "https://localhost:8080/"
        },
        "id": "XFCuPPsmDtCd",
        "outputId": "1e813688-9e9f-4878-cc8b-4f840ea4cc3c"
      },
      "execution_count": 24,
      "outputs": [
        {
          "output_type": "execute_result",
          "data": {
            "text/plain": [
              "['apple',\n",
              " 'banana',\n",
              " 'Watermelon',\n",
              " 'Melon',\n",
              " 'Melon',\n",
              " 'cherry',\n",
              " 'Orange',\n",
              " 'Melon',\n",
              " 'apple',\n",
              " 'banana',\n",
              " 'Watermelon',\n",
              " 'Melon',\n",
              " 'Melon',\n",
              " 'cherry',\n",
              " 'Orange',\n",
              " 'Melon']"
            ]
          },
          "metadata": {},
          "execution_count": 24
        }
      ]
    },
    {
      "cell_type": "code",
      "source": [
        "#count method ? count method is which method the csn show how many time availability of duplicate things\n",
        "marks=[51,56,89,78,56,23,12,4,5,23,23,56,]\n",
        "marks.count(56)"
      ],
      "metadata": {
        "colab": {
          "base_uri": "https://localhost:8080/"
        },
        "id": "YuPNWJCfDxA-",
        "outputId": "4417622a-210d-49cb-b670-c269da456114"
      },
      "execution_count": 25,
      "outputs": [
        {
          "output_type": "execute_result",
          "data": {
            "text/plain": [
              "3"
            ]
          },
          "metadata": {},
          "execution_count": 25
        }
      ]
    },
    {
      "cell_type": "code",
      "source": [
        "l2=[1,2,3,4,5]\n",
        "l2.extend([6,7])\n",
        "print(l2)"
      ],
      "metadata": {
        "colab": {
          "base_uri": "https://localhost:8080/"
        },
        "id": "WQ42Laz-EEEF",
        "outputId": "64014910-9527-47c9-8ac7-413a26151308"
      },
      "execution_count": 26,
      "outputs": [
        {
          "output_type": "stream",
          "name": "stdout",
          "text": [
            "[1, 2, 3, 4, 5, 6, 7]\n"
          ]
        }
      ]
    },
    {
      "cell_type": "code",
      "source": [
        "#Pop mehod help for delete last index elemnt from any list.\n",
        "lst1=[1,2,3,4,5]\n",
        "lst1.pop()\n",
        "print(lst1)\n"
      ],
      "metadata": {
        "colab": {
          "base_uri": "https://localhost:8080/"
        },
        "id": "9elY_RPFEWBy",
        "outputId": "da71a727-d757-4050-b9c4-32264eafbee3"
      },
      "execution_count": 29,
      "outputs": [
        {
          "output_type": "stream",
          "name": "stdout",
          "text": [
            "[1, 2, 3, 4]\n"
          ]
        }
      ]
    },
    {
      "cell_type": "code",
      "source": [
        "#remove method helps for delete element from our list.\n",
        "lst1.remove(4)\n",
        "print(lst1)"
      ],
      "metadata": {
        "colab": {
          "base_uri": "https://localhost:8080/"
        },
        "id": "JxScvu5fEwDn",
        "outputId": "926cc700-a910-4e74-bfb5-be1402ea7e08"
      },
      "execution_count": 32,
      "outputs": [
        {
          "output_type": "stream",
          "name": "stdout",
          "text": [
            "[1, 2, 3]\n"
          ]
        }
      ]
    },
    {
      "cell_type": "code",
      "source": [
        "#reverse method helps in to reverse show the all element in list.\n",
        "lst1.reverse()\n",
        "print(lst1)"
      ],
      "metadata": {
        "colab": {
          "base_uri": "https://localhost:8080/"
        },
        "id": "oVFle0uBFDhE",
        "outputId": "0485bba5-a6b5-4557-f63b-b0dbac4524a1"
      },
      "execution_count": 34,
      "outputs": [
        {
          "output_type": "stream",
          "name": "stdout",
          "text": [
            "[1, 2, 3]\n"
          ]
        }
      ]
    },
    {
      "cell_type": "code",
      "source": [
        "#sort method helps in  to arrange the elements by ascending and descending order.\n",
        "lst1.sort()\n",
        "print(lst1)"
      ],
      "metadata": {
        "colab": {
          "base_uri": "https://localhost:8080/"
        },
        "id": "lqGgW-RqFKy-",
        "outputId": "53af3913-5c76-4843-8af0-69c2c647f36c"
      },
      "execution_count": 35,
      "outputs": [
        {
          "output_type": "stream",
          "name": "stdout",
          "text": [
            "[1, 2, 3]\n"
          ]
        }
      ]
    },
    {
      "cell_type": "code",
      "source": [
        "lst1.sort(reverse=True)\n",
        "print(lst1)"
      ],
      "metadata": {
        "colab": {
          "base_uri": "https://localhost:8080/"
        },
        "id": "MUYXCKrKFUOR",
        "outputId": "1beeb4bc-a536-4cbf-f296-86e28765961f"
      },
      "execution_count": 37,
      "outputs": [
        {
          "output_type": "stream",
          "name": "stdout",
          "text": [
            "[3, 2, 1]\n"
          ]
        }
      ]
    },
    {
      "cell_type": "code",
      "source": [],
      "metadata": {
        "id": "-9dsG09JFai0"
      },
      "execution_count": null,
      "outputs": []
    }
  ]
}