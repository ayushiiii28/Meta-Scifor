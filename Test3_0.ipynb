{
  "nbformat": 4,
  "nbformat_minor": 0,
  "metadata": {
    "colab": {
      "provenance": [],
      "authorship_tag": "ABX9TyPp5sGRl+4txSq0HRXZFs2K",
      "include_colab_link": true
    },
    "kernelspec": {
      "name": "python3",
      "display_name": "Python 3"
    },
    "language_info": {
      "name": "python"
    }
  },
  "cells": [
    {
      "cell_type": "markdown",
      "metadata": {
        "id": "view-in-github",
        "colab_type": "text"
      },
      "source": [
        "<a href=\"https://colab.research.google.com/github/ayushiiii28/Meta-Scifor/blob/main/Test3_0.ipynb\" target=\"_parent\"><img src=\"https://colab.research.google.com/assets/colab-badge.svg\" alt=\"Open In Colab\"/></a>"
      ]
    },
    {
      "cell_type": "code",
      "execution_count": 1,
      "metadata": {
        "colab": {
          "base_uri": "https://localhost:8080/"
        },
        "id": "weu0S1jpV7o3",
        "outputId": "23923ef0-6012-40a0-9f1d-2fa7aafd2f4f"
      },
      "outputs": [
        {
          "output_type": "stream",
          "name": "stdout",
          "text": [
            "      Name  Age  Score\n",
            "0    Alice   24   85.5\n",
            "1      Bob   27   90.3\n",
            "2  Charlie   22   88.0\n",
            "3    David   32   92.1\n",
            "4      Eve   29   78.8\n"
          ]
        }
      ],
      "source": [
        "#Pandas\n",
        "#Answer1\n",
        "#DataFrame Creation\n",
        "import pandas as pd\n",
        "\n",
        "data = {\n",
        "    'Name': ['Alice', 'Bob', 'Charlie', 'David', 'Eve'],\n",
        "    'Age': [24, 27, 22, 32, 29],\n",
        "    'Score': [85.5, 90.3, 88.0, 92.1, 78.8]\n",
        "}\n",
        "\n",
        "df = pd.DataFrame(data)\n",
        "print(df)"
      ]
    },
    {
      "cell_type": "code",
      "source": [
        "#Inspecting Data Frame\n",
        "#Answer2\n",
        "print(df.head(3))"
      ],
      "metadata": {
        "colab": {
          "base_uri": "https://localhost:8080/"
        },
        "id": "cNBmmhuSW7tB",
        "outputId": "732dad3b-90ba-4cb0-cef0-fb83da50fe1d"
      },
      "execution_count": 2,
      "outputs": [
        {
          "output_type": "stream",
          "name": "stdout",
          "text": [
            "      Name  Age  Score\n",
            "0    Alice   24   85.5\n",
            "1      Bob   27   90.3\n",
            "2  Charlie   22   88.0\n"
          ]
        }
      ]
    },
    {
      "cell_type": "code",
      "source": [
        "#Column Selection\n",
        "#Answer3\n",
        "print(df[['Name', 'Score']])"
      ],
      "metadata": {
        "colab": {
          "base_uri": "https://localhost:8080/"
        },
        "id": "ubzgYyTVXDGx",
        "outputId": "fbb5449d-2860-442b-c248-e02502756f35"
      },
      "execution_count": 3,
      "outputs": [
        {
          "output_type": "stream",
          "name": "stdout",
          "text": [
            "      Name  Score\n",
            "0    Alice   85.5\n",
            "1      Bob   90.3\n",
            "2  Charlie   88.0\n",
            "3    David   92.1\n",
            "4      Eve   78.8\n"
          ]
        }
      ]
    },
    {
      "cell_type": "code",
      "source": [
        "#Filtering Data\n",
        "#Answer4\n",
        "filtered_df = df[df['Age'] > 25]\n",
        "print(filtered_df)"
      ],
      "metadata": {
        "colab": {
          "base_uri": "https://localhost:8080/"
        },
        "id": "D6BKbLD6XGX2",
        "outputId": "7ccf7d19-7412-4a89-fef7-50733c100266"
      },
      "execution_count": 4,
      "outputs": [
        {
          "output_type": "stream",
          "name": "stdout",
          "text": [
            "    Name  Age  Score\n",
            "1    Bob   27   90.3\n",
            "3  David   32   92.1\n",
            "4    Eve   29   78.8\n"
          ]
        }
      ]
    },
    {
      "cell_type": "code",
      "source": [
        "#Adding a Column\n",
        "#Answer5\n",
        "df['Passed'] = df['Score'] > 80\n",
        "print(df)"
      ],
      "metadata": {
        "colab": {
          "base_uri": "https://localhost:8080/"
        },
        "id": "nEjmba3hXKNr",
        "outputId": "20510390-9b96-44cd-e65c-c3144b0e578b"
      },
      "execution_count": 5,
      "outputs": [
        {
          "output_type": "stream",
          "name": "stdout",
          "text": [
            "      Name  Age  Score  Passed\n",
            "0    Alice   24   85.5    True\n",
            "1      Bob   27   90.3    True\n",
            "2  Charlie   22   88.0    True\n",
            "3    David   32   92.1    True\n",
            "4      Eve   29   78.8   False\n"
          ]
        }
      ]
    },
    {
      "cell_type": "code",
      "source": [
        "#Sorting the DataFrame by 'Score' in Descending Order\n",
        "#Answer6\n",
        "df_sorted = df.sort_values(by='Score', ascending=False)\n",
        "print(\"DataFrame sorted by 'Score' in descending order:\")\n",
        "print(df_sorted)"
      ],
      "metadata": {
        "colab": {
          "base_uri": "https://localhost:8080/"
        },
        "id": "kYGTJYjRXkFc",
        "outputId": "4a3048be-23aa-4268-a531-5e05252579d7"
      },
      "execution_count": 6,
      "outputs": [
        {
          "output_type": "stream",
          "name": "stdout",
          "text": [
            "DataFrame sorted by 'Score' in descending order:\n",
            "      Name  Age  Score  Passed\n",
            "3    David   32   92.1    True\n",
            "1      Bob   27   90.3    True\n",
            "2  Charlie   22   88.0    True\n",
            "0    Alice   24   85.5    True\n",
            "4      Eve   29   78.8   False\n"
          ]
        }
      ]
    },
    {
      "cell_type": "code",
      "source": [
        "#Group By and Calculate Mean 'Score'\n",
        "#Answer7\n",
        "mean_score_by_passed = df.groupby('Passed')['Score'].mean()\n",
        "print(\"\\nMean 'Score' for each 'Passed' group:\")\n",
        "print(mean_score_by_passed)"
      ],
      "metadata": {
        "colab": {
          "base_uri": "https://localhost:8080/"
        },
        "id": "XsUqkPDcXlH8",
        "outputId": "f59ef9f5-aae0-4553-8089-76c0be72c00a"
      },
      "execution_count": 7,
      "outputs": [
        {
          "output_type": "stream",
          "name": "stdout",
          "text": [
            "\n",
            "Mean 'Score' for each 'Passed' group:\n",
            "Passed\n",
            "False    78.800\n",
            "True     88.975\n",
            "Name: Score, dtype: float64\n"
          ]
        }
      ]
    },
    {
      "cell_type": "code",
      "source": [
        "# Handling Missing Data\n",
        "#Answer8\n",
        "import numpy as np\n",
        "df['Attendance'] = [90, np.nan, 85, 87, np.nan]\n",
        "attendance_mean = df['Attendance'].mean()\n",
        "df['Attendance'].fillna(attendance_mean, inplace=True)\n",
        "print(\"\\nDataFrame with 'Attendance' column and missing values filled:\")\n",
        "print(df)"
      ],
      "metadata": {
        "colab": {
          "base_uri": "https://localhost:8080/"
        },
        "id": "3AbV45JLXoLh",
        "outputId": "243d187b-c896-46f3-bc58-69a0e5afa92c"
      },
      "execution_count": 8,
      "outputs": [
        {
          "output_type": "stream",
          "name": "stdout",
          "text": [
            "\n",
            "DataFrame with 'Attendance' column and missing values filled:\n",
            "      Name  Age  Score  Passed  Attendance\n",
            "0    Alice   24   85.5    True   90.000000\n",
            "1      Bob   27   90.3    True   87.333333\n",
            "2  Charlie   22   88.0    True   85.000000\n",
            "3    David   32   92.1    True   87.000000\n",
            "4      Eve   29   78.8   False   87.333333\n"
          ]
        }
      ]
    },
    {
      "cell_type": "code",
      "source": [
        "#NumPy"
      ],
      "metadata": {
        "id": "HfM_5Y87XwbX"
      },
      "execution_count": null,
      "outputs": []
    },
    {
      "cell_type": "code",
      "source": [
        "#Array Creation\n",
        "#Answer9\n",
        "import numpy as np\n",
        "array = np.arange(10, 20)\n",
        "print(\"Array with values ranging from 10 to 19:\")\n",
        "print(array)"
      ],
      "metadata": {
        "colab": {
          "base_uri": "https://localhost:8080/"
        },
        "id": "HqzV83KmYCwt",
        "outputId": "77c287d0-2260-4913-90c8-c158be8487f6"
      },
      "execution_count": 9,
      "outputs": [
        {
          "output_type": "stream",
          "name": "stdout",
          "text": [
            "Array with values ranging from 10 to 19:\n",
            "[10 11 12 13 14 15 16 17 18 19]\n"
          ]
        }
      ]
    },
    {
      "cell_type": "code",
      "source": [
        "#Array Reshape\n",
        "#Answer10\n",
        "reshaped_array = array.reshape(2, 5)\n",
        "print(\"\\nReshaped array into a 2x5 matrix:\")\n",
        "print(reshaped_array)"
      ],
      "metadata": {
        "colab": {
          "base_uri": "https://localhost:8080/"
        },
        "id": "ekRLk5YgYNd_",
        "outputId": "722c1681-17ff-46b0-9fcd-3887eacb6b07"
      },
      "execution_count": 10,
      "outputs": [
        {
          "output_type": "stream",
          "name": "stdout",
          "text": [
            "\n",
            "Reshaped array into a 2x5 matrix:\n",
            "[[10 11 12 13 14]\n",
            " [15 16 17 18 19]]\n"
          ]
        }
      ]
    },
    {
      "cell_type": "code",
      "source": [
        "#Array Operations\n",
        "#Answer11\n",
        "\n",
        "array1 = np.array([1, 2, 3])\n",
        "array2 = np.array([4, 5, 6])\n",
        "\n",
        "addition_result = array1 + array2\n",
        "print(\"\\nElement-wise addition result:\")\n",
        "print(addition_result)\n",
        "\n",
        "multiplication_result = array1 * array2\n",
        "print(\"\\nElement-wise multiplication result:\")\n",
        "print(multiplication_result)"
      ],
      "metadata": {
        "colab": {
          "base_uri": "https://localhost:8080/"
        },
        "id": "275TMpBSYPjv",
        "outputId": "4794866d-01ca-4034-bcce-87f867532f36"
      },
      "execution_count": 11,
      "outputs": [
        {
          "output_type": "stream",
          "name": "stdout",
          "text": [
            "\n",
            "Element-wise addition result:\n",
            "[5 7 9]\n",
            "\n",
            "Element-wise multiplication result:\n",
            "[ 4 10 18]\n"
          ]
        }
      ]
    },
    {
      "cell_type": "code",
      "source": [
        "#Array Indexing\n",
        "#Answer12\n",
        "import numpy as np\n",
        "\n",
        "array = np.array([10, 20, 30, 40, 50])\n",
        "\n",
        "selected_elements = array[[1, 3]]\n",
        "print(\"Second and fourth elements:\", selected_elements)"
      ],
      "metadata": {
        "colab": {
          "base_uri": "https://localhost:8080/"
        },
        "id": "gxnk7EFUYR9l",
        "outputId": "09d719e7-61ef-4eea-e7f6-5b2c8addd9a5"
      },
      "execution_count": 12,
      "outputs": [
        {
          "output_type": "stream",
          "name": "stdout",
          "text": [
            "Second and fourth elements: [20 40]\n"
          ]
        }
      ]
    },
    {
      "cell_type": "code",
      "source": [
        "#Array Slicing\n",
        "#Answer13\n",
        "array = np.array([1, 2, 3, 4, 5, 6])\n",
        "\n",
        "sliced_array = array[1:4]\n",
        "print(\"Sliced array:\", sliced_array)"
      ],
      "metadata": {
        "colab": {
          "base_uri": "https://localhost:8080/"
        },
        "id": "I7uGxUJ8YUPj",
        "outputId": "c588aa5c-d2c0-4dd6-82a2-637f5a6d5863"
      },
      "execution_count": 13,
      "outputs": [
        {
          "output_type": "stream",
          "name": "stdout",
          "text": [
            "Sliced array: [2 3 4]\n"
          ]
        }
      ]
    },
    {
      "cell_type": "code",
      "source": [
        "#Statistical Functions\n",
        "#Answer14\n",
        "array = np.array([10, 20, 30, 40, 50])\n",
        "\n",
        "mean_value = np.mean(array)\n",
        "\n",
        "std_deviation = np.std(array)\n",
        "\n",
        "print(\"Mean:\", mean_value)\n",
        "print(\"Standard Deviation:\", std_deviation)"
      ],
      "metadata": {
        "colab": {
          "base_uri": "https://localhost:8080/"
        },
        "id": "wXltPpD8YWmf",
        "outputId": "608d8307-374f-42ce-af06-c4cc156bec9e"
      },
      "execution_count": 14,
      "outputs": [
        {
          "output_type": "stream",
          "name": "stdout",
          "text": [
            "Mean: 30.0\n",
            "Standard Deviation: 14.142135623730951\n"
          ]
        }
      ]
    },
    {
      "cell_type": "code",
      "source": [
        "#Broadcasting\n",
        "#Answer15\n",
        "matrix = np.array([[1, 2, 3], [4, 5, 6]])\n",
        "\n",
        "vector = np.array([10, 20, 30])\n",
        "\n",
        "broadcasted_sum = matrix + vector\n",
        "\n",
        "print(\"Matrix:\\n\", matrix)\n",
        "print(\"Vector:\\n\", vector)\n",
        "print(\"Broadcasted sum:\\n\", broadcasted_sum)"
      ],
      "metadata": {
        "colab": {
          "base_uri": "https://localhost:8080/"
        },
        "id": "ul5CrH-uYZvV",
        "outputId": "a911e4d7-2ac1-4346-9ef4-ffe0ef67de7c"
      },
      "execution_count": 15,
      "outputs": [
        {
          "output_type": "stream",
          "name": "stdout",
          "text": [
            "Matrix:\n",
            " [[1 2 3]\n",
            " [4 5 6]]\n",
            "Vector:\n",
            " [10 20 30]\n",
            "Broadcasted sum:\n",
            " [[11 22 33]\n",
            " [14 25 36]]\n"
          ]
        }
      ]
    },
    {
      "cell_type": "code",
      "source": [
        "#Matrix Operations\n",
        "#Answer16\n",
        "identity_matrix = np.eye(3)\n",
        "print(\"3x3 Identity Matrix:\\n\", identity_matrix)"
      ],
      "metadata": {
        "colab": {
          "base_uri": "https://localhost:8080/"
        },
        "id": "1OIr-8zJYb8_",
        "outputId": "b5dc68c5-3d9b-43de-f3ba-ec69f27de357"
      },
      "execution_count": 32,
      "outputs": [
        {
          "output_type": "stream",
          "name": "stdout",
          "text": [
            "3x3 Identity Matrix:\n",
            " [[1. 0. 0.]\n",
            " [0. 1. 0.]\n",
            " [0. 0. 1.]]\n"
          ]
        }
      ]
    },
    {
      "cell_type": "code",
      "source": [
        "#Data Visualization\n",
        "#Matplotlib\n",
        "#Seaborn"
      ],
      "metadata": {
        "id": "8j3_PnmKZJ5D"
      },
      "execution_count": null,
      "outputs": []
    },
    {
      "cell_type": "code",
      "source": [
        "#Creating Box Plot\n",
        "#Answer17\n",
        "import seaborn as sns\n",
        "import matplotlib.pyplot as plt\n",
        "\n",
        "data = [12, 15, 14, 10, 8, 11, 14, 18, 22, 24, 30, 28, 26, 30, 32, 35, 38]\n",
        "\n",
        "sns.boxplot(data=data)\n",
        "\n",
        "plt.title('Box Plot of the Given Data')\n",
        "plt.xlabel('Data')\n",
        "\n",
        "plt.show()\n"
      ],
      "metadata": {
        "colab": {
          "base_uri": "https://localhost:8080/",
          "height": 458
        },
        "id": "omzdULmhZTzS",
        "outputId": "428d2010-9fe5-420e-d9f7-063eb0ebc146"
      },
      "execution_count": 17,
      "outputs": [
        {
          "output_type": "display_data",
          "data": {
            "text/plain": [
              "<Figure size 640x480 with 1 Axes>"
            ],
            "image/png": "[encoded data removed]"
          },
          "metadata": {}
        }
      ]
    },
    {
      "cell_type": "code",
      "source": [
        "#Creating Histogram\n",
        "#Answer18\n",
        "import matplotlib.pyplot as plt\n",
        "\n",
        "data = [12, 15, 14, 10, 8, 11, 14, 18, 22, 24, 30, 28, 26, 30, 32, 35, 38]\n",
        "\n",
        "plt.hist(data, bins=8, edgecolor='black', alpha=0.7)\n",
        "\n",
        "plt.title('Histogram of the Given Data')\n",
        "plt.xlabel('Value')\n",
        "plt.ylabel('Frequency')\n",
        "\n",
        "plt.show()\n"
      ],
      "metadata": {
        "colab": {
          "base_uri": "https://localhost:8080/",
          "height": 472
        },
        "id": "0k_IH3qtZZLr",
        "outputId": "3520b001-e4dd-490e-ea79-5e1227dbb283"
      },
      "execution_count": 18,
      "outputs": [
        {
          "output_type": "display_data",
          "data": {
            "text/plain": [
              "<Figure size 640x480 with 1 Axes>"
            ],
            "image/png": "[encoded data removed]"
          },
          "metadata": {}
        }
      ]
    },
    {
      "cell_type": "code",
      "source": [
        "#Creating Bar Plot\n",
        "#Answer19\n",
        "import seaborn as sns\n",
        "import matplotlib.pyplot as plt\n",
        "import pandas as pd\n",
        "\n",
        "data = {\n",
        "    'Name': ['Alice', 'Bob', 'Charlie', 'David', 'Eve'],\n",
        "    'Age': [24, 27, 22, 32, 29],\n",
        "    'Score': [85.5, 90.3, 88.0, 92.1, 78.8]\n",
        "}\n",
        "df = pd.DataFrame(data)\n",
        "\n",
        "plt.figure(figsize=(8, 6))\n",
        "sns.barplot(x='Name', y='Score', data=df)\n",
        "\n",
        "plt.title('Score of Each Individual')\n",
        "plt.xlabel('Name')\n",
        "plt.ylabel('Score')\n",
        "\n",
        "plt.show()"
      ],
      "metadata": {
        "colab": {
          "base_uri": "https://localhost:8080/",
          "height": 564
        },
        "id": "yJhNqw6bZcEm",
        "outputId": "aa2a6d76-d555-46b4-c41d-d114af49f735"
      },
      "execution_count": 20,
      "outputs": [
        {
          "output_type": "display_data",
          "data": {
            "text/plain": [
              "<Figure size 800x600 with 1 Axes>"
            ],
            "image/png": "[encoded data removed]"
          },
          "metadata": {}
        }
      ]
    },
    {
      "cell_type": "code",
      "source": [
        "#Creating Pie Plot\n",
        "#Answer20\n",
        "import matplotlib.pyplot as plt\n",
        "\n",
        "labels = ['Apples', 'Bananas', 'Cherries', 'Dates']\n",
        "sizes = [10, 15, 7, 3]\n",
        "\n",
        "plt.figure(figsize=(8, 8))\n",
        "plt.pie(sizes, labels=labels,rotatelabels=True,explode=[0,0,0.1,0])\n",
        "\n",
        "plt.title('Distribution of Fruits')\n",
        "\n",
        "plt.show()"
      ],
      "metadata": {
        "colab": {
          "base_uri": "https://localhost:8080/",
          "height": 697
        },
        "id": "ja0fPLfuZgtd",
        "outputId": "d2d039f8-7e38-4464-9537-1d33558b3b93"
      },
      "execution_count": 22,
      "outputs": [
        {
          "output_type": "display_data",
          "data": {
            "text/plain": [
              "<Figure size 800x800 with 1 Axes>"
            ],
            "image/png": "[encoded data removed]"
          },
          "metadata": {}
        }
      ]
    },
    {
      "cell_type": "code",
      "source": [],
      "metadata": {
        "id": "KhShWXjHZjJ9"
      },
      "execution_count": null,
      "outputs": []
    }
  ]
}