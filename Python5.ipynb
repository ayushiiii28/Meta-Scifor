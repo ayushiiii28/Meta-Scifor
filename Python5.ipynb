{
  "nbformat": 4,
  "nbformat_minor": 0,
  "metadata": {
    "colab": {
      "provenance": [],
      "authorship_tag": "ABX9TyPiX1mQjo6B962hw+TQt/Tr",
      "include_colab_link": true
    },
    "kernelspec": {
      "name": "python3",
      "display_name": "Python 3"
    },
    "language_info": {
      "name": "python"
    }
  },
  "cells": [
    {
      "cell_type": "markdown",
      "metadata": {
        "id": "view-in-github",
        "colab_type": "text"
      },
      "source": [
        "<a href=\"https://colab.research.google.com/github/ayushiiii28/Meta-Scifor/blob/main/Python5.ipynb\" target=\"_parent\"><img src=\"https://colab.research.google.com/assets/colab-badge.svg\" alt=\"Open In Colab\"/></a>"
      ]
    },
    {
      "cell_type": "code",
      "execution_count": 1,
      "metadata": {
        "id": "YCutQFZZQ5YO"
      },
      "outputs": [],
      "source": [
        "# Global varibale means which variable we can use outside the fucntion as well as inside the fucntion.\n",
        "extra_marks=10   #Its an global variable\n",
        "#local varibale means which varible we can only use inside the fucntion.\n",
        "def total_marks():\n",
        "    some_marks=50   #its a local variable, and its not work outside the fucntion\n",
        "    print(\"printing inside the fucntion and the total is \",50+some_marks+total_marks)\n"
      ]
    },
    {
      "cell_type": "code",
      "source": [
        "def local_global():\n",
        "    global var12    #see that . what we can do fo var12. (\"there is a coversion\")\n",
        "    var12=\"This is fantastic\"\n",
        "    print(var12)"
      ],
      "metadata": {
        "id": "yQFvne0wRXh3"
      },
      "execution_count": 2,
      "outputs": []
    },
    {
      "cell_type": "code",
      "source": [
        "#Input() function\n",
        "print(\"Enter your name\")\n",
        "name=input()\n",
        "print(\"Hello\",name)"
      ],
      "metadata": {
        "colab": {
          "base_uri": "https://localhost:8080/"
        },
        "id": "hyNXMo25Rciv",
        "outputId": "79d23245-8335-448c-dba0-4b29262dfe82"
      },
      "execution_count": 4,
      "outputs": [
        {
          "output_type": "stream",
          "name": "stdout",
          "text": [
            "Enter your name\n",
            "Ayushi\n",
            "Hello Ayushi\n"
          ]
        }
      ]
    },
    {
      "cell_type": "code",
      "source": [
        "#How to check only letters\n",
        "name=input(\"Enter Your name \")\n",
        "if name.isalpha():\n",
        "    print(\"You Entered \",name)\n",
        "else:\n",
        "    print(\"Look like You Did not enter alpha charater\")"
      ],
      "metadata": {
        "colab": {
          "base_uri": "https://localhost:8080/"
        },
        "id": "GybrZddlRo_h",
        "outputId": "dbe31cb4-1e7c-484c-f040-26664ecdabbb"
      },
      "execution_count": 5,
      "outputs": [
        {
          "output_type": "stream",
          "name": "stdout",
          "text": [
            "Enter Your name Ayushi\n",
            "You Entered  Ayushi\n"
          ]
        }
      ]
    },
    {
      "cell_type": "code",
      "source": [
        "#When an error occurs, or exception as we call it, Python will normally stop and generate an error message.\n",
        "\n",
        "#The try block lets you test a block of code for errors.\n",
        "\n",
        "#The except block lets you handle the error.\n",
        "\n",
        "#The else block lets you execute code when there is no error.\n",
        "\n",
        "#The finally block lets you execute code, regardless of the result of the try- and except block"
      ],
      "metadata": {
        "id": "r3FLbeDLR9mS"
      },
      "execution_count": null,
      "outputs": []
    },
    {
      "cell_type": "code",
      "source": [
        "try:\n",
        "  print(x)\n",
        "except:\n",
        "  print(\"An exception occurred\")"
      ],
      "metadata": {
        "colab": {
          "base_uri": "https://localhost:8080/"
        },
        "id": "U6r_3x4tSNDr",
        "outputId": "784636ee-b87b-4ed4-d617-8f1d38878780"
      },
      "execution_count": 6,
      "outputs": [
        {
          "output_type": "stream",
          "name": "stdout",
          "text": [
            "An exception occurred\n"
          ]
        }
      ]
    },
    {
      "cell_type": "code",
      "source": [
        "marks_1=50\n",
        "subject=\"AIML\"\n",
        "marks_2=75"
      ],
      "metadata": {
        "id": "eWh2NCmDSS97"
      },
      "execution_count": null,
      "outputs": []
    },
    {
      "cell_type": "code",
      "source": [
        "try:\n",
        "    total= marks_1 + subject\n",
        "except:\n",
        "    print(\"You are only add integer + integer ,not with integer + string\")\n",
        "else:\n",
        "    (total)\n",
        ""
      ],
      "metadata": {
        "colab": {
          "base_uri": "https://localhost:8080/"
        },
        "id": "VXKJOqsWSfOT",
        "outputId": "1de76728-d3ac-44d8-de74-4936cd97afe7"
      },
      "execution_count": 7,
      "outputs": [
        {
          "output_type": "stream",
          "name": "stdout",
          "text": [
            "You are only add integer + integer ,not with integer + string\n"
          ]
        }
      ]
    },
    {
      "cell_type": "code",
      "source": [
        "try:\n",
        "    total=marks_1 + marks_2\n",
        "except:\n",
        "    print(\"plese dont add integer with string\")\n",
        "else:\n",
        "    print(\"Your Total marks is \\n\\t\\t\",total)"
      ],
      "metadata": {
        "colab": {
          "base_uri": "https://localhost:8080/"
        },
        "id": "97o2kq1LSiN2",
        "outputId": "89bcdd8d-478c-4e12-e2dc-1e69cdd5547c"
      },
      "execution_count": 8,
      "outputs": [
        {
          "output_type": "stream",
          "name": "stdout",
          "text": [
            "plese dont add integer with string\n"
          ]
        }
      ]
    },
    {
      "cell_type": "code",
      "source": [
        "#example of exception handling\n",
        "try:\n",
        "    car_number=input(\"Enter Your Car number \")\n",
        "    name=input(\"Enter Your Name\")\n",
        "    mobile_number=input(\"Enter Your Number  \")\n",
        "    if car_number ==\" \":\n",
        "        raise Exception()\n",
        "    elif name ==\" \":\n",
        "        raise Exception()\n",
        "    elif mobie_number ==\" \":\n",
        "        raise Exception()\n",
        "    else:\n",
        "        pass\n",
        "except:\n",
        "    if car_number ==\" \":\n",
        "        print(\"\\n The Registration Field Required\")\n",
        "    if name ==\" \":\n",
        "        print(\"\\n The Name Field is required\")\n",
        "    if mobile_number ==\" \":\n",
        "        print(\"\\n The Mobile Number Field is required\")\n",
        "\n",
        "finally:\n",
        "    print(\"Thanks for registration\")"
      ],
      "metadata": {
        "colab": {
          "base_uri": "https://localhost:8080/"
        },
        "id": "6pzGGsB4SsfC",
        "outputId": "28c0a57f-0e41-4bb6-8676-649751bf637c"
      },
      "execution_count": 9,
      "outputs": [
        {
          "output_type": "stream",
          "name": "stdout",
          "text": [
            "Enter Your Car number Ford\n",
            "Enter Your NameAyushi\n",
            "Enter Your Number  1234674673\n",
            "Thanks for registration\n"
          ]
        }
      ]
    }
  ]
}