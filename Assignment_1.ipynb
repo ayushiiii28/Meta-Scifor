{
  "nbformat": 4,
  "nbformat_minor": 0,
  "metadata": {
    "colab": {
      "provenance": [],
      "toc_visible": true,
      "authorship_tag": "ABX9TyNxIwXDLzLm2RwN2Qv37P6O",
      "include_colab_link": true
    },
    "kernelspec": {
      "name": "python3",
      "display_name": "Python 3"
    },
    "language_info": {
      "name": "python"
    }
  },
  "cells": [
    {
      "cell_type": "markdown",
      "metadata": {
        "id": "view-in-github",
        "colab_type": "text"
      },
      "source": [
        "<a href=\"https://colab.research.google.com/github/ayushiiii28/Meta-Scifor/blob/main/Assignment_1.ipynb\" target=\"_parent\"><img src=\"https://colab.research.google.com/assets/colab-badge.svg\" alt=\"Open In Colab\"/></a>"
      ]
    },
    {
      "cell_type": "code",
      "execution_count": 1,
      "metadata": {
        "colab": {
          "base_uri": "https://localhost:8080/"
        },
        "id": "FPosxaQGB7H6",
        "outputId": "4b356e91-e9ab-4cce-9dd2-38696b18aef7"
      },
      "outputs": [
        {
          "output_type": "stream",
          "name": "stdout",
          "text": [
            "Hello World!\n"
          ]
        }
      ],
      "source": [
        "#Write a python program to print \"Hello World!\"\n",
        "print(\"Hello World!\")"
      ]
    },
    {
      "cell_type": "code",
      "source": [
        "#Write a Python program to add two numbers.\n",
        "def sum(num1, num2):\n",
        "  return num1 + num2\n",
        "num1 = int(input(\"Enter number :\"))\n",
        "num2 = int(input(\"Enter number :\"))\n",
        "total = sum(num1,num2)\n",
        "print(total)"
      ],
      "metadata": {
        "colab": {
          "base_uri": "https://localhost:8080/"
        },
        "id": "Sj00oYWiCIPn",
        "outputId": "1a9cab6e-905e-4b06-ec4d-5ff494302fdf"
      },
      "execution_count": 7,
      "outputs": [
        {
          "output_type": "stream",
          "name": "stdout",
          "text": [
            "Enter number :5\n",
            "Enter number :3\n",
            "8\n"
          ]
        }
      ]
    },
    {
      "cell_type": "code",
      "source": [
        "#Write a Python program to find the square root of a number\n",
        "def root(num1):\n",
        "  return num1*num1\n",
        "num = int(input(\"Enter number: \"))\n",
        "square_root = root(num)\n",
        "print(f\"Square root of this number is: {square_root}\")"
      ],
      "metadata": {
        "colab": {
          "base_uri": "https://localhost:8080/"
        },
        "id": "tMw2YL3JDhv-",
        "outputId": "1b8945f4-d2b6-454a-ef7d-86a0d6d7e66a"
      },
      "execution_count": 9,
      "outputs": [
        {
          "output_type": "stream",
          "name": "stdout",
          "text": [
            "Enter number: 4\n",
            "Square root of this number is: 16\n"
          ]
        }
      ]
    },
    {
      "cell_type": "code",
      "source": [
        "#Write a Python program to calculate the area of a triangle\n",
        "def area(b,h):\n",
        "  return 0.5*b*h\n",
        "b = float(input(\"Enter Base of triangle: \"))\n",
        "h = float(input(\"Enter Height of triangle: \"))\n",
        "total_area = area(b,h)\n",
        "print(f\"Total area of triangle with given parameters is : {total_area}\")"
      ],
      "metadata": {
        "colab": {
          "base_uri": "https://localhost:8080/"
        },
        "id": "_PNJqhfKEZyf",
        "outputId": "01319eff-98c8-4d4c-d73d-b29cc1501b91"
      },
      "execution_count": 10,
      "outputs": [
        {
          "output_type": "stream",
          "name": "stdout",
          "text": [
            "Enter Base of triangle: 10\n",
            "Enter Height of triangle: 20\n",
            "Total are of triangle with given parameters is : 100.0\n"
          ]
        }
      ]
    },
    {
      "cell_type": "code",
      "source": [
        "#Write a Python program to swap two variables.\n",
        "def swap(a,b):\n",
        "  return b,a\n",
        "a = input(\"Enter a variable: \")\n",
        "b = input(\"Enter a vairable: \")\n",
        "swapped = swap(a,b)\n",
        "print(f\"Before Swapping: {a},{b}\")\n",
        "print(f\"Swapped Variable are: {swapped}\")"
      ],
      "metadata": {
        "colab": {
          "base_uri": "https://localhost:8080/"
        },
        "id": "bDkJDwl8FcWQ",
        "outputId": "1c2d33b1-5ac6-4a88-e72f-dc2da181e4fa"
      },
      "execution_count": 12,
      "outputs": [
        {
          "output_type": "stream",
          "name": "stdout",
          "text": [
            "Enter a variable: r\n",
            "Enter a vairable: b\n",
            "Before Swapping: r,b\n",
            "Swapped Variable are: ('b', 'r')\n"
          ]
        }
      ]
    },
    {
      "cell_type": "code",
      "source": [
        "#Write a Python program to generate a random number.\n",
        "import random\n",
        "random_number = random.randint(1, 100)\n",
        "print(\"Generated random number:\", random_number)"
      ],
      "metadata": {
        "colab": {
          "base_uri": "https://localhost:8080/"
        },
        "id": "XB5rFOgXGOwl",
        "outputId": "bf849818-3849-4354-ba88-ea303de46bab"
      },
      "execution_count": 15,
      "outputs": [
        {
          "output_type": "stream",
          "name": "stdout",
          "text": [
            "Generated random number: 2\n"
          ]
        }
      ]
    },
    {
      "cell_type": "code",
      "source": [
        "#Write a Python program to convert kilometers to miles.\n",
        "def convert(km):\n",
        "  return km* 0.62137119\n",
        "km = int(input(\"Enter Kilometer : \"))\n",
        "converted = convert(km)\n",
        "print(f\"Conversion of Kilometer to Miles : {converted}\")"
      ],
      "metadata": {
        "colab": {
          "base_uri": "https://localhost:8080/"
        },
        "id": "PKpqe3L9Gkhk",
        "outputId": "ad54c5e9-5beb-4531-904a-b6055fd4f561"
      },
      "execution_count": 18,
      "outputs": [
        {
          "output_type": "stream",
          "name": "stdout",
          "text": [
            "Enter Kilometer : 6\n",
            "Conversion of Kilometer to Miles : 3.7282271399999996\n"
          ]
        }
      ]
    },
    {
      "cell_type": "code",
      "source": [
        "#Write a Python program to check if a number is positive, negative or zero\n",
        "def check(num):\n",
        "  if num == 0:\n",
        "    print(\"Number entered is Zero.\")\n",
        "  elif num > 0:\n",
        "    print(\"Number entered is Positive.\")\n",
        "  else:\n",
        "    print(\"Number entered is Negative.\")\n",
        "num = float(input(\"Enter a number: \"))\n",
        "checking = check(num)\n",
        "\n"
      ],
      "metadata": {
        "colab": {
          "base_uri": "https://localhost:8080/"
        },
        "id": "t6d4vt54HBsk",
        "outputId": "86547486-ad3f-4557-d0f6-ebd198c3c49c"
      },
      "execution_count": 21,
      "outputs": [
        {
          "output_type": "stream",
          "name": "stdout",
          "text": [
            "Enter a number: 5\n",
            "Number entered is Positive.\n"
          ]
        }
      ]
    },
    {
      "cell_type": "code",
      "source": [
        "#Write a Python program to check if a number is odd or even.\n",
        "def check(num):\n",
        "  if num%2 == 0:\n",
        "    print(\"Number is even.\")\n",
        "  else:\n",
        "    print(\"Number is odd.\")\n",
        "num = float(input(\"Enter a number: \"))\n",
        "checking = check(num)\n"
      ],
      "metadata": {
        "colab": {
          "base_uri": "https://localhost:8080/"
        },
        "id": "go1UKryuI3bQ",
        "outputId": "8860074a-2f2c-4b7d-ca1b-eec9b7f0595a"
      },
      "execution_count": 23,
      "outputs": [
        {
          "output_type": "stream",
          "name": "stdout",
          "text": [
            "Enter a number: 5\n",
            "Number is odd.\n"
          ]
        }
      ]
    },
    {
      "cell_type": "code",
      "source": [
        "#Write a Python program to check if a year is a leap year\n",
        "def leap(year):\n",
        "  if year%4 == 0:\n",
        "    print(\"It is a Leap year.\")\n",
        "  else:\n",
        "    print(\"It is not a Leap year.\")\n",
        "year= int(input(\"Enter a year: \"))\n",
        "calculated = leap(year)\n"
      ],
      "metadata": {
        "colab": {
          "base_uri": "https://localhost:8080/"
        },
        "id": "u11Dumy_JjLW",
        "outputId": "b65aaedb-b5e0-4c57-9b1f-36deae2ba517"
      },
      "execution_count": 25,
      "outputs": [
        {
          "output_type": "stream",
          "name": "stdout",
          "text": [
            "Enter a year: 2003\n",
            "It is not a Leap year.\n"
          ]
        }
      ]
    },
    {
      "cell_type": "code",
      "source": [
        "#Write a Python program to find the largest of three numbers.\n",
        "num1 = float(input(\"Enter number: \"))\n",
        "num2 = float(input(\"Enter number: \"))\n",
        "num3 = float(input(\"Enter number: \"))\n",
        "largest_num = max(num1,num2,num3)\n",
        "print(f\"Laregst number Out of given numbers is : {largest_num}\")"
      ],
      "metadata": {
        "colab": {
          "base_uri": "https://localhost:8080/"
        },
        "id": "1MnsNmxPKl8N",
        "outputId": "e229d5ef-069b-4f25-975f-89878d61771e"
      },
      "execution_count": 26,
      "outputs": [
        {
          "output_type": "stream",
          "name": "stdout",
          "text": [
            "Enter number: 2\n",
            "Enter number: 3\n",
            "Enter number: 6\n",
            "Laregst number Out of given numbers is : 6.0\n"
          ]
        }
      ]
    },
    {
      "cell_type": "code",
      "source": [
        "#Write a Python program to find the factorial of a number.\n",
        "def fact(num):\n",
        "  if num ==0 or num == 1:\n",
        "    return 1\n",
        "  else:\n",
        "    return num*fact(num-1)\n",
        "num = int(input(\"Enter a number: \"))\n",
        "total = fact(num)\n",
        "print(f\"Factorial of number is : {total}\")"
      ],
      "metadata": {
        "colab": {
          "base_uri": "https://localhost:8080/"
        },
        "id": "0FsAoIAiL484",
        "outputId": "a5289713-2f14-472c-8a2f-a6dede52319f"
      },
      "execution_count": 30,
      "outputs": [
        {
          "output_type": "stream",
          "name": "stdout",
          "text": [
            "Enter a number: 5\n",
            "Factorial of number is : 120\n"
          ]
        }
      ]
    },
    {
      "cell_type": "code",
      "source": [
        "#Write a Python program to display the multiplication table.\n",
        "num = int(input(\"Enter number for multiplication table: \"))\n",
        "for i in range(1,11):\n",
        "  print(f\"{num} X {i} = {num*i}\")"
      ],
      "metadata": {
        "colab": {
          "base_uri": "https://localhost:8080/"
        },
        "id": "tD1fGwe1Ndmg",
        "outputId": "932eb9c0-fcd2-4281-9a63-3b5069f79659"
      },
      "execution_count": 31,
      "outputs": [
        {
          "output_type": "stream",
          "name": "stdout",
          "text": [
            "Enter number for multiplication table: 2\n",
            "2 X 1 = 2\n",
            "2 X 2 = 4\n",
            "2 X 3 = 6\n",
            "2 X 4 = 8\n",
            "2 X 5 = 10\n",
            "2 X 6 = 12\n",
            "2 X 7 = 14\n",
            "2 X 8 = 16\n",
            "2 X 9 = 18\n",
            "2 X 10 = 20\n"
          ]
        }
      ]
    },
    {
      "cell_type": "code",
      "source": [
        "# Write a Python program to print the Fibonacci sequence\n",
        "def fibonacci_sequence(n):\n",
        "\n",
        "    fib_sequence = [0, 1]\n",
        "\n",
        "\n",
        "    for i in range(2, n):\n",
        "        next_term = fib_sequence[-1] + fib_sequence[-2]\n",
        "        fib_sequence.append(next_term)\n",
        "\n",
        "    return fib_sequence\n",
        "\n",
        "\n",
        "num_terms = int(input(\"Enter the number of terms in Fibonacci sequence: \"))\n",
        "\n",
        "\n",
        "fib_sequence = fibonacci_sequence(num_terms)\n",
        "print(\"Fibonacci sequence:\")\n",
        "for num in fib_sequence:\n",
        "    print(num, end=\" \")"
      ],
      "metadata": {
        "colab": {
          "base_uri": "https://localhost:8080/"
        },
        "id": "9I_QiH-cOMtc",
        "outputId": "efaf5b12-6c9a-4cbd-a6f4-b36053f68c26"
      },
      "execution_count": 35,
      "outputs": [
        {
          "output_type": "stream",
          "name": "stdout",
          "text": [
            "Enter the number of terms in Fibonacci sequence: 1\n",
            "Fibonacci sequence:\n",
            "0 1 "
          ]
        }
      ]
    },
    {
      "cell_type": "code",
      "source": [
        "#Write a Python program to check if a number is an Armstrong number\n",
        "def is_armstrong_number(num):\n",
        "\n",
        "    num_str = str(num)\n",
        "\n",
        "    num_digits = len(num_str)\n",
        "\n",
        "    sum_of_powers = 0\n",
        "\n",
        "\n",
        "    for digit in num_str:\n",
        "        sum_of_powers += int(digit) ** num_digits\n",
        "\n",
        "\n",
        "    return num == sum_of_powers\n",
        "\n",
        "number = int(input(\"Enter a number to check if it's an Armstrong number: \"))\n",
        "\n",
        "\n",
        "if is_armstrong_number(number):\n",
        "    print(f\"{number} is an Armstrong number.\")\n",
        "else:\n",
        "    print(f\"{number} is not an Armstrong number.\")"
      ],
      "metadata": {
        "colab": {
          "base_uri": "https://localhost:8080/"
        },
        "id": "0wXY6C8tOfvX",
        "outputId": "cb195c45-49e6-4516-b974-0f7b14530226"
      },
      "execution_count": 41,
      "outputs": [
        {
          "output_type": "stream",
          "name": "stdout",
          "text": [
            "Enter a number to check if it's an Armstrong number: 153\n",
            "153 is an Armstrong number.\n"
          ]
        }
      ]
    },
    {
      "cell_type": "code",
      "source": [
        "#Write a Python program to find the sum of natural numbers\n",
        "def sum_of_natural_numbers(n):\n",
        "    sum = 0\n",
        "    for i in range(1, n + 1):\n",
        "        sum += i\n",
        "    return sum\n",
        "\n",
        "# Input from the user\n",
        "num = int(input(\"Enter a positive integer: \"))\n",
        "\n",
        "# Calculate and print the sum of natural numbers up to num\n",
        "result = sum_of_natural_numbers(num)\n",
        "print(f\"The sum of natural numbers up to {num} is: {result}\")"
      ],
      "metadata": {
        "colab": {
          "base_uri": "https://localhost:8080/"
        },
        "id": "HGekvhSJRfTK",
        "outputId": "6b251630-bb6e-4c31-b3a7-c3bc48a9d9e6"
      },
      "execution_count": 42,
      "outputs": [
        {
          "output_type": "stream",
          "name": "stdout",
          "text": [
            "Enter a positive integer: 2\n",
            "The sum of natural numbers up to 2 is: 3\n"
          ]
        }
      ]
    },
    {
      "cell_type": "code",
      "source": [
        "#Write a Python program to find the sum of digits of a number.\n",
        "def sum_of_digits(num):\n",
        "    sum = 0\n",
        "    while num > 0:\n",
        "        digit = num % 10\n",
        "        sum += digit\n",
        "        num //= 10\n",
        "    return sum\n",
        "\n",
        "# Input from the user\n",
        "number = int(input(\"Enter a number to find the sum of its digits: \"))\n",
        "\n",
        "# Calculate and print the sum of digits\n",
        "result = sum_of_digits(number)\n",
        "print(f\"The sum of digits of {number} is: {result}\")\n"
      ],
      "metadata": {
        "colab": {
          "base_uri": "https://localhost:8080/"
        },
        "id": "4SnGuedOT_5j",
        "outputId": "879fe95a-c63a-44ba-ab43-68327e38cd3c"
      },
      "execution_count": 43,
      "outputs": [
        {
          "output_type": "stream",
          "name": "stdout",
          "text": [
            "Enter a number to find the sum of its digits: 28\n",
            "The sum of digits of 28 is: 10\n"
          ]
        }
      ]
    },
    {
      "cell_type": "code",
      "source": [
        "#Write a Python program to reverse a number\n",
        "def reverse_number(num):\n",
        "    reversed_num = 0\n",
        "    while num > 0:\n",
        "        remainder = num % 10\n",
        "        reversed_num = reversed_num * 10 + remainder\n",
        "        num //= 10\n",
        "    return reversed_num\n",
        "\n",
        "# Input from the user\n",
        "number = int(input(\"Enter a number to reverse: \"))\n",
        "\n",
        "# Reverse the number and print the result\n",
        "reversed_number = reverse_number(number)\n",
        "print(f\"The reversed number is: {reversed_number}\")"
      ],
      "metadata": {
        "colab": {
          "base_uri": "https://localhost:8080/"
        },
        "id": "99SDKyh0UNmc",
        "outputId": "349426ec-52d1-407d-f029-a966478a5709"
      },
      "execution_count": 44,
      "outputs": [
        {
          "output_type": "stream",
          "name": "stdout",
          "text": [
            "Enter a number to reverse: 128\n",
            "The reversed number is: 821\n"
          ]
        }
      ]
    },
    {
      "cell_type": "code",
      "source": [
        "#Write a Python program to convert decimal to binary, octal and hexadecimal\n",
        "def decimal_to_binary(decimal_num):\n",
        "    return bin(decimal_num).replace(\"0b\", \"\")\n",
        "\n",
        "def decimal_to_octal(decimal_num):\n",
        "    return oct(decimal_num).replace(\"0o\", \"\")\n",
        "\n",
        "def decimal_to_hexadecimal(decimal_num):\n",
        "    return hex(decimal_num).replace(\"0x\", \"\").upper()\n",
        "\n",
        "# Input from the user\n",
        "decimal_number = int(input(\"Enter a decimal number: \"))\n",
        "\n",
        "# Convert to binary, octal, and hexadecimal\n",
        "binary = decimal_to_binary(decimal_number)\n",
        "octal = decimal_to_octal(decimal_number)\n",
        "hexadecimal = decimal_to_hexadecimal(decimal_number)\n",
        "\n",
        "# Print the results\n",
        "print(f\"The decimal number {decimal_number} in binary is: {binary}\")\n",
        "print(f\"The decimal number {decimal_number} in octal is: {octal}\")\n",
        "print(f\"The decimal number {decimal_number} in hexadecimal is: {hexadecimal}\")"
      ],
      "metadata": {
        "colab": {
          "base_uri": "https://localhost:8080/"
        },
        "id": "mWuZsX7QUdQl",
        "outputId": "8ae73477-e276-4e60-98bd-24897d7b0294"
      },
      "execution_count": 46,
      "outputs": [
        {
          "output_type": "stream",
          "name": "stdout",
          "text": [
            "Enter a decimal number: 28\n",
            "The decimal number 28 in binary is: 11100\n",
            "The decimal number 28 in octal is: 34\n",
            "The decimal number 28 in hexadecimal is: 1C\n"
          ]
        }
      ]
    },
    {
      "cell_type": "code",
      "source": [
        "#Write a Python program to find HCF or GCD of two numbers.\n",
        "def find_gcd(a, b):\n",
        "    while b != 0:\n",
        "        a, b = b, a % b\n",
        "    return a\n",
        "\n",
        "# Input from the user\n",
        "num1 = int(input(\"Enter the first number: \"))\n",
        "num2 = int(input(\"Enter the second number: \"))\n",
        "\n",
        "# Find the GCD of num1 and num2\n",
        "gcd = find_gcd(num1, num2)\n",
        "\n",
        "# Print the GCD\n",
        "print(f\"The GCD of {num1} and {num2} is: {gcd}\")"
      ],
      "metadata": {
        "colab": {
          "base_uri": "https://localhost:8080/"
        },
        "id": "h10mec5dUt7K",
        "outputId": "35fefc35-60d2-485f-9d81-a1d9e6f40487"
      },
      "execution_count": 48,
      "outputs": [
        {
          "output_type": "stream",
          "name": "stdout",
          "text": [
            "Enter the first number: 2\n",
            "Enter the second number: 8\n",
            "The GCD of 2 and 8 is: 2\n"
          ]
        }
      ]
    },
    {
      "cell_type": "code",
      "source": [
        "#Write a Python program to find LCM of two numbers.\n",
        "def find_gcd(a, b):\n",
        "    while b != 0:\n",
        "        a, b = b, a % b\n",
        "    return a\n",
        "\n",
        "def find_lcm(a, b):\n",
        "    return abs(a * b) // find_gcd(a, b)\n",
        "\n",
        "# Input from the user\n",
        "num1 = int(input(\"Enter the first number: \"))\n",
        "num2 = int(input(\"Enter the second number: \"))\n",
        "\n",
        "# Find the LCM of num1 and num2\n",
        "lcm = find_lcm(num1, num2)\n",
        "\n",
        "# Print the LCM\n",
        "print(f\"The LCM of {num1} and {num2} is: {lcm}\")"
      ],
      "metadata": {
        "colab": {
          "base_uri": "https://localhost:8080/"
        },
        "id": "_qL-UcrGVGTs",
        "outputId": "e316e403-96b9-4a8b-9cbc-3b2078d9c5da"
      },
      "execution_count": 49,
      "outputs": [
        {
          "output_type": "stream",
          "name": "stdout",
          "text": [
            "Enter the first number: 2\n",
            "Enter the second number: 3\n",
            "The LCM of 2 and 3 is: 6\n"
          ]
        }
      ]
    },
    {
      "cell_type": "code",
      "source": [
        "#Write a Python program to count the number of each vowel in a string.\n",
        "def count_vowels(string):\n",
        "    # Convert the string to lowercase to handle both uppercase and lowercase vowels\n",
        "    string = string.lower()\n",
        "\n",
        "    # Initialize vowel counts\n",
        "    count_a = string.count('a')\n",
        "    count_e = string.count('e')\n",
        "    count_i = string.count('i')\n",
        "    count_o = string.count('o')\n",
        "    count_u = string.count('u')\n",
        "\n",
        "    # Create a dictionary to store vowel counts\n",
        "    vowel_counts = {\n",
        "        'a': count_a,\n",
        "        'e': count_e,\n",
        "        'i': count_i,\n",
        "        'o': count_o,\n",
        "        'u': count_u\n",
        "    }\n",
        "\n",
        "    return vowel_counts\n",
        "\n",
        "# Input from the user\n",
        "input_string = input(\"Enter a string to count vowels: \")\n",
        "\n",
        "# Get the vowel counts\n",
        "vowel_counts = count_vowels(input_string)\n",
        "\n",
        "# Print the results\n",
        "print(\"Vowel counts in the string:\")\n",
        "for vowel, count in vowel_counts.items():\n",
        "    print(f\"{vowel}: {count}\")\n"
      ],
      "metadata": {
        "colab": {
          "base_uri": "https://localhost:8080/"
        },
        "id": "4lTNxTxgVVZp",
        "outputId": "1a14c608-10ff-4977-ef9a-e927180c7252"
      },
      "execution_count": 53,
      "outputs": [
        {
          "output_type": "stream",
          "name": "stdout",
          "text": [
            "Enter a string to count vowels: abjkffiee9\n",
            "Vowel counts in the string:\n",
            "a: 1\n",
            "e: 2\n",
            "i: 1\n",
            "o: 0\n",
            "u: 0\n"
          ]
        }
      ]
    },
    {
      "cell_type": "code",
      "source": [],
      "metadata": {
        "id": "mc6uxerAWSFk"
      },
      "execution_count": null,
      "outputs": []
    },
    {
      "cell_type": "code",
      "source": [
        "#Write a Python program to remove punctuation from a string\n",
        "import string\n",
        "\n",
        "def remove_punctuation(input_string):\n",
        "    # Define the set of punctuation characters\n",
        "    punctuations = string.punctuation\n",
        "\n",
        "    # Initialize a translation table\n",
        "    translation_table = str.maketrans('', '', punctuations)\n",
        "\n",
        "    # Remove punctuation using the translation table\n",
        "    cleaned_string = input_string.translate(translation_table)\n",
        "\n",
        "    return cleaned_string\n",
        "\n",
        "# Input from the user\n",
        "input_string = input(\"Enter a string with punctuation: \")\n",
        "\n",
        "# Remove punctuation from the string\n",
        "cleaned_string = remove_punctuation(input_string)\n",
        "\n",
        "# Print the cleaned string\n",
        "print(f\"String without punctuation: {cleaned_string}\")"
      ],
      "metadata": {
        "colab": {
          "base_uri": "https://localhost:8080/"
        },
        "id": "-O0A3G98Vmpl",
        "outputId": "58fee22d-55e8-421f-851a-43c4cf89b916"
      },
      "execution_count": 54,
      "outputs": [
        {
          "output_type": "stream",
          "name": "stdout",
          "text": [
            "Enter a string with punctuation: ayushi\n",
            "String without punctuation: ayushi\n"
          ]
        }
      ]
    },
    {
      "cell_type": "code",
      "source": [
        "#Write a Python program to sort a list of numbers in ascending order.\n",
        "def sort_numbers_asc(numbers):\n",
        "    numbers.sort()\n",
        "    return numbers\n",
        "\n",
        "# Input from the user (list of numbers)\n",
        "numbers = input(\"Enter numbers separated by space: \").split()\n",
        "numbers = list(map(float, numbers))  # Convert input strings to floats\n",
        "\n",
        "# Sort the numbers in ascending order\n",
        "sort_numbers_asc(numbers)\n",
        "\n",
        "# Print the sorted numbers\n",
        "print(\"Sorted numbers in ascending order:\", numbers)\n"
      ],
      "metadata": {
        "colab": {
          "base_uri": "https://localhost:8080/"
        },
        "id": "FLJHvKN2VoTu",
        "outputId": "9c04a438-f7b0-4e63-9e13-3994ff5c8879"
      },
      "execution_count": 55,
      "outputs": [
        {
          "output_type": "stream",
          "name": "stdout",
          "text": [
            "Enter numbers separated by space: 1 2 3 4\n",
            "Sorted numbers in ascending order: [1.0, 2.0, 3.0, 4.0]\n"
          ]
        }
      ]
    },
    {
      "cell_type": "code",
      "source": [
        "#Write a Python program to merge two lists and sort it.\n",
        "def merge_and_sort(list1, list2):\n",
        "    merged_list = list1 + list2\n",
        "    sorted_list = sorted(merged_list)\n",
        "    return sorted_list\n",
        "\n",
        "# Input from the user (two lists of numbers)\n",
        "list1 = input(\"Enter the first list of numbers separated by space: \").split()\n",
        "list1 = list(map(float, list1))  # Convert input strings to floats\n",
        "\n",
        "list2 = input(\"Enter the second list of numbers separated by space: \").split()\n",
        "list2 = list(map(float, list2))  # Convert input strings to floats\n",
        "\n",
        "# Merge and sort the lists\n",
        "sorted_merged_list = merge_and_sort(list1, list2)\n",
        "\n",
        "# Print the sorted merged list\n",
        "print(\"Sorted merged list:\", sorted_merged_list)"
      ],
      "metadata": {
        "colab": {
          "base_uri": "https://localhost:8080/"
        },
        "id": "uVj7b4goVv7i",
        "outputId": "3719dcf7-cbdb-4aeb-ecf0-39985994810d"
      },
      "execution_count": 56,
      "outputs": [
        {
          "output_type": "stream",
          "name": "stdout",
          "text": [
            "Enter the first list of numbers separated by space: 1 3 4 7\n",
            "Enter the second list of numbers separated by space: 2 4 6 8\n",
            "Sorted merged list: [1.0, 2.0, 3.0, 4.0, 4.0, 6.0, 7.0, 8.0]\n"
          ]
        }
      ]
    }
  ]
}