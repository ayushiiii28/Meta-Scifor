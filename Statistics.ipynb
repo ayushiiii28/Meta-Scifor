{
  "nbformat": 4,
  "nbformat_minor": 0,
  "metadata": {
    "colab": {
      "provenance": [],
      "authorship_tag": "ABX9TyPWCnB74JLsThTRH+0WvrdJ",
      "include_colab_link": true
    },
    "kernelspec": {
      "name": "python3",
      "display_name": "Python 3"
    },
    "language_info": {
      "name": "python"
    }
  },
  "cells": [
    {
      "cell_type": "markdown",
      "metadata": {
        "id": "view-in-github",
        "colab_type": "text"
      },
      "source": [
        "<a href=\"https://colab.research.google.com/github/ayushiiii28/Meta-Scifor/blob/main/Statistics.ipynb\" target=\"_parent\"><img src=\"https://colab.research.google.com/assets/colab-badge.svg\" alt=\"Open In Colab\"/></a>"
      ]
    },
    {
      "cell_type": "code",
      "execution_count": null,
      "metadata": {
        "id": "y948fDG2Bv4a"
      },
      "outputs": [],
      "source": [
        "#PDF\n",
        "#Probability Density Function\n",
        "#Defines the probability function representing the density of a continuous random variable lying between a specific range of values\n"
      ]
    },
    {
      "cell_type": "code",
      "source": [
        "from numpy.random import randint as ri\n",
        "import pandas as pd\n",
        "marks=ri(20,101,1000)\n",
        "marks = pd.Series(marks)\n",
        "marks.head()"
      ],
      "metadata": {
        "colab": {
          "base_uri": "https://localhost:8080/",
          "height": 241
        },
        "id": "f-gyD-tQCMJX",
        "outputId": "e20dee99-28f3-4c2a-f997-da3b1915e8ca"
      },
      "execution_count": 2,
      "outputs": [
        {
          "output_type": "execute_result",
          "data": {
            "text/plain": [
              "0    97\n",
              "1    85\n",
              "2    34\n",
              "3    41\n",
              "4    38\n",
              "dtype: int64"
            ],
            "text/html": [
              "<table border=\"1\" class=\"dataframe\">\n",
              "  <thead>\n",
              "    <tr style=\"text-align: right;\">\n",
              "      <th></th>\n",
              "      <th>0</th>\n",
              "    </tr>\n",
              "  </thead>\n",
              "  <tbody>\n",
              "    <tr>\n",
              "      <th>0</th>\n",
              "      <td>97</td>\n",
              "    </tr>\n",
              "    <tr>\n",
              "      <th>1</th>\n",
              "      <td>85</td>\n",
              "    </tr>\n",
              "    <tr>\n",
              "      <th>2</th>\n",
              "      <td>34</td>\n",
              "    </tr>\n",
              "    <tr>\n",
              "      <th>3</th>\n",
              "      <td>41</td>\n",
              "    </tr>\n",
              "    <tr>\n",
              "      <th>4</th>\n",
              "      <td>38</td>\n",
              "    </tr>\n",
              "  </tbody>\n",
              "</table><br><label><b>dtype:</b> int64</label>"
            ]
          },
          "metadata": {},
          "execution_count": 2
        }
      ]
    },
    {
      "cell_type": "code",
      "source": [
        "marks_mean = marks.mean()\n",
        "marks_mean"
      ],
      "metadata": {
        "colab": {
          "base_uri": "https://localhost:8080/"
        },
        "id": "9B_dsQiMCfkM",
        "outputId": "6cc63cd7-4a1b-4a5c-93de-084f4df27740"
      },
      "execution_count": 3,
      "outputs": [
        {
          "output_type": "execute_result",
          "data": {
            "text/plain": [
              "61.015"
            ]
          },
          "metadata": {},
          "execution_count": 3
        }
      ]
    },
    {
      "cell_type": "code",
      "source": [
        "marks_std=marks.std()\n",
        "marks_std"
      ],
      "metadata": {
        "colab": {
          "base_uri": "https://localhost:8080/"
        },
        "id": "0OpL5oq_CtED",
        "outputId": "b84614de-2737-42b8-c96d-ef07d269b417"
      },
      "execution_count": 4,
      "outputs": [
        {
          "output_type": "execute_result",
          "data": {
            "text/plain": [
              "23.729556819857947"
            ]
          },
          "metadata": {},
          "execution_count": 4
        }
      ]
    },
    {
      "cell_type": "code",
      "source": [
        "#For PDF for a single value as example x=50\n",
        "import scipy.stats as st\n",
        "x=50\n",
        "prob = st.norm.pdf(x,loc=marks_mean,scale=marks_std)\n",
        "print(prob)"
      ],
      "metadata": {
        "colab": {
          "base_uri": "https://localhost:8080/"
        },
        "id": "UjXS_OPkCxVb",
        "outputId": "432d0359-cbea-4d23-8709-6d5507de714e"
      },
      "execution_count": 6,
      "outputs": [
        {
          "output_type": "stream",
          "name": "stdout",
          "text": [
            "0.0150949405223461\n"
          ]
        }
      ]
    },
    {
      "cell_type": "code",
      "source": [
        "#if x=70\n",
        "x=70\n",
        "prob = st.norm.cdf(x,loc=marks_mean,scale=marks_std)\n",
        "prob"
      ],
      "metadata": {
        "colab": {
          "base_uri": "https://localhost:8080/"
        },
        "id": "27a9_rmfDLwG",
        "outputId": "41296fca-8e24-4414-f7e3-74dd5bb8c77d"
      },
      "execution_count": 7,
      "outputs": [
        {
          "output_type": "execute_result",
          "data": {
            "text/plain": [
              "0.6475230282905667"
            ]
          },
          "metadata": {},
          "execution_count": 7
        }
      ]
    },
    {
      "cell_type": "code",
      "source": [
        "#Behind the scenes\n",
        "mean = 61.015\n",
        "std = 23.729556819857947"
      ],
      "metadata": {
        "id": "aBHmjG7gDecs"
      },
      "execution_count": 9,
      "outputs": []
    },
    {
      "cell_type": "code",
      "source": [
        "#First we will convert the value of Normal distribution to standard normal distribution\n",
        "x=50\n",
        "z=(x-mean)/std\n",
        "print(\"Standardized Normal Value:\",z)"
      ],
      "metadata": {
        "colab": {
          "base_uri": "https://localhost:8080/"
        },
        "id": "aYdapjusD3Su",
        "outputId": "074faf74-4ba4-4664-a945-6698437895cf"
      },
      "execution_count": 10,
      "outputs": [
        {
          "output_type": "stream",
          "name": "stdout",
          "text": [
            "Standardized Normal Value: -0.4641890315786327\n"
          ]
        }
      ]
    },
    {
      "cell_type": "code",
      "source": [
        "#If we observe the negavtive z-distribution chart\n",
        "#we will get around 0.32276 approx\n",
        "import scipy.stats as st\n",
        "prob = st.norm.cdf(z)\n",
        "print(prob)"
      ],
      "metadata": {
        "colab": {
          "base_uri": "https://localhost:8080/"
        },
        "id": "s0xp7K9KEmva",
        "outputId": "48a1afd0-8398-4e31-9a77-6532ff037507"
      },
      "execution_count": 11,
      "outputs": [
        {
          "output_type": "stream",
          "name": "stdout",
          "text": [
            "0.32125615944296326\n"
          ]
        }
      ]
    },
    {
      "cell_type": "code",
      "source": [],
      "metadata": {
        "id": "jOr2rVmhFTb2"
      },
      "execution_count": null,
      "outputs": []
    }
  ]
}